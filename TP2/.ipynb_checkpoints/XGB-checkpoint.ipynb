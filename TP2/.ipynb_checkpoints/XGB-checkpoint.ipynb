{
 "cells": [
  {
   "cell_type": "code",
   "execution_count": 19,
   "metadata": {},
   "outputs": [],
   "source": [
    "#IMPORTS\n",
    "%run Functions.ipynb\n",
    "%run ../datuslib.ipynb\n",
    "import pandas as pd\n",
    "import string\n",
    "import numpy as np\n",
    "import random\n",
    "import seaborn as sns\n",
    "import matplotlib\n",
    "import matplotlib.pyplot as plt\n",
    "import warnings\n",
    "import time\n",
    "import category_encoders as ce\n",
    "\n",
    "from sklearn.metrics import f1_score\n",
    "from sklearn.neighbors import KNeighborsClassifier\n",
    "from sklearn.model_selection import train_test_split\n",
    "from sklearn.linear_model import LogisticRegression\n",
    "from sklearn.preprocessing import OneHotEncoder "
   ]
  },
  {
   "cell_type": "code",
   "execution_count": 20,
   "metadata": {},
   "outputs": [],
   "source": [
    "#CARGA DATA\n",
    "#negativity = pd.read_csv(\"../Axel/tweets_con_negatividad.csv\")\n",
    "train = pd.read_csv(\"Data/train.csv\")\n",
    "#train[\"negativity\"] = negativity[\"negativity\"]\n",
    "\n",
    "to_predict = pd.read_csv(\"Data/test.csv\")"
   ]
  },
  {
   "cell_type": "markdown",
   "metadata": {},
   "source": [
    "### Features y Encoder"
   ]
  },
  {
   "cell_type": "code",
   "execution_count": 21,
   "metadata": {},
   "outputs": [
    {
     "name": "stderr",
     "output_type": "stream",
     "text": [
      "c:\\users\\hal9000\\appdata\\local\\programs\\python\\python37\\lib\\site-packages\\ipykernel_launcher.py:10: SettingWithCopyWarning: \n",
      "A value is trying to be set on a copy of a slice from a DataFrame\n",
      "\n",
      "See the caveats in the documentation: http://pandas.pydata.org/pandas-docs/stable/user_guide/indexing.html#returning-a-view-versus-a-copy\n",
      "  # Remove the CWD from sys.path while we load stuff.\n"
     ]
    }
   ],
   "source": [
    "train.fillna(\"Nothing\", inplace= True)\n",
    "features(train, to_predict)\n",
    "keyword_in_text(train)\n",
    "\n",
    "train.drop(columns=[\"id\"], axis=1,inplace = True)\n",
    "\n",
    "train.drop(columns=[\"location\"], axis=1,inplace = True)\n",
    "\n",
    "train['keyword'] = train['keyword'].str.replace('%',' ')\n",
    "train['keyword'] = train['keyword'].str.replace('2','')\n",
    "train['keyword'] = train['keyword'].str.replace('0','')\n",
    "train.drop(columns=[\"text\"], axis=1,inplace = True)"
   ]
  },
  {
   "cell_type": "code",
   "execution_count": 22,
   "metadata": {},
   "outputs": [],
   "source": [
    "train[\"Tiene_key_impor\"] = (train[\"keyword\"] == \"wreckage\") | (train[\"keyword\"] == \"debris\") | (train[\"keyword\"] == \"derailment\") \n",
    "#| (train[\"keyword\"] == \"outbreak\") | (train[\"keyword\"] == \"oil split\")\\\n",
    "#| (train[\"keyword\"] == \"typhoon\") | (train[\"keyword\"] == \"suicide bombing\") | (train[\"keyword\"] == \"suicide bomber\")\n",
    "\n",
    "train[\"Tiene_key_no_impor\"] = (train[\"keyword\"] == \"aftershock\")\n",
    "\n",
    "from sklearn.preprocessing import LabelEncoder\n",
    "\n",
    "# Categorical boolean mask\n",
    "categorical_feature_mask = train.dtypes==object\n",
    "# filter categorical columns using mask and turn it into a list\n",
    "categorical_cols = train.columns[categorical_feature_mask].tolist()\n",
    "categorical_cols\n",
    "\n",
    "le = LabelEncoder()\n",
    "\n",
    "# apply le on categorical feature columns\n",
    "train[categorical_cols] = train[categorical_cols].apply(lambda col: le.fit_transform(col))"
   ]
  },
  {
   "cell_type": "code",
   "execution_count": 27,
   "metadata": {},
   "outputs": [
    {
     "data": {
      "text/html": [
       "<div>\n",
       "<style scoped>\n",
       "    .dataframe tbody tr th:only-of-type {\n",
       "        vertical-align: middle;\n",
       "    }\n",
       "\n",
       "    .dataframe tbody tr th {\n",
       "        vertical-align: top;\n",
       "    }\n",
       "\n",
       "    .dataframe thead th {\n",
       "        text-align: right;\n",
       "    }\n",
       "</style>\n",
       "<table border=\"1\" class=\"dataframe\">\n",
       "  <thead>\n",
       "    <tr style=\"text-align: right;\">\n",
       "      <th></th>\n",
       "      <th>keyword</th>\n",
       "      <th>len</th>\n",
       "      <th>word_count</th>\n",
       "      <th>unique_word_count</th>\n",
       "      <th>url_count</th>\n",
       "      <th>mean_word_length</th>\n",
       "      <th>punctuation_count</th>\n",
       "      <th>hashtag_count</th>\n",
       "      <th>mention_count</th>\n",
       "      <th>contains_keyword</th>\n",
       "      <th>Tiene_key_impor</th>\n",
       "      <th>Tiene_key_no_impor</th>\n",
       "    </tr>\n",
       "  </thead>\n",
       "  <tbody>\n",
       "    <tr>\n",
       "      <th>0</th>\n",
       "      <td>0</td>\n",
       "      <td>0.246429</td>\n",
       "      <td>0.240741</td>\n",
       "      <td>13</td>\n",
       "      <td>False</td>\n",
       "      <td>4.384615</td>\n",
       "      <td>True</td>\n",
       "      <td>1</td>\n",
       "      <td>0</td>\n",
       "      <td>False</td>\n",
       "      <td>False</td>\n",
       "      <td>False</td>\n",
       "    </tr>\n",
       "    <tr>\n",
       "      <th>1</th>\n",
       "      <td>0</td>\n",
       "      <td>0.135714</td>\n",
       "      <td>0.129630</td>\n",
       "      <td>7</td>\n",
       "      <td>False</td>\n",
       "      <td>4.571429</td>\n",
       "      <td>True</td>\n",
       "      <td>0</td>\n",
       "      <td>0</td>\n",
       "      <td>False</td>\n",
       "      <td>False</td>\n",
       "      <td>False</td>\n",
       "    </tr>\n",
       "    <tr>\n",
       "      <th>2</th>\n",
       "      <td>0</td>\n",
       "      <td>0.475000</td>\n",
       "      <td>0.407407</td>\n",
       "      <td>20</td>\n",
       "      <td>False</td>\n",
       "      <td>5.090909</td>\n",
       "      <td>True</td>\n",
       "      <td>0</td>\n",
       "      <td>0</td>\n",
       "      <td>False</td>\n",
       "      <td>False</td>\n",
       "      <td>False</td>\n",
       "    </tr>\n",
       "    <tr>\n",
       "      <th>3</th>\n",
       "      <td>0</td>\n",
       "      <td>0.232143</td>\n",
       "      <td>0.166667</td>\n",
       "      <td>8</td>\n",
       "      <td>False</td>\n",
       "      <td>7.125000</td>\n",
       "      <td>True</td>\n",
       "      <td>1</td>\n",
       "      <td>0</td>\n",
       "      <td>False</td>\n",
       "      <td>False</td>\n",
       "      <td>False</td>\n",
       "    </tr>\n",
       "    <tr>\n",
       "      <th>4</th>\n",
       "      <td>0</td>\n",
       "      <td>0.314286</td>\n",
       "      <td>0.314815</td>\n",
       "      <td>15</td>\n",
       "      <td>False</td>\n",
       "      <td>4.500000</td>\n",
       "      <td>True</td>\n",
       "      <td>2</td>\n",
       "      <td>0</td>\n",
       "      <td>False</td>\n",
       "      <td>False</td>\n",
       "      <td>False</td>\n",
       "    </tr>\n",
       "    <tr>\n",
       "      <th>...</th>\n",
       "      <td>...</td>\n",
       "      <td>...</td>\n",
       "      <td>...</td>\n",
       "      <td>...</td>\n",
       "      <td>...</td>\n",
       "      <td>...</td>\n",
       "      <td>...</td>\n",
       "      <td>...</td>\n",
       "      <td>...</td>\n",
       "      <td>...</td>\n",
       "      <td>...</td>\n",
       "      <td>...</td>\n",
       "    </tr>\n",
       "    <tr>\n",
       "      <th>7608</th>\n",
       "      <td>0</td>\n",
       "      <td>0.296429</td>\n",
       "      <td>0.203704</td>\n",
       "      <td>11</td>\n",
       "      <td>True</td>\n",
       "      <td>6.636364</td>\n",
       "      <td>True</td>\n",
       "      <td>0</td>\n",
       "      <td>0</td>\n",
       "      <td>False</td>\n",
       "      <td>False</td>\n",
       "      <td>False</td>\n",
       "    </tr>\n",
       "    <tr>\n",
       "      <th>7609</th>\n",
       "      <td>0</td>\n",
       "      <td>0.446429</td>\n",
       "      <td>0.370370</td>\n",
       "      <td>17</td>\n",
       "      <td>False</td>\n",
       "      <td>5.300000</td>\n",
       "      <td>True</td>\n",
       "      <td>0</td>\n",
       "      <td>2</td>\n",
       "      <td>False</td>\n",
       "      <td>False</td>\n",
       "      <td>False</td>\n",
       "    </tr>\n",
       "    <tr>\n",
       "      <th>7610</th>\n",
       "      <td>0</td>\n",
       "      <td>0.232143</td>\n",
       "      <td>0.148148</td>\n",
       "      <td>8</td>\n",
       "      <td>True</td>\n",
       "      <td>7.250000</td>\n",
       "      <td>True</td>\n",
       "      <td>0</td>\n",
       "      <td>0</td>\n",
       "      <td>False</td>\n",
       "      <td>False</td>\n",
       "      <td>False</td>\n",
       "    </tr>\n",
       "    <tr>\n",
       "      <th>7611</th>\n",
       "      <td>0</td>\n",
       "      <td>0.489286</td>\n",
       "      <td>0.351852</td>\n",
       "      <td>19</td>\n",
       "      <td>False</td>\n",
       "      <td>6.263158</td>\n",
       "      <td>True</td>\n",
       "      <td>0</td>\n",
       "      <td>0</td>\n",
       "      <td>False</td>\n",
       "      <td>False</td>\n",
       "      <td>False</td>\n",
       "    </tr>\n",
       "    <tr>\n",
       "      <th>7612</th>\n",
       "      <td>0</td>\n",
       "      <td>0.335714</td>\n",
       "      <td>0.240741</td>\n",
       "      <td>13</td>\n",
       "      <td>True</td>\n",
       "      <td>6.307692</td>\n",
       "      <td>True</td>\n",
       "      <td>0</td>\n",
       "      <td>0</td>\n",
       "      <td>False</td>\n",
       "      <td>False</td>\n",
       "      <td>False</td>\n",
       "    </tr>\n",
       "  </tbody>\n",
       "</table>\n",
       "<p>7613 rows × 12 columns</p>\n",
       "</div>"
      ],
      "text/plain": [
       "      keyword       len  word_count  unique_word_count  url_count  \\\n",
       "0           0  0.246429    0.240741                 13      False   \n",
       "1           0  0.135714    0.129630                  7      False   \n",
       "2           0  0.475000    0.407407                 20      False   \n",
       "3           0  0.232143    0.166667                  8      False   \n",
       "4           0  0.314286    0.314815                 15      False   \n",
       "...       ...       ...         ...                ...        ...   \n",
       "7608        0  0.296429    0.203704                 11       True   \n",
       "7609        0  0.446429    0.370370                 17      False   \n",
       "7610        0  0.232143    0.148148                  8       True   \n",
       "7611        0  0.489286    0.351852                 19      False   \n",
       "7612        0  0.335714    0.240741                 13       True   \n",
       "\n",
       "      mean_word_length  punctuation_count  hashtag_count  mention_count  \\\n",
       "0             4.384615               True              1              0   \n",
       "1             4.571429               True              0              0   \n",
       "2             5.090909               True              0              0   \n",
       "3             7.125000               True              1              0   \n",
       "4             4.500000               True              2              0   \n",
       "...                ...                ...            ...            ...   \n",
       "7608          6.636364               True              0              0   \n",
       "7609          5.300000               True              0              2   \n",
       "7610          7.250000               True              0              0   \n",
       "7611          6.263158               True              0              0   \n",
       "7612          6.307692               True              0              0   \n",
       "\n",
       "      contains_keyword  Tiene_key_impor  Tiene_key_no_impor  \n",
       "0                False            False               False  \n",
       "1                False            False               False  \n",
       "2                False            False               False  \n",
       "3                False            False               False  \n",
       "4                False            False               False  \n",
       "...                ...              ...                 ...  \n",
       "7608             False            False               False  \n",
       "7609             False            False               False  \n",
       "7610             False            False               False  \n",
       "7611             False            False               False  \n",
       "7612             False            False               False  \n",
       "\n",
       "[7613 rows x 12 columns]"
      ]
     },
     "execution_count": 27,
     "metadata": {},
     "output_type": "execute_result"
    }
   ],
   "source": [
    "x"
   ]
  },
  {
   "cell_type": "code",
   "execution_count": 23,
   "metadata": {},
   "outputs": [
    {
     "name": "stdout",
     "output_type": "stream",
     "text": [
      "Original shapes: X=(7613, 12) y=(7613,)\n",
      "Train shapes: X=(6090, 12) y=(6090,)\n",
      "Test  shapes: X=(1523, 12)  y=(1523,)\n"
     ]
    }
   ],
   "source": [
    "x = train[train.columns.drop(\"target\")]\n",
    "y = train['target']\n",
    "\n",
    "x_train, x_test, y_train, y_test = train_test_split(x, y, test_size=0.20)\n",
    "\n",
    "print(f\"Original shapes: X={x.shape} y={y.shape}\")\n",
    "print(f\"Train shapes: X={x_train.shape} y={y_train.shape}\")\n",
    "print(f\"Test  shapes: X={x_test.shape}  y={y_test.shape}\")"
   ]
  },
  {
   "cell_type": "markdown",
   "metadata": {},
   "source": [
    "### XGBOOST"
   ]
  },
  {
   "cell_type": "code",
   "execution_count": 24,
   "metadata": {},
   "outputs": [
    {
     "data": {
      "text/plain": [
       "XGBClassifier(base_score=0.5, booster='gbtree', colsample_bylevel=1,\n",
       "              colsample_bynode=1, colsample_bytree=0.5, gamma=1,\n",
       "              learning_rate=0.01, max_delta_step=0, max_depth=40,\n",
       "              min_child_weight=1, missing=None, n_estimators=300, n_jobs=6,\n",
       "              nthread=None, objective='binary:logistic', random_state=0,\n",
       "              reg_alpha=0, reg_lambda=1, scale_pos_weight=1, seed=None,\n",
       "              silent=None, subsample=1, verbosity=1)"
      ]
     },
     "execution_count": 24,
     "metadata": {},
     "output_type": "execute_result"
    }
   ],
   "source": [
    "from xgboost import XGBClassifier\n",
    "\n",
    "model = XGBClassifier(n_estimators=300,n_jobs=6,objective=\"binary:logistic\",\n",
    "                     max_depth= 40,min_child_weight = 1,colsample_bytree=0.5,\n",
    "                     gamma=1, learning_rate=0.01, subsample=1)\n",
    "model"
   ]
  },
  {
   "cell_type": "code",
   "execution_count": 25,
   "metadata": {},
   "outputs": [
    {
     "name": "stdout",
     "output_type": "stream",
     "text": [
      "--- 1.9654417037963867 seconds ---\n"
     ]
    }
   ],
   "source": [
    "start_time = time.time()\n",
    "model.fit(x_train, y_train)\n",
    "\n",
    "print(\"--- %s seconds ---\" % (time.time() - start_time))"
   ]
  },
  {
   "cell_type": "code",
   "execution_count": 26,
   "metadata": {},
   "outputs": [
    {
     "name": "stdout",
     "output_type": "stream",
     "text": [
      "Entrenamiento: 92.5452%\n",
      "Testeo: 71.6349%.\n",
      "F1 score: 0.7163.\n",
      "   \n"
     ]
    },
    {
     "data": {
      "text/plain": [
       "0.7163493105712411"
      ]
     },
     "execution_count": 26,
     "metadata": {},
     "output_type": "execute_result"
    }
   ],
   "source": [
    "predecir(model, x_train, y_train, x_test, y_test)"
   ]
  },
  {
   "cell_type": "markdown",
   "metadata": {},
   "source": [
    "### Predecir"
   ]
  },
  {
   "cell_type": "markdown",
   "metadata": {},
   "source": [
    "### Completo Features\n"
   ]
  },
  {
   "cell_type": "code",
   "execution_count": 28,
   "metadata": {},
   "outputs": [
    {
     "name": "stderr",
     "output_type": "stream",
     "text": [
      "c:\\users\\hal9000\\appdata\\local\\programs\\python\\python37\\lib\\site-packages\\ipykernel_launcher.py:10: SettingWithCopyWarning: \n",
      "A value is trying to be set on a copy of a slice from a DataFrame\n",
      "\n",
      "See the caveats in the documentation: http://pandas.pydata.org/pandas-docs/stable/user_guide/indexing.html#returning-a-view-versus-a-copy\n",
      "  # Remove the CWD from sys.path while we load stuff.\n"
     ]
    }
   ],
   "source": [
    "to_predict.fillna(\"Nothing\", inplace= True)\n",
    "keyword_in_text(to_predict)\n",
    "\n",
    "ids = to_predict[\"id\"]\n",
    "\n",
    "to_predict.drop(columns=[\"id\"], axis=1,inplace = True)\n",
    "to_predict.drop(columns=[\"location\"], axis=1,inplace = True)\n",
    "\n",
    "to_predict['keyword'] = to_predict['keyword'].str.replace('%',' ')\n",
    "to_predict['keyword'] = to_predict['keyword'].str.replace('2','')\n",
    "to_predict['keyword'] = to_predict['keyword'].str.replace('0','')\n",
    "\n",
    "#importance(to_predict)\n",
    "to_predict.drop(columns=[\"text\"], axis=1,inplace = True)"
   ]
  },
  {
   "cell_type": "code",
   "execution_count": 29,
   "metadata": {},
   "outputs": [],
   "source": [
    "to_predict[\"Tiene_key_impor\"] = (to_predict[\"keyword\"] == \"wreckage\") | (to_predict[\"keyword\"] == \"debris\")\\\n",
    "| (to_predict[\"keyword\"] == \"derailment\")\n",
    "#| (to_predict[\"keyword\"] == \"outbreak\")\\\n",
    "#| (to_predict[\"keyword\"] == \"oil split\") | (to_predict[\"keyword\"] == \"typhoon\") \\\n",
    "#| (to_predict[\"keyword\"] == \"suicide bombing\") | (to_predict[\"keyword\"] == \"suicide bomber\")\n",
    "\n",
    "to_predict[\"Tiene_key_no_impor\"] = (to_predict[\"keyword\"] == \"aftershock\")\n",
    "\n",
    "# Categorical boolean mask\n",
    "categorical_feature_mask = to_predict.dtypes==object\n",
    "# filter categorical columns using mask and turn it into a list\n",
    "categorical_cols = to_predict.columns[categorical_feature_mask].tolist()\n",
    "categorical_cols\n",
    "\n",
    "le = LabelEncoder()\n",
    "\n",
    "# apply le on categorical feature columns\n",
    "to_predict[categorical_cols] = to_predict[categorical_cols].apply(lambda col: le.fit_transform(col))"
   ]
  },
  {
   "cell_type": "code",
   "execution_count": null,
   "metadata": {},
   "outputs": [],
   "source": []
  },
  {
   "cell_type": "code",
   "execution_count": 30,
   "metadata": {},
   "outputs": [],
   "source": [
    "best_predict = model.predict( to_predict )"
   ]
  },
  {
   "cell_type": "code",
   "execution_count": null,
   "metadata": {},
   "outputs": [],
   "source": []
  },
  {
   "cell_type": "markdown",
   "metadata": {},
   "source": [
    "### Compruebo el F1 Score"
   ]
  },
  {
   "cell_type": "code",
   "execution_count": 31,
   "metadata": {},
   "outputs": [
    {
     "name": "stdout",
     "output_type": "stream",
     "text": [
      "F1 Score:  0.7238737358259271\n"
     ]
    }
   ],
   "source": [
    "comprobar(best_predict)"
   ]
  },
  {
   "cell_type": "code",
   "execution_count": null,
   "metadata": {},
   "outputs": [],
   "source": []
  },
  {
   "cell_type": "markdown",
   "metadata": {},
   "source": [
    "### TUNNING"
   ]
  },
  {
   "cell_type": "code",
   "execution_count": 32,
   "metadata": {},
   "outputs": [],
   "source": [
    "from sklearn.model_selection import GridSearchCV\n",
    "\n",
    "from xgboost import XGBClassifier\n",
    "\n",
    "param_test = {\n",
    "    'n_estimators':range(100, 1000, 100),   \n",
    "    'learning_rate':(0.01,0.02,0.03,0.04,0.05,0.06,0.07,0.08,0.09,0.1)\n",
    "   # 'subsample':[0.7,1],\n",
    "   # 'gamma':[1,15,30],\n",
    "   # 'colsample_bytree':[0.5,1.0],\n",
    "  #  'max_depth':range(5,50,5)\n",
    "  #  'min_child_weight' : range(1,10,1) \n",
    "}\n",
    "\n",
    "search = GridSearchCV(\n",
    "        estimator = XGBClassifier(max_depth = 40,objective=\"binary:logistic\",colsample_bytree=0.5, gamma=1, subsample=1),\n",
    "        param_grid = param_test,\n",
    "        n_jobs=4,\n",
    "        cv=3,\n",
    "        verbose=10)\n"
   ]
  },
  {
   "cell_type": "code",
   "execution_count": 33,
   "metadata": {},
   "outputs": [
    {
     "name": "stdout",
     "output_type": "stream",
     "text": [
      "Fitting 3 folds for each of 90 candidates, totalling 270 fits\n"
     ]
    },
    {
     "name": "stderr",
     "output_type": "stream",
     "text": [
      "[Parallel(n_jobs=4)]: Using backend LokyBackend with 4 concurrent workers.\n",
      "[Parallel(n_jobs=4)]: Done   5 tasks      | elapsed:    5.6s\n",
      "[Parallel(n_jobs=4)]: Done  10 tasks      | elapsed:   11.4s\n",
      "[Parallel(n_jobs=4)]: Done  17 tasks      | elapsed:   25.9s\n",
      "[Parallel(n_jobs=4)]: Done  24 tasks      | elapsed:   46.1s\n",
      "[Parallel(n_jobs=4)]: Done  33 tasks      | elapsed:   57.2s\n",
      "[Parallel(n_jobs=4)]: Done  42 tasks      | elapsed:  1.2min\n",
      "[Parallel(n_jobs=4)]: Done  53 tasks      | elapsed:  1.7min\n",
      "[Parallel(n_jobs=4)]: Done  64 tasks      | elapsed:  2.0min\n",
      "[Parallel(n_jobs=4)]: Done  77 tasks      | elapsed:  2.6min\n",
      "[Parallel(n_jobs=4)]: Done  90 tasks      | elapsed:  2.9min\n",
      "[Parallel(n_jobs=4)]: Done 105 tasks      | elapsed:  3.6min\n",
      "[Parallel(n_jobs=4)]: Done 120 tasks      | elapsed:  3.9min\n",
      "[Parallel(n_jobs=4)]: Done 137 tasks      | elapsed:  4.6min\n",
      "[Parallel(n_jobs=4)]: Done 154 tasks      | elapsed:  5.1min\n",
      "[Parallel(n_jobs=4)]: Done 173 tasks      | elapsed:  5.7min\n",
      "[Parallel(n_jobs=4)]: Done 192 tasks      | elapsed:  6.4min\n",
      "[Parallel(n_jobs=4)]: Done 213 tasks      | elapsed:  7.2min\n",
      "[Parallel(n_jobs=4)]: Done 234 tasks      | elapsed:  7.8min\n",
      "[Parallel(n_jobs=4)]: Done 257 tasks      | elapsed:  8.5min\n",
      "[Parallel(n_jobs=4)]: Done 270 out of 270 | elapsed:  9.1min finished\n"
     ]
    },
    {
     "data": {
      "text/plain": [
       "GridSearchCV(cv=3, error_score='raise-deprecating',\n",
       "             estimator=XGBClassifier(base_score=0.5, booster='gbtree',\n",
       "                                     colsample_bylevel=1, colsample_bynode=1,\n",
       "                                     colsample_bytree=0.5, gamma=1,\n",
       "                                     learning_rate=0.1, max_delta_step=0,\n",
       "                                     max_depth=40, min_child_weight=1,\n",
       "                                     missing=None, n_estimators=100, n_jobs=1,\n",
       "                                     nthread=None, objective='binary:logistic',\n",
       "                                     random_state=0, reg_alpha=0, reg_lambda=1,\n",
       "                                     scale_pos_weight=1, seed=None, silent=None,\n",
       "                                     subsample=1, verbosity=1),\n",
       "             iid='warn', n_jobs=4,\n",
       "             param_grid={'learning_rate': (0.01, 0.02, 0.03, 0.04, 0.05, 0.06,\n",
       "                                           0.07, 0.08, 0.09, 0.1),\n",
       "                         'n_estimators': range(100, 1000, 100)},\n",
       "             pre_dispatch='2*n_jobs', refit=True, return_train_score=False,\n",
       "             scoring=None, verbose=10)"
      ]
     },
     "execution_count": 33,
     "metadata": {},
     "output_type": "execute_result"
    }
   ],
   "source": [
    "search.fit(x_train,y_train)"
   ]
  },
  {
   "cell_type": "code",
   "execution_count": 34,
   "metadata": {},
   "outputs": [
    {
     "data": {
      "text/plain": [
       "({'learning_rate': 0.1, 'n_estimators': 100}, 0.7315270935960592)"
      ]
     },
     "execution_count": 34,
     "metadata": {},
     "output_type": "execute_result"
    }
   ],
   "source": [
    "search.best_params_, search.best_score_"
   ]
  },
  {
   "cell_type": "code",
   "execution_count": 35,
   "metadata": {},
   "outputs": [],
   "source": [
    "model = search.best_estimator_"
   ]
  },
  {
   "cell_type": "code",
   "execution_count": 36,
   "metadata": {},
   "outputs": [],
   "source": [
    "best_predict = model.predict( to_predict )"
   ]
  },
  {
   "cell_type": "code",
   "execution_count": 37,
   "metadata": {},
   "outputs": [
    {
     "name": "stdout",
     "output_type": "stream",
     "text": [
      "F1 Score:  0.7229543365001533\n"
     ]
    }
   ],
   "source": [
    "comprobar(best_predict)"
   ]
  },
  {
   "cell_type": "markdown",
   "metadata": {},
   "source": [
    "#### Tunning"
   ]
  },
  {
   "cell_type": "code",
   "execution_count": 39,
   "metadata": {},
   "outputs": [],
   "source": [
    "from sklearn.model_selection import GridSearchCV\n",
    "\n",
    "from xgboost import XGBClassifier\n",
    "\n",
    "param_test = {\n",
    "  #  'n_estimators':range(100, 1000, 100),   \n",
    "   # 'learning_rate':(0.01,0.02,0.03,0.04,0.05,0.06,0.07,0.08,0.09,0.1)\n",
    "   # 'subsample':[0.7,1],\n",
    "   # 'gamma':[1,15,30],\n",
    "   # 'colsample_bytree':[0.5,1.0],\n",
    "    'max_depth':range(5,50,5),\n",
    "    'min_child_weight' : range(1,10,1) \n",
    "}\n",
    "\n",
    "search = GridSearchCV(\n",
    "        estimator = XGBClassifier(learning_rate=0.1,n_estimators=100,objective=\"binary:logistic\",colsample_bytree=0.5, gamma=1, subsample=1),\n",
    "        param_grid = param_test,\n",
    "        n_jobs=4,\n",
    "        cv=3,\n",
    "        verbose=10)"
   ]
  },
  {
   "cell_type": "code",
   "execution_count": 40,
   "metadata": {},
   "outputs": [
    {
     "name": "stdout",
     "output_type": "stream",
     "text": [
      "Fitting 3 folds for each of 81 candidates, totalling 243 fits\n"
     ]
    },
    {
     "name": "stderr",
     "output_type": "stream",
     "text": [
      "[Parallel(n_jobs=4)]: Using backend LokyBackend with 4 concurrent workers.\n",
      "[Parallel(n_jobs=4)]: Done   5 tasks      | elapsed:    2.6s\n",
      "[Parallel(n_jobs=4)]: Done  10 tasks      | elapsed:    3.0s\n",
      "[Parallel(n_jobs=4)]: Done  17 tasks      | elapsed:    3.8s\n",
      "[Parallel(n_jobs=4)]: Done  24 tasks      | elapsed:    4.3s\n",
      "[Parallel(n_jobs=4)]: Done  33 tasks      | elapsed:    5.8s\n",
      "[Parallel(n_jobs=4)]: Done  42 tasks      | elapsed:    7.0s\n",
      "[Parallel(n_jobs=4)]: Done  53 tasks      | elapsed:    8.7s\n",
      "[Parallel(n_jobs=4)]: Done  64 tasks      | elapsed:   11.0s\n",
      "[Parallel(n_jobs=4)]: Done  77 tasks      | elapsed:   13.6s\n",
      "[Parallel(n_jobs=4)]: Done  90 tasks      | elapsed:   17.1s\n",
      "[Parallel(n_jobs=4)]: Done 105 tasks      | elapsed:   20.4s\n",
      "[Parallel(n_jobs=4)]: Done 120 tasks      | elapsed:   24.6s\n",
      "[Parallel(n_jobs=4)]: Done 137 tasks      | elapsed:   29.1s\n",
      "[Parallel(n_jobs=4)]: Done 154 tasks      | elapsed:   34.3s\n",
      "[Parallel(n_jobs=4)]: Done 173 tasks      | elapsed:   40.0s\n",
      "[Parallel(n_jobs=4)]: Done 192 tasks      | elapsed:   45.8s\n",
      "[Parallel(n_jobs=4)]: Done 213 tasks      | elapsed:   51.8s\n",
      "[Parallel(n_jobs=4)]: Done 234 tasks      | elapsed:   59.1s\n",
      "[Parallel(n_jobs=4)]: Done 243 out of 243 | elapsed:  1.0min finished\n"
     ]
    },
    {
     "data": {
      "text/plain": [
       "GridSearchCV(cv=3, error_score='raise-deprecating',\n",
       "             estimator=XGBClassifier(base_score=0.5, booster='gbtree',\n",
       "                                     colsample_bylevel=1, colsample_bynode=1,\n",
       "                                     colsample_bytree=0.5, gamma=1,\n",
       "                                     learning_rate=0.1, max_delta_step=0,\n",
       "                                     max_depth=3, min_child_weight=1,\n",
       "                                     missing=None, n_estimators=100, n_jobs=1,\n",
       "                                     nthread=None, objective='binary:logistic',\n",
       "                                     random_state=0, reg_alpha=0, reg_lambda=1,\n",
       "                                     scale_pos_weight=1, seed=None, silent=None,\n",
       "                                     subsample=1, verbosity=1),\n",
       "             iid='warn', n_jobs=4,\n",
       "             param_grid={'max_depth': range(5, 50, 5),\n",
       "                         'min_child_weight': range(1, 10)},\n",
       "             pre_dispatch='2*n_jobs', refit=True, return_train_score=False,\n",
       "             scoring=None, verbose=10)"
      ]
     },
     "execution_count": 40,
     "metadata": {},
     "output_type": "execute_result"
    }
   ],
   "source": [
    "search.fit(x_train,y_train)"
   ]
  },
  {
   "cell_type": "code",
   "execution_count": 41,
   "metadata": {},
   "outputs": [
    {
     "data": {
      "text/plain": [
       "({'max_depth': 40, 'min_child_weight': 1}, 0.7315270935960592)"
      ]
     },
     "execution_count": 41,
     "metadata": {},
     "output_type": "execute_result"
    }
   ],
   "source": [
    "search.best_params_, search.best_score_"
   ]
  },
  {
   "cell_type": "code",
   "execution_count": 42,
   "metadata": {},
   "outputs": [],
   "source": [
    "model = search.best_estimator_"
   ]
  },
  {
   "cell_type": "code",
   "execution_count": 43,
   "metadata": {},
   "outputs": [],
   "source": [
    "best_predict = model.predict( to_predict )"
   ]
  },
  {
   "cell_type": "code",
   "execution_count": 44,
   "metadata": {},
   "outputs": [
    {
     "name": "stdout",
     "output_type": "stream",
     "text": [
      "F1 Score:  0.7229543365001533\n"
     ]
    }
   ],
   "source": [
    "comprobar(best_predict)"
   ]
  },
  {
   "cell_type": "code",
   "execution_count": null,
   "metadata": {},
   "outputs": [],
   "source": []
  },
  {
   "cell_type": "code",
   "execution_count": null,
   "metadata": {},
   "outputs": [],
   "source": []
  },
  {
   "cell_type": "markdown",
   "metadata": {},
   "source": [
    "#### Guardo Submission"
   ]
  },
  {
   "cell_type": "code",
   "execution_count": 45,
   "metadata": {},
   "outputs": [
    {
     "data": {
      "text/html": [
       "<div>\n",
       "<style scoped>\n",
       "    .dataframe tbody tr th:only-of-type {\n",
       "        vertical-align: middle;\n",
       "    }\n",
       "\n",
       "    .dataframe tbody tr th {\n",
       "        vertical-align: top;\n",
       "    }\n",
       "\n",
       "    .dataframe thead th {\n",
       "        text-align: right;\n",
       "    }\n",
       "</style>\n",
       "<table border=\"1\" class=\"dataframe\">\n",
       "  <thead>\n",
       "    <tr style=\"text-align: right;\">\n",
       "      <th></th>\n",
       "      <th>id</th>\n",
       "      <th>target</th>\n",
       "    </tr>\n",
       "  </thead>\n",
       "  <tbody>\n",
       "    <tr>\n",
       "      <th>0</th>\n",
       "      <td>0</td>\n",
       "      <td>0</td>\n",
       "    </tr>\n",
       "    <tr>\n",
       "      <th>1</th>\n",
       "      <td>2</td>\n",
       "      <td>1</td>\n",
       "    </tr>\n",
       "    <tr>\n",
       "      <th>2</th>\n",
       "      <td>3</td>\n",
       "      <td>1</td>\n",
       "    </tr>\n",
       "    <tr>\n",
       "      <th>3</th>\n",
       "      <td>9</td>\n",
       "      <td>0</td>\n",
       "    </tr>\n",
       "    <tr>\n",
       "      <th>4</th>\n",
       "      <td>11</td>\n",
       "      <td>1</td>\n",
       "    </tr>\n",
       "    <tr>\n",
       "      <th>...</th>\n",
       "      <td>...</td>\n",
       "      <td>...</td>\n",
       "    </tr>\n",
       "    <tr>\n",
       "      <th>3258</th>\n",
       "      <td>10861</td>\n",
       "      <td>1</td>\n",
       "    </tr>\n",
       "    <tr>\n",
       "      <th>3259</th>\n",
       "      <td>10865</td>\n",
       "      <td>1</td>\n",
       "    </tr>\n",
       "    <tr>\n",
       "      <th>3260</th>\n",
       "      <td>10868</td>\n",
       "      <td>1</td>\n",
       "    </tr>\n",
       "    <tr>\n",
       "      <th>3261</th>\n",
       "      <td>10874</td>\n",
       "      <td>1</td>\n",
       "    </tr>\n",
       "    <tr>\n",
       "      <th>3262</th>\n",
       "      <td>10875</td>\n",
       "      <td>1</td>\n",
       "    </tr>\n",
       "  </tbody>\n",
       "</table>\n",
       "<p>3263 rows × 2 columns</p>\n",
       "</div>"
      ],
      "text/plain": [
       "         id  target\n",
       "0         0       0\n",
       "1         2       1\n",
       "2         3       1\n",
       "3         9       0\n",
       "4        11       1\n",
       "...     ...     ...\n",
       "3258  10861       1\n",
       "3259  10865       1\n",
       "3260  10868       1\n",
       "3261  10874       1\n",
       "3262  10875       1\n",
       "\n",
       "[3263 rows x 2 columns]"
      ]
     },
     "execution_count": 45,
     "metadata": {},
     "output_type": "execute_result"
    }
   ],
   "source": [
    "result = submission_output(ids, best_predict,\"XGB v1.csv\")\n",
    "result"
   ]
  },
  {
   "cell_type": "code",
   "execution_count": null,
   "metadata": {},
   "outputs": [],
   "source": []
  }
 ],
 "metadata": {
  "kernelspec": {
   "display_name": "Python 3",
   "language": "python",
   "name": "python3"
  },
  "language_info": {
   "codemirror_mode": {
    "name": "ipython",
    "version": 3
   },
   "file_extension": ".py",
   "mimetype": "text/x-python",
   "name": "python",
   "nbconvert_exporter": "python",
   "pygments_lexer": "ipython3",
   "version": "3.6.9"
  }
 },
 "nbformat": 4,
 "nbformat_minor": 2
}
