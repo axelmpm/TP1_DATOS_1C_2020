{
 "cells": [
  {
   "cell_type": "code",
   "execution_count": 1,
   "metadata": {},
   "outputs": [],
   "source": [
    "#IMPORTS\n",
    "%run Functions.ipynb\n",
    "%run ../datuslib.ipynb\n",
    "import pandas as pd\n",
    "import numpy as np\n",
    "from sklearn.preprocessing import MinMaxScaler\n",
    "from sklearn.metrics import f1_score\n",
    "from sklearn.model_selection import GridSearchCV\n",
    "\n",
    "import warnings\n",
    "warnings.simplefilter(action='ignore', category=FutureWarning)"
   ]
  },
  {
   "cell_type": "markdown",
   "metadata": {},
   "source": [
    "# CARGO LOS FEATURES"
   ]
  },
  {
   "cell_type": "code",
   "execution_count": 2,
   "metadata": {},
   "outputs": [
    {
     "name": "stdout",
     "output_type": "stream",
     "text": [
      "(3263, 204)\n"
     ]
    },
    {
     "data": {
      "text/html": [
       "<div>\n",
       "<style scoped>\n",
       "    .dataframe tbody tr th:only-of-type {\n",
       "        vertical-align: middle;\n",
       "    }\n",
       "\n",
       "    .dataframe tbody tr th {\n",
       "        vertical-align: top;\n",
       "    }\n",
       "\n",
       "    .dataframe thead th {\n",
       "        text-align: right;\n",
       "    }\n",
       "</style>\n",
       "<table border=\"1\" class=\"dataframe\">\n",
       "  <thead>\n",
       "    <tr style=\"text-align: right;\">\n",
       "      <th></th>\n",
       "      <th>len</th>\n",
       "      <th>word_count</th>\n",
       "      <th>unique_word_count</th>\n",
       "      <th>url_count</th>\n",
       "      <th>mean_word_length</th>\n",
       "      <th>hashtag_count</th>\n",
       "      <th>mention_count</th>\n",
       "      <th>key_bit0</th>\n",
       "      <th>key_bit1</th>\n",
       "      <th>key_bit2</th>\n",
       "      <th>...</th>\n",
       "      <th>Tiene_deaths</th>\n",
       "      <th>Tiene_climate</th>\n",
       "      <th>Tiene_plague</th>\n",
       "      <th>Tiene_disappearance</th>\n",
       "      <th>Tiene_missing</th>\n",
       "      <th>Tiene_floods</th>\n",
       "      <th>Tiene_delug</th>\n",
       "      <th>contains_keyword</th>\n",
       "      <th>Tiene_key_impor</th>\n",
       "      <th>Tiene_key_no_impor</th>\n",
       "    </tr>\n",
       "  </thead>\n",
       "  <tbody>\n",
       "    <tr>\n",
       "      <th>0</th>\n",
       "      <td>0.121429</td>\n",
       "      <td>6</td>\n",
       "      <td>6</td>\n",
       "      <td>0</td>\n",
       "      <td>4.833333</td>\n",
       "      <td>0</td>\n",
       "      <td>0</td>\n",
       "      <td>0</td>\n",
       "      <td>0</td>\n",
       "      <td>0</td>\n",
       "      <td>...</td>\n",
       "      <td>0</td>\n",
       "      <td>0</td>\n",
       "      <td>0</td>\n",
       "      <td>0</td>\n",
       "      <td>0</td>\n",
       "      <td>0</td>\n",
       "      <td>0</td>\n",
       "      <td>0</td>\n",
       "      <td>0</td>\n",
       "      <td>0</td>\n",
       "    </tr>\n",
       "    <tr>\n",
       "      <th>1</th>\n",
       "      <td>0.228571</td>\n",
       "      <td>9</td>\n",
       "      <td>9</td>\n",
       "      <td>0</td>\n",
       "      <td>6.222222</td>\n",
       "      <td>1</td>\n",
       "      <td>0</td>\n",
       "      <td>0</td>\n",
       "      <td>0</td>\n",
       "      <td>0</td>\n",
       "      <td>...</td>\n",
       "      <td>0</td>\n",
       "      <td>0</td>\n",
       "      <td>0</td>\n",
       "      <td>0</td>\n",
       "      <td>0</td>\n",
       "      <td>0</td>\n",
       "      <td>0</td>\n",
       "      <td>0</td>\n",
       "      <td>0</td>\n",
       "      <td>0</td>\n",
       "    </tr>\n",
       "    <tr>\n",
       "      <th>2</th>\n",
       "      <td>0.342857</td>\n",
       "      <td>19</td>\n",
       "      <td>19</td>\n",
       "      <td>0</td>\n",
       "      <td>4.105263</td>\n",
       "      <td>0</td>\n",
       "      <td>0</td>\n",
       "      <td>0</td>\n",
       "      <td>0</td>\n",
       "      <td>0</td>\n",
       "      <td>...</td>\n",
       "      <td>0</td>\n",
       "      <td>0</td>\n",
       "      <td>0</td>\n",
       "      <td>0</td>\n",
       "      <td>0</td>\n",
       "      <td>0</td>\n",
       "      <td>0</td>\n",
       "      <td>0</td>\n",
       "      <td>0</td>\n",
       "      <td>0</td>\n",
       "    </tr>\n",
       "    <tr>\n",
       "      <th>3</th>\n",
       "      <td>0.142857</td>\n",
       "      <td>4</td>\n",
       "      <td>4</td>\n",
       "      <td>0</td>\n",
       "      <td>9.250000</td>\n",
       "      <td>2</td>\n",
       "      <td>0</td>\n",
       "      <td>0</td>\n",
       "      <td>0</td>\n",
       "      <td>0</td>\n",
       "      <td>...</td>\n",
       "      <td>0</td>\n",
       "      <td>0</td>\n",
       "      <td>0</td>\n",
       "      <td>0</td>\n",
       "      <td>0</td>\n",
       "      <td>0</td>\n",
       "      <td>0</td>\n",
       "      <td>0</td>\n",
       "      <td>0</td>\n",
       "      <td>0</td>\n",
       "    </tr>\n",
       "    <tr>\n",
       "      <th>4</th>\n",
       "      <td>0.160714</td>\n",
       "      <td>8</td>\n",
       "      <td>8</td>\n",
       "      <td>0</td>\n",
       "      <td>4.750000</td>\n",
       "      <td>0</td>\n",
       "      <td>0</td>\n",
       "      <td>0</td>\n",
       "      <td>0</td>\n",
       "      <td>0</td>\n",
       "      <td>...</td>\n",
       "      <td>0</td>\n",
       "      <td>0</td>\n",
       "      <td>0</td>\n",
       "      <td>0</td>\n",
       "      <td>0</td>\n",
       "      <td>0</td>\n",
       "      <td>0</td>\n",
       "      <td>0</td>\n",
       "      <td>0</td>\n",
       "      <td>0</td>\n",
       "    </tr>\n",
       "  </tbody>\n",
       "</table>\n",
       "<p>5 rows × 204 columns</p>\n",
       "</div>"
      ],
      "text/plain": [
       "        len  word_count  unique_word_count  url_count  mean_word_length  \\\n",
       "0  0.121429           6                  6          0          4.833333   \n",
       "1  0.228571           9                  9          0          6.222222   \n",
       "2  0.342857          19                 19          0          4.105263   \n",
       "3  0.142857           4                  4          0          9.250000   \n",
       "4  0.160714           8                  8          0          4.750000   \n",
       "\n",
       "   hashtag_count  mention_count  key_bit0  key_bit1  key_bit2  ...  \\\n",
       "0              0              0         0         0         0  ...   \n",
       "1              1              0         0         0         0  ...   \n",
       "2              0              0         0         0         0  ...   \n",
       "3              2              0         0         0         0  ...   \n",
       "4              0              0         0         0         0  ...   \n",
       "\n",
       "   Tiene_deaths  Tiene_climate  Tiene_plague  Tiene_disappearance  \\\n",
       "0             0              0             0                    0   \n",
       "1             0              0             0                    0   \n",
       "2             0              0             0                    0   \n",
       "3             0              0             0                    0   \n",
       "4             0              0             0                    0   \n",
       "\n",
       "   Tiene_missing  Tiene_floods  Tiene_delug  contains_keyword  \\\n",
       "0              0             0            0                 0   \n",
       "1              0             0            0                 0   \n",
       "2              0             0            0                 0   \n",
       "3              0             0            0                 0   \n",
       "4              0             0            0                 0   \n",
       "\n",
       "   Tiene_key_impor  Tiene_key_no_impor  \n",
       "0                0                   0  \n",
       "1                0                   0  \n",
       "2                0                   0  \n",
       "3                0                   0  \n",
       "4                0                   0  \n",
       "\n",
       "[5 rows x 204 columns]"
      ]
     },
     "execution_count": 2,
     "metadata": {},
     "output_type": "execute_result"
    }
   ],
   "source": [
    "to_predict=pd.read_csv('to_predict.csv')\n",
    "to_predict=to_predict*1\n",
    "print (to_predict.shape)\n",
    "to_predict.head()"
   ]
  },
  {
   "cell_type": "code",
   "execution_count": 3,
   "metadata": {},
   "outputs": [
    {
     "name": "stdout",
     "output_type": "stream",
     "text": [
      "(5709, 204)\n"
     ]
    },
    {
     "data": {
      "text/html": [
       "<div>\n",
       "<style scoped>\n",
       "    .dataframe tbody tr th:only-of-type {\n",
       "        vertical-align: middle;\n",
       "    }\n",
       "\n",
       "    .dataframe tbody tr th {\n",
       "        vertical-align: top;\n",
       "    }\n",
       "\n",
       "    .dataframe thead th {\n",
       "        text-align: right;\n",
       "    }\n",
       "</style>\n",
       "<table border=\"1\" class=\"dataframe\">\n",
       "  <thead>\n",
       "    <tr style=\"text-align: right;\">\n",
       "      <th></th>\n",
       "      <th>len</th>\n",
       "      <th>word_count</th>\n",
       "      <th>unique_word_count</th>\n",
       "      <th>url_count</th>\n",
       "      <th>mean_word_length</th>\n",
       "      <th>hashtag_count</th>\n",
       "      <th>mention_count</th>\n",
       "      <th>key_bit0</th>\n",
       "      <th>key_bit1</th>\n",
       "      <th>key_bit2</th>\n",
       "      <th>...</th>\n",
       "      <th>Tiene_deaths</th>\n",
       "      <th>Tiene_climate</th>\n",
       "      <th>Tiene_plague</th>\n",
       "      <th>Tiene_disappearance</th>\n",
       "      <th>Tiene_missing</th>\n",
       "      <th>Tiene_floods</th>\n",
       "      <th>Tiene_delug</th>\n",
       "      <th>contains_keyword</th>\n",
       "      <th>Tiene_key_impor</th>\n",
       "      <th>Tiene_key_no_impor</th>\n",
       "    </tr>\n",
       "  </thead>\n",
       "  <tbody>\n",
       "    <tr>\n",
       "      <th>0</th>\n",
       "      <td>0.485714</td>\n",
       "      <td>22</td>\n",
       "      <td>21</td>\n",
       "      <td>0</td>\n",
       "      <td>5.227273</td>\n",
       "      <td>0</td>\n",
       "      <td>2</td>\n",
       "      <td>1</td>\n",
       "      <td>0</td>\n",
       "      <td>0</td>\n",
       "      <td>...</td>\n",
       "      <td>0</td>\n",
       "      <td>0</td>\n",
       "      <td>0</td>\n",
       "      <td>0</td>\n",
       "      <td>0</td>\n",
       "      <td>0</td>\n",
       "      <td>0</td>\n",
       "      <td>1</td>\n",
       "      <td>0</td>\n",
       "      <td>0</td>\n",
       "    </tr>\n",
       "    <tr>\n",
       "      <th>1</th>\n",
       "      <td>0.457143</td>\n",
       "      <td>17</td>\n",
       "      <td>17</td>\n",
       "      <td>1</td>\n",
       "      <td>6.588235</td>\n",
       "      <td>0</td>\n",
       "      <td>1</td>\n",
       "      <td>1</td>\n",
       "      <td>0</td>\n",
       "      <td>1</td>\n",
       "      <td>...</td>\n",
       "      <td>0</td>\n",
       "      <td>0</td>\n",
       "      <td>0</td>\n",
       "      <td>0</td>\n",
       "      <td>0</td>\n",
       "      <td>0</td>\n",
       "      <td>0</td>\n",
       "      <td>0</td>\n",
       "      <td>0</td>\n",
       "      <td>0</td>\n",
       "    </tr>\n",
       "    <tr>\n",
       "      <th>2</th>\n",
       "      <td>0.489286</td>\n",
       "      <td>29</td>\n",
       "      <td>29</td>\n",
       "      <td>0</td>\n",
       "      <td>3.758621</td>\n",
       "      <td>0</td>\n",
       "      <td>0</td>\n",
       "      <td>0</td>\n",
       "      <td>1</td>\n",
       "      <td>1</td>\n",
       "      <td>...</td>\n",
       "      <td>0</td>\n",
       "      <td>0</td>\n",
       "      <td>0</td>\n",
       "      <td>0</td>\n",
       "      <td>0</td>\n",
       "      <td>0</td>\n",
       "      <td>0</td>\n",
       "      <td>1</td>\n",
       "      <td>0</td>\n",
       "      <td>0</td>\n",
       "    </tr>\n",
       "    <tr>\n",
       "      <th>3</th>\n",
       "      <td>0.189286</td>\n",
       "      <td>12</td>\n",
       "      <td>11</td>\n",
       "      <td>0</td>\n",
       "      <td>3.500000</td>\n",
       "      <td>0</td>\n",
       "      <td>0</td>\n",
       "      <td>1</td>\n",
       "      <td>1</td>\n",
       "      <td>0</td>\n",
       "      <td>...</td>\n",
       "      <td>0</td>\n",
       "      <td>0</td>\n",
       "      <td>0</td>\n",
       "      <td>0</td>\n",
       "      <td>0</td>\n",
       "      <td>0</td>\n",
       "      <td>0</td>\n",
       "      <td>1</td>\n",
       "      <td>0</td>\n",
       "      <td>0</td>\n",
       "    </tr>\n",
       "    <tr>\n",
       "      <th>4</th>\n",
       "      <td>0.189286</td>\n",
       "      <td>6</td>\n",
       "      <td>6</td>\n",
       "      <td>0</td>\n",
       "      <td>8.000000</td>\n",
       "      <td>0</td>\n",
       "      <td>0</td>\n",
       "      <td>1</td>\n",
       "      <td>1</td>\n",
       "      <td>0</td>\n",
       "      <td>...</td>\n",
       "      <td>0</td>\n",
       "      <td>0</td>\n",
       "      <td>0</td>\n",
       "      <td>0</td>\n",
       "      <td>0</td>\n",
       "      <td>0</td>\n",
       "      <td>0</td>\n",
       "      <td>1</td>\n",
       "      <td>0</td>\n",
       "      <td>0</td>\n",
       "    </tr>\n",
       "  </tbody>\n",
       "</table>\n",
       "<p>5 rows × 204 columns</p>\n",
       "</div>"
      ],
      "text/plain": [
       "        len  word_count  unique_word_count  url_count  mean_word_length  \\\n",
       "0  0.485714          22                 21          0          5.227273   \n",
       "1  0.457143          17                 17          1          6.588235   \n",
       "2  0.489286          29                 29          0          3.758621   \n",
       "3  0.189286          12                 11          0          3.500000   \n",
       "4  0.189286           6                  6          0          8.000000   \n",
       "\n",
       "   hashtag_count  mention_count  key_bit0  key_bit1  key_bit2  ...  \\\n",
       "0              0              2         1         0         0  ...   \n",
       "1              0              1         1         0         1  ...   \n",
       "2              0              0         0         1         1  ...   \n",
       "3              0              0         1         1         0  ...   \n",
       "4              0              0         1         1         0  ...   \n",
       "\n",
       "   Tiene_deaths  Tiene_climate  Tiene_plague  Tiene_disappearance  \\\n",
       "0             0              0             0                    0   \n",
       "1             0              0             0                    0   \n",
       "2             0              0             0                    0   \n",
       "3             0              0             0                    0   \n",
       "4             0              0             0                    0   \n",
       "\n",
       "   Tiene_missing  Tiene_floods  Tiene_delug  contains_keyword  \\\n",
       "0              0             0            0                 1   \n",
       "1              0             0            0                 0   \n",
       "2              0             0            0                 1   \n",
       "3              0             0            0                 1   \n",
       "4              0             0            0                 1   \n",
       "\n",
       "   Tiene_key_impor  Tiene_key_no_impor  \n",
       "0                0                   0  \n",
       "1                0                   0  \n",
       "2                0                   0  \n",
       "3                0                   0  \n",
       "4                0                   0  \n",
       "\n",
       "[5 rows x 204 columns]"
      ]
     },
     "execution_count": 3,
     "metadata": {},
     "output_type": "execute_result"
    }
   ],
   "source": [
    "x_train=pd.read_csv('x_train.csv')\n",
    "x_train=x_train*1\n",
    "print (x_train.shape)\n",
    "x_train.head()"
   ]
  },
  {
   "cell_type": "code",
   "execution_count": 4,
   "metadata": {},
   "outputs": [
    {
     "name": "stdout",
     "output_type": "stream",
     "text": [
      "(1904, 204)\n"
     ]
    },
    {
     "data": {
      "text/html": [
       "<div>\n",
       "<style scoped>\n",
       "    .dataframe tbody tr th:only-of-type {\n",
       "        vertical-align: middle;\n",
       "    }\n",
       "\n",
       "    .dataframe tbody tr th {\n",
       "        vertical-align: top;\n",
       "    }\n",
       "\n",
       "    .dataframe thead th {\n",
       "        text-align: right;\n",
       "    }\n",
       "</style>\n",
       "<table border=\"1\" class=\"dataframe\">\n",
       "  <thead>\n",
       "    <tr style=\"text-align: right;\">\n",
       "      <th></th>\n",
       "      <th>len</th>\n",
       "      <th>word_count</th>\n",
       "      <th>unique_word_count</th>\n",
       "      <th>url_count</th>\n",
       "      <th>mean_word_length</th>\n",
       "      <th>hashtag_count</th>\n",
       "      <th>mention_count</th>\n",
       "      <th>key_bit0</th>\n",
       "      <th>key_bit1</th>\n",
       "      <th>key_bit2</th>\n",
       "      <th>...</th>\n",
       "      <th>Tiene_deaths</th>\n",
       "      <th>Tiene_climate</th>\n",
       "      <th>Tiene_plague</th>\n",
       "      <th>Tiene_disappearance</th>\n",
       "      <th>Tiene_missing</th>\n",
       "      <th>Tiene_floods</th>\n",
       "      <th>Tiene_delug</th>\n",
       "      <th>contains_keyword</th>\n",
       "      <th>Tiene_key_impor</th>\n",
       "      <th>Tiene_key_no_impor</th>\n",
       "    </tr>\n",
       "  </thead>\n",
       "  <tbody>\n",
       "    <tr>\n",
       "      <th>0</th>\n",
       "      <td>0.235714</td>\n",
       "      <td>11</td>\n",
       "      <td>11</td>\n",
       "      <td>0</td>\n",
       "      <td>5.090909</td>\n",
       "      <td>0</td>\n",
       "      <td>0</td>\n",
       "      <td>0</td>\n",
       "      <td>1</td>\n",
       "      <td>0</td>\n",
       "      <td>...</td>\n",
       "      <td>0</td>\n",
       "      <td>0</td>\n",
       "      <td>0</td>\n",
       "      <td>0</td>\n",
       "      <td>0</td>\n",
       "      <td>0</td>\n",
       "      <td>0</td>\n",
       "      <td>1</td>\n",
       "      <td>0</td>\n",
       "      <td>0</td>\n",
       "    </tr>\n",
       "    <tr>\n",
       "      <th>1</th>\n",
       "      <td>0.425000</td>\n",
       "      <td>21</td>\n",
       "      <td>20</td>\n",
       "      <td>0</td>\n",
       "      <td>4.714286</td>\n",
       "      <td>1</td>\n",
       "      <td>4</td>\n",
       "      <td>0</td>\n",
       "      <td>1</td>\n",
       "      <td>0</td>\n",
       "      <td>...</td>\n",
       "      <td>0</td>\n",
       "      <td>0</td>\n",
       "      <td>0</td>\n",
       "      <td>0</td>\n",
       "      <td>0</td>\n",
       "      <td>0</td>\n",
       "      <td>1</td>\n",
       "      <td>1</td>\n",
       "      <td>0</td>\n",
       "      <td>0</td>\n",
       "    </tr>\n",
       "    <tr>\n",
       "      <th>2</th>\n",
       "      <td>0.446429</td>\n",
       "      <td>15</td>\n",
       "      <td>15</td>\n",
       "      <td>1</td>\n",
       "      <td>7.400000</td>\n",
       "      <td>0</td>\n",
       "      <td>2</td>\n",
       "      <td>1</td>\n",
       "      <td>0</td>\n",
       "      <td>0</td>\n",
       "      <td>...</td>\n",
       "      <td>0</td>\n",
       "      <td>0</td>\n",
       "      <td>0</td>\n",
       "      <td>0</td>\n",
       "      <td>0</td>\n",
       "      <td>0</td>\n",
       "      <td>0</td>\n",
       "      <td>1</td>\n",
       "      <td>0</td>\n",
       "      <td>0</td>\n",
       "    </tr>\n",
       "    <tr>\n",
       "      <th>3</th>\n",
       "      <td>0.407143</td>\n",
       "      <td>21</td>\n",
       "      <td>20</td>\n",
       "      <td>0</td>\n",
       "      <td>4.476190</td>\n",
       "      <td>0</td>\n",
       "      <td>0</td>\n",
       "      <td>0</td>\n",
       "      <td>0</td>\n",
       "      <td>0</td>\n",
       "      <td>...</td>\n",
       "      <td>0</td>\n",
       "      <td>0</td>\n",
       "      <td>0</td>\n",
       "      <td>0</td>\n",
       "      <td>0</td>\n",
       "      <td>0</td>\n",
       "      <td>0</td>\n",
       "      <td>1</td>\n",
       "      <td>0</td>\n",
       "      <td>1</td>\n",
       "    </tr>\n",
       "    <tr>\n",
       "      <th>4</th>\n",
       "      <td>0.375000</td>\n",
       "      <td>17</td>\n",
       "      <td>17</td>\n",
       "      <td>0</td>\n",
       "      <td>5.235294</td>\n",
       "      <td>0</td>\n",
       "      <td>0</td>\n",
       "      <td>1</td>\n",
       "      <td>1</td>\n",
       "      <td>0</td>\n",
       "      <td>...</td>\n",
       "      <td>0</td>\n",
       "      <td>0</td>\n",
       "      <td>0</td>\n",
       "      <td>0</td>\n",
       "      <td>0</td>\n",
       "      <td>0</td>\n",
       "      <td>0</td>\n",
       "      <td>1</td>\n",
       "      <td>0</td>\n",
       "      <td>0</td>\n",
       "    </tr>\n",
       "  </tbody>\n",
       "</table>\n",
       "<p>5 rows × 204 columns</p>\n",
       "</div>"
      ],
      "text/plain": [
       "        len  word_count  unique_word_count  url_count  mean_word_length  \\\n",
       "0  0.235714          11                 11          0          5.090909   \n",
       "1  0.425000          21                 20          0          4.714286   \n",
       "2  0.446429          15                 15          1          7.400000   \n",
       "3  0.407143          21                 20          0          4.476190   \n",
       "4  0.375000          17                 17          0          5.235294   \n",
       "\n",
       "   hashtag_count  mention_count  key_bit0  key_bit1  key_bit2  ...  \\\n",
       "0              0              0         0         1         0  ...   \n",
       "1              1              4         0         1         0  ...   \n",
       "2              0              2         1         0         0  ...   \n",
       "3              0              0         0         0         0  ...   \n",
       "4              0              0         1         1         0  ...   \n",
       "\n",
       "   Tiene_deaths  Tiene_climate  Tiene_plague  Tiene_disappearance  \\\n",
       "0             0              0             0                    0   \n",
       "1             0              0             0                    0   \n",
       "2             0              0             0                    0   \n",
       "3             0              0             0                    0   \n",
       "4             0              0             0                    0   \n",
       "\n",
       "   Tiene_missing  Tiene_floods  Tiene_delug  contains_keyword  \\\n",
       "0              0             0            0                 1   \n",
       "1              0             0            1                 1   \n",
       "2              0             0            0                 1   \n",
       "3              0             0            0                 1   \n",
       "4              0             0            0                 1   \n",
       "\n",
       "   Tiene_key_impor  Tiene_key_no_impor  \n",
       "0                0                   0  \n",
       "1                0                   0  \n",
       "2                0                   0  \n",
       "3                0                   1  \n",
       "4                0                   0  \n",
       "\n",
       "[5 rows x 204 columns]"
      ]
     },
     "execution_count": 4,
     "metadata": {},
     "output_type": "execute_result"
    }
   ],
   "source": [
    "x_test=pd.read_csv('x_test.csv')\n",
    "x_test=x_test*1\n",
    "print (x_test.shape)\n",
    "x_test.head()"
   ]
  },
  {
   "cell_type": "code",
   "execution_count": 5,
   "metadata": {},
   "outputs": [
    {
     "name": "stdout",
     "output_type": "stream",
     "text": [
      "(5709,)\n"
     ]
    },
    {
     "data": {
      "text/plain": [
       "0    0\n",
       "1    0\n",
       "2    0\n",
       "3    1\n",
       "4    1\n",
       "Name: target, dtype: int64"
      ]
     },
     "execution_count": 5,
     "metadata": {},
     "output_type": "execute_result"
    }
   ],
   "source": [
    "y_train=pd.read_csv('y_train.csv')\n",
    "y_train=y_train.target\n",
    "print (y_train.shape)\n",
    "y_train.head()"
   ]
  },
  {
   "cell_type": "code",
   "execution_count": 6,
   "metadata": {},
   "outputs": [
    {
     "name": "stdout",
     "output_type": "stream",
     "text": [
      "(1904,)\n"
     ]
    },
    {
     "data": {
      "text/plain": [
       "0    1\n",
       "1    0\n",
       "2    1\n",
       "3    0\n",
       "4    0\n",
       "Name: target, dtype: int64"
      ]
     },
     "execution_count": 6,
     "metadata": {},
     "output_type": "execute_result"
    }
   ],
   "source": [
    "y_test=pd.read_csv('y_test.csv')\n",
    "y_test=y_test.target\n",
    "print (y_test.shape)\n",
    "y_test.head()"
   ]
  },
  {
   "cell_type": "code",
   "execution_count": 7,
   "metadata": {},
   "outputs": [
    {
     "name": "stdout",
     "output_type": "stream",
     "text": [
      "(3263,)\n"
     ]
    },
    {
     "data": {
      "text/plain": [
       "0     0\n",
       "1     2\n",
       "2     3\n",
       "3     9\n",
       "4    11\n",
       "Name: id, dtype: int64"
      ]
     },
     "execution_count": 7,
     "metadata": {},
     "output_type": "execute_result"
    }
   ],
   "source": [
    "ids=pd.read_csv('ids.csv')\n",
    "ids=ids.id\n",
    "print (ids.shape)\n",
    "ids.head()"
   ]
  },
  {
   "cell_type": "markdown",
   "metadata": {},
   "source": [
    "# ESCALAMOS LOS VALORES PARA QUE LOS MISMOS ENTEN DENTRO DEL MISMO RANGO "
   ]
  },
  {
   "cell_type": "code",
   "execution_count": 8,
   "metadata": {},
   "outputs": [],
   "source": [
    "scaler = MinMaxScaler()\n",
    "\n",
    "\n",
    "\n",
    "x_train = scaler.fit_transform(x_train)\n",
    "x_test = scaler.transform(x_test)\n"
   ]
  },
  {
   "cell_type": "markdown",
   "metadata": {},
   "source": [
    "# COMIENZO CON EL ALGORITMO"
   ]
  },
  {
   "cell_type": "code",
   "execution_count": 9,
   "metadata": {},
   "outputs": [
    {
     "name": "stdout",
     "output_type": "stream",
     "text": [
      "Entrenamiento: 99.5095%\n",
      "Testeo: 96.3761%.\n",
      "F1 Score:  0.9637605042016807\n",
      "F1 Score default:  0.9572225666460012\n"
     ]
    }
   ],
   "source": [
    "from sklearn.tree import DecisionTreeClassifier\n",
    "\n",
    "dt = DecisionTreeClassifier().fit(x_train, y_train)\n",
    "\n",
    "evaluate(dt, x_train,y_train, x_test, y_test)"
   ]
  },
  {
   "cell_type": "code",
   "execution_count": 10,
   "metadata": {},
   "outputs": [
    {
     "name": "stdout",
     "output_type": "stream",
     "text": [
      "F1 Score:  0.5733987128409439\n",
      "F1 Score default:  0.3074626865671642\n"
     ]
    }
   ],
   "source": [
    "y_pred=dt.predict(to_predict)\n",
    "comprobar(y_pred)"
   ]
  },
  {
   "cell_type": "markdown",
   "metadata": {},
   "source": [
    "# TUNEO EL MODELO"
   ]
  },
  {
   "cell_type": "code",
   "execution_count": 11,
   "metadata": {},
   "outputs": [
    {
     "data": {
      "image/png": "[encoded data removed]",
      "text/plain": [
       "<Figure size 432x288 with 1 Axes>"
      ]
     },
     "metadata": {
      "needs_background": "light"
     },
     "output_type": "display_data"
    }
   ],
   "source": [
    "max_depths = np.linspace(1, 5, 5, endpoint=True)\n",
    "\n",
    "train_results = []\n",
    "test_results = []\n",
    "for max_depth in max_depths:\n",
    "   dt = DecisionTreeClassifier(max_depth=max_depth)\n",
    "   dt.fit(x_train, y_train)\n",
    "\n",
    "   train_pred = dt.predict(x_train)\n",
    "\n",
    "   score_train = f1_score(y_train, train_pred)\n",
    "   \n",
    "   # Add auc score to previous train results\n",
    "   train_results.append(score_train)\n",
    "\n",
    "   y_pred = dt.predict(x_test)\n",
    "\n",
    "   score_test = f1_score(y_test, y_pred)\n",
    "   \n",
    "   # Add auc score to previous test results\n",
    "   test_results.append(score_test)\n",
    "\n",
    "from matplotlib.legend_handler import HandlerLine2D\n",
    "\n",
    "line1, = plt.plot(max_depths, train_results, 'b', label=\"Train F1\")\n",
    "line2, = plt.plot(max_depths, test_results, 'r', label=\"Test F1\")\n",
    "\n",
    "plt.legend(handler_map={line1: HandlerLine2D(numpoints=2)})\n",
    "\n",
    "plt.ylabel('F1 score')\n",
    "plt.xlabel('Tree depth')\n",
    "plt.show()"
   ]
  },
  {
   "cell_type": "code",
   "execution_count": 12,
   "metadata": {},
   "outputs": [
    {
     "name": "stdout",
     "output_type": "stream",
     "text": [
      "[1. 2. 3. 4. 5.]\n",
      "[0.9145347735455752, 0.9551362683438156, 0.9593256059009484, 0.9713123092573754, 0.9736299958796869]\n",
      "[0.9160919540229886, 0.94723458359822, 0.9513444302176697, 0.9671011793916822, 0.9638403990024937]\n"
     ]
    }
   ],
   "source": [
    "print(max_depths)\n",
    "print(train_results)\n",
    "print(test_results)\n",
    "#max_depths=4"
   ]
  },
  {
   "cell_type": "code",
   "execution_count": 13,
   "metadata": {},
   "outputs": [
    {
     "data": {
      "image/png": "[encoded data removed]",
      "text/plain": [
       "<Figure size 432x288 with 1 Axes>"
      ]
     },
     "metadata": {
      "needs_background": "light"
     },
     "output_type": "display_data"
    }
   ],
   "source": [
    "min_samples_splits = np.linspace(0.1, 0.9, 20, endpoint=True)\n",
    "\n",
    "train_results = []\n",
    "test_results = []\n",
    "for min_samples_split in min_samples_splits:\n",
    "   dt = DecisionTreeClassifier(max_depth=4,min_samples_split=min_samples_split)\n",
    "   dt.fit(x_train, y_train)\n",
    "\n",
    "   train_pred = dt.predict(x_train)\n",
    "\n",
    "   score_train = f1_score(y_train, train_pred)\n",
    "   \n",
    "   # Add auc score to previous train results\n",
    "   train_results.append(score_train)\n",
    "\n",
    "   y_pred = dt.predict(x_test)\n",
    "\n",
    "   score_test = f1_score(y_test, y_pred)\n",
    "   \n",
    "   # Add auc score to previous test results\n",
    "   test_results.append(score_test)\n",
    "\n",
    "from matplotlib.legend_handler import HandlerLine2D\n",
    "\n",
    "line1, = plt.plot(min_samples_splits, train_results, 'b', label=\"Train F1\")\n",
    "line2, = plt.plot(min_samples_splits, test_results, 'r', label=\"Test F1\")\n",
    "\n",
    "plt.legend(handler_map={line1: HandlerLine2D(numpoints=2)})\n",
    "\n",
    "plt.ylabel('F1 score')\n",
    "plt.xlabel('min samples split')\n",
    "plt.show()"
   ]
  },
  {
   "cell_type": "code",
   "execution_count": 14,
   "metadata": {},
   "outputs": [
    {
     "name": "stdout",
     "output_type": "stream",
     "text": [
      "[0.1        0.14210526 0.18421053 0.22631579 0.26842105 0.31052632\n",
      " 0.35263158 0.39473684 0.43684211 0.47894737 0.52105263 0.56315789\n",
      " 0.60526316 0.64736842 0.68947368 0.73157895 0.77368421 0.81578947\n",
      " 0.85789474 0.9       ]\n",
      "[0.9551362683438156, 0.9551362683438156, 0.9551362683438156, 0.9551362683438156, 0.9551362683438156, 0.9551362683438156, 0.9551362683438156, 0.9551362683438156, 0.9551362683438156, 0.9551362683438156, 0.9145347735455752, 0.9145347735455752, 0.9145347735455752, 0.9145347735455752, 0.9145347735455752, 0.9145347735455752, 0.9145347735455752, 0.9145347735455752, 0.9145347735455752, 0.9145347735455752]\n",
      "[0.94723458359822, 0.94723458359822, 0.94723458359822, 0.94723458359822, 0.94723458359822, 0.94723458359822, 0.94723458359822, 0.94723458359822, 0.94723458359822, 0.94723458359822, 0.9160919540229886, 0.9160919540229886, 0.9160919540229886, 0.9160919540229886, 0.9160919540229886, 0.9160919540229886, 0.9160919540229886, 0.9160919540229886, 0.9160919540229886, 0.9160919540229886]\n"
     ]
    }
   ],
   "source": [
    "print(min_samples_splits)\n",
    "print(train_results)\n",
    "print(test_results)\n",
    "#0.49210526   ,min_samples_split=0.49210526"
   ]
  },
  {
   "cell_type": "code",
   "execution_count": 15,
   "metadata": {},
   "outputs": [
    {
     "data": {
      "image/png": "[encoded data removed]",
      "text/plain": [
       "<Figure size 432x288 with 1 Axes>"
      ]
     },
     "metadata": {
      "needs_background": "light"
     },
     "output_type": "display_data"
    }
   ],
   "source": [
    "min_samples_leafs = np.linspace(0.1, 0.3, 5, endpoint=True)\n",
    "\n",
    "train_results = []\n",
    "test_results = []\n",
    "for min_samples_leaf in min_samples_leafs:\n",
    "   dt = DecisionTreeClassifier(max_depth=4,min_samples_split=0.49210526,min_samples_leaf=min_samples_leaf)\n",
    "   dt.fit(x_train, y_train)\n",
    "\n",
    "   train_pred = dt.predict(x_train)\n",
    "\n",
    "   score_train = f1_score(y_train, train_pred)\n",
    "   \n",
    "   # Add auc score to previous train results\n",
    "   train_results.append(score_train)\n",
    "\n",
    "   y_pred = dt.predict(x_test)\n",
    "\n",
    "   score_test = f1_score(y_test, y_pred)\n",
    "   \n",
    "   # Add auc score to previous test results\n",
    "   test_results.append(score_test)\n",
    "\n",
    "from matplotlib.legend_handler import HandlerLine2D\n",
    "\n",
    "line1, = plt.plot(min_samples_leafs, train_results, 'b', label=\"Train F1\")\n",
    "line2, = plt.plot(min_samples_leafs, test_results, 'r', label=\"Test F1\")\n",
    "\n",
    "plt.legend(handler_map={line1: HandlerLine2D(numpoints=2)})\n",
    "\n",
    "plt.ylabel('F1 score')\n",
    "plt.xlabel('min samples leaf')\n",
    "plt.show()\n"
   ]
  },
  {
   "cell_type": "code",
   "execution_count": 16,
   "metadata": {},
   "outputs": [
    {
     "name": "stdout",
     "output_type": "stream",
     "text": [
      "[0.1  0.15 0.2  0.25 0.3 ]\n",
      "[0.9497016197783461, 0.9145347735455752, 0.9145347735455752, 0.9145347735455752, 0.9145347735455752]\n",
      "[0.9457364341085271, 0.9160919540229886, 0.9160919540229886, 0.9160919540229886, 0.9160919540229886]\n"
     ]
    }
   ],
   "source": [
    "print(min_samples_leafs)\n",
    "print(train_results)\n",
    "print(test_results)\n",
    "#0.13333333    min_samples_leaf=0.1 "
   ]
  },
  {
   "cell_type": "markdown",
   "metadata": {},
   "source": [
    "# VERIFICO TUNEO DEL MODELO"
   ]
  },
  {
   "cell_type": "code",
   "execution_count": 17,
   "metadata": {},
   "outputs": [
    {
     "name": "stdout",
     "output_type": "stream",
     "text": [
      "Entrenamiento: 95.8662%\n",
      "Testeo: 95.5882%.\n",
      "F1 Score:  0.9558823529411765\n",
      "F1 Score default:  0.9457364341085271\n"
     ]
    }
   ],
   "source": [
    "dt = DecisionTreeClassifier(min_samples_split=0.49210526,min_samples_leaf=0.1 ,max_depth=4).fit(x_train, y_train)\n",
    "\n",
    "evaluate(dt, x_train,y_train, x_test, y_test)"
   ]
  },
  {
   "cell_type": "code",
   "execution_count": 18,
   "metadata": {},
   "outputs": [
    {
     "data": {
      "text/plain": [
       "array([0, 1, 0, ..., 1, 0, 1], dtype=int64)"
      ]
     },
     "execution_count": 18,
     "metadata": {},
     "output_type": "execute_result"
    }
   ],
   "source": [
    "#ESTA PREDICCION ME DA EN LA PRIMER COLUMNA LA PROBABILIDAD DE QUE SEA -1  \n",
    "#EN LA SEGUNDA COLUMNA ME LA PROBABILIDAD QUE SEA 1 (QUE ES LA QUE ME INTERESA)\n",
    "predict=dt.predict(to_predict)\n",
    "predict"
   ]
  },
  {
   "cell_type": "markdown",
   "metadata": {},
   "source": [
    "# GENERO EL SUBMIT"
   ]
  },
  {
   "cell_type": "code",
   "execution_count": 19,
   "metadata": {},
   "outputs": [
    {
     "data": {
      "text/html": [
       "<div>\n",
       "<style scoped>\n",
       "    .dataframe tbody tr th:only-of-type {\n",
       "        vertical-align: middle;\n",
       "    }\n",
       "\n",
       "    .dataframe tbody tr th {\n",
       "        vertical-align: top;\n",
       "    }\n",
       "\n",
       "    .dataframe thead th {\n",
       "        text-align: right;\n",
       "    }\n",
       "</style>\n",
       "<table border=\"1\" class=\"dataframe\">\n",
       "  <thead>\n",
       "    <tr style=\"text-align: right;\">\n",
       "      <th></th>\n",
       "      <th>id</th>\n",
       "      <th>target</th>\n",
       "    </tr>\n",
       "  </thead>\n",
       "  <tbody>\n",
       "    <tr>\n",
       "      <th>0</th>\n",
       "      <td>0</td>\n",
       "      <td>0</td>\n",
       "    </tr>\n",
       "    <tr>\n",
       "      <th>1</th>\n",
       "      <td>2</td>\n",
       "      <td>1</td>\n",
       "    </tr>\n",
       "    <tr>\n",
       "      <th>2</th>\n",
       "      <td>3</td>\n",
       "      <td>0</td>\n",
       "    </tr>\n",
       "    <tr>\n",
       "      <th>3</th>\n",
       "      <td>9</td>\n",
       "      <td>0</td>\n",
       "    </tr>\n",
       "    <tr>\n",
       "      <th>4</th>\n",
       "      <td>11</td>\n",
       "      <td>0</td>\n",
       "    </tr>\n",
       "  </tbody>\n",
       "</table>\n",
       "</div>"
      ],
      "text/plain": [
       "   id  target\n",
       "0   0       0\n",
       "1   2       1\n",
       "2   3       0\n",
       "3   9       0\n",
       "4  11       0"
      ]
     },
     "execution_count": 19,
     "metadata": {},
     "output_type": "execute_result"
    }
   ],
   "source": [
    "result = submission_output(ids, predict,\"dtv1.csv\")\n",
    "result.head()"
   ]
  },
  {
   "cell_type": "code",
   "execution_count": null,
   "metadata": {},
   "outputs": [],
   "source": []
  },
  {
   "cell_type": "code",
   "execution_count": null,
   "metadata": {},
   "outputs": [],
   "source": []
  },
  {
   "cell_type": "code",
   "execution_count": null,
   "metadata": {},
   "outputs": [],
   "source": []
  },
  {
   "cell_type": "code",
   "execution_count": null,
   "metadata": {},
   "outputs": [],
   "source": []
  }
 ],
 "metadata": {
  "kernelspec": {
   "display_name": "Python 3",
   "language": "python",
   "name": "python3"
  },
  "language_info": {
   "codemirror_mode": {
    "name": "ipython",
    "version": 3
   },
   "file_extension": ".py",
   "mimetype": "text/x-python",
   "name": "python",
   "nbconvert_exporter": "python",
   "pygments_lexer": "ipython3",
   "version": "3.7.3"
  }
 },
 "nbformat": 4,
 "nbformat_minor": 2
}
