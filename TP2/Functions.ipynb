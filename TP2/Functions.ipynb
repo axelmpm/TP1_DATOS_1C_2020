{
 "cells": [
  {
   "cell_type": "code",
   "execution_count": null,
   "metadata": {},
   "outputs": [],
   "source": [
    "def submission_output(ids, prediction,name):\n",
    "    df_ids = ids\n",
    "    result = df_ids.to_frame()\n",
    "    result[\"target\"] = prediction\n",
    "    result.to_csv('predictions/'+name, index=False)\n",
    "    return result"
   ]
  },
  {
   "cell_type": "code",
   "execution_count": 1,
   "metadata": {},
   "outputs": [],
   "source": [
    "def predecir(model, train_features, train_labels, test_features, test_labels):\n",
    "    score = model.score(test_features,test_labels)\n",
    "    predict = model.predict(test_features)\n",
    "    \n",
    "    print('Entrenamiento: {:0.4f}%'.format(model.score(train_features, train_labels)*100))\n",
    "    print('Testeo: {:0.4f}%.'.format(score*100))\n",
    "    \n",
    "    error1 = f1_score(test_labels, predict)\n",
    "    print('F1 score: {:0.4f}.'.format(error1))\n",
    "    print (\"   \")\n",
    "    return error1"
   ]
  },
  {
   "cell_type": "code",
   "execution_count": null,
   "metadata": {},
   "outputs": [],
   "source": [
    "#Buscar len del texto\n",
    "def len_(df):\n",
    "    df['len']=df.text.map(lambda x: len(x))"
   ]
  },
  {
   "cell_type": "code",
   "execution_count": null,
   "metadata": {},
   "outputs": [],
   "source": [
    "def word_count(df):\n",
    "    df[\"word_count\"] = df.text.map(lambda x: len(x.split(\" \")))"
   ]
  },
  {
   "cell_type": "code",
   "execution_count": null,
   "metadata": {},
   "outputs": [],
   "source": [
    "def keyword_in_text(df):\n",
    "    \"\"\"\n",
    "    RECIBE: un df\n",
    "    DEVUELVE: el mismo df con una columna que indica si la keyword esta en el tweet.\n",
    "    \"\"\"\n",
    "    \n",
    "    df['contains_keyword'] = 0\n",
    "    cant_filas = len(df.index)\n",
    "    for y in range(cant_filas):\n",
    "        df['contains_keyword'][y:]= df.iloc[y][1].lower() in df.iloc[y][3].lower()"
   ]
  },
  {
   "cell_type": "markdown",
   "metadata": {},
   "source": [
    "### KNN"
   ]
  },
  {
   "cell_type": "code",
   "execution_count": null,
   "metadata": {},
   "outputs": [],
   "source": [
    "def knn_best_distance(df,dist,x_train,y_train,x_test,y_test):\n",
    "    for x in dist:\n",
    "        print(x+\" --------------------------\")\n",
    "        result , k = knn_predictor(x,x_train,y_train,x_test,y_test)\n",
    "        \n",
    "        df[x] = result"
   ]
  },
  {
   "cell_type": "code",
   "execution_count": null,
   "metadata": {},
   "outputs": [],
   "source": [
    "def knn_predictor(distancia,x_train,y_train,x_test,y_test):\n",
    "    kesimos = []\n",
    "    result = []\n",
    "    for k in range(2,40):\n",
    "        print(\"con k: \", k)\n",
    "        kesimos.append(k)\n",
    "        knn = KNeighborsClassifier(n_neighbors = k, metric=distancia)\n",
    "        knn.fit(x_train, y_train)\n",
    "        res = predecir(knn,x_train,y_train,x_test,y_test)\n",
    "        result.append(res)\n",
    "    return result, kesimos"
   ]
  }
 ],
 "metadata": {
  "kernelspec": {
   "display_name": "Python 3",
   "language": "python",
   "name": "python3"
  },
  "language_info": {
   "codemirror_mode": {
    "name": "ipython",
    "version": 3
   },
   "file_extension": ".py",
   "mimetype": "text/x-python",
   "name": "python",
   "nbconvert_exporter": "python",
   "pygments_lexer": "ipython3",
   "version": "3.7.5"
  }
 },
 "nbformat": 4,
 "nbformat_minor": 2
}
