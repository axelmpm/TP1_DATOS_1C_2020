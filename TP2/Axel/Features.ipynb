{
 "cells": [
  {
   "cell_type": "code",
   "execution_count": 90,
   "metadata": {},
   "outputs": [],
   "source": [
    "#IMPORTS\n",
    "%run ../datuslib.ipynb\n",
    "from sklearn.metrics import f1_score"
   ]
  },
  {
   "cell_type": "code",
   "execution_count": 91,
   "metadata": {},
   "outputs": [],
   "source": [
    "#SETTINGS\n",
    "pd.set_option(\"display.max_rows\", None, \"display.max_columns\", None)"
   ]
  },
  {
   "cell_type": "code",
   "execution_count": 92,
   "metadata": {},
   "outputs": [],
   "source": [
    "#CARGA DATA\n",
    "\n",
    "data = pd.read_csv(\"../Data/test.csv\").fillna('')"
   ]
  },
  {
   "cell_type": "code",
   "execution_count": 93,
   "metadata": {},
   "outputs": [],
   "source": [
    "data['complete_text'] = data.keyword + ' ' + data.location + ' ' + data.text"
   ]
  },
  {
   "cell_type": "markdown",
   "metadata": {},
   "source": [
    "# Continente, Pais, Ciudad"
   ]
  },
  {
   "cell_type": "code",
   "execution_count": 94,
   "metadata": {},
   "outputs": [],
   "source": [
    "parsed_location = data.apply(lambda row : getLocation(row['location']), axis = 1)"
   ]
  },
  {
   "cell_type": "code",
   "execution_count": 95,
   "metadata": {},
   "outputs": [],
   "source": [
    "data['continent'] = parsed_location.apply(lambda x: x[0])\n",
    "data['country'] = parsed_location.apply(lambda x: x[1])\n",
    "data['city'] = parsed_location.apply(lambda x: x[2])"
   ]
  },
  {
   "cell_type": "markdown",
   "metadata": {},
   "source": [
    "# Tiene numeros"
   ]
  },
  {
   "cell_type": "code",
   "execution_count": 96,
   "metadata": {},
   "outputs": [],
   "source": [
    "def hasNum(text):\n",
    "    for c in text:\n",
    "        if c.isnumeric():\n",
    "            return True\n",
    "    return False"
   ]
  },
  {
   "cell_type": "code",
   "execution_count": 97,
   "metadata": {},
   "outputs": [],
   "source": [
    "data['hasNum'] = data['text'].apply(lambda x: hasNum(x))"
   ]
  },
  {
   "cell_type": "markdown",
   "metadata": {},
   "source": [
    "# Tiene Link"
   ]
  },
  {
   "cell_type": "code",
   "execution_count": 98,
   "metadata": {},
   "outputs": [],
   "source": [
    "def hasLink(text):\n",
    "    \n",
    "    link_simbols = ['http','::','/','.com','www']\n",
    "    \n",
    "    for s in link_simbols:\n",
    "        if s in text:\n",
    "            return True\n",
    "    return False"
   ]
  },
  {
   "cell_type": "code",
   "execution_count": 99,
   "metadata": {},
   "outputs": [],
   "source": [
    "data['hasLink'] = data['text'].apply(lambda x: hasLink(x))"
   ]
  },
  {
   "cell_type": "markdown",
   "metadata": {},
   "source": [
    "# Menciona a un usuario"
   ]
  },
  {
   "cell_type": "code",
   "execution_count": 100,
   "metadata": {},
   "outputs": [],
   "source": [
    "data['hasUser'] = data['text'].apply(lambda x: '@' in x)"
   ]
  },
  {
   "cell_type": "markdown",
   "metadata": {},
   "source": [
    "# Tiene hashtag"
   ]
  },
  {
   "cell_type": "code",
   "execution_count": 101,
   "metadata": {},
   "outputs": [],
   "source": [
    "data['hasHashtag'] = data['text'].apply(lambda x: '#' in x)"
   ]
  },
  {
   "cell_type": "markdown",
   "metadata": {},
   "source": [
    "# Cantidad de signos de exclamacion, de interrogacion y de mayusculas y longitud"
   ]
  },
  {
   "cell_type": "code",
   "execution_count": 102,
   "metadata": {},
   "outputs": [],
   "source": [
    "data['exclamacion'] = data.complete_text.apply(lambda x: sum([1 for c in x if c == '!']))\n",
    "data['interrogacion'] = data.complete_text.apply(lambda x: sum([1 for c in x if c == '?']))\n",
    "data['mayusculas'] = data.complete_text.apply(lambda x: sum([1 for c in x if c.isupper()]))\n",
    "data['longitud'] = data.complete_text.apply(lambda x: len(x))"
   ]
  },
  {
   "cell_type": "markdown",
   "metadata": {},
   "source": [
    "# Negatividad"
   ]
  },
  {
   "cell_type": "code",
   "execution_count": 103,
   "metadata": {},
   "outputs": [],
   "source": [
    "#best scalers for negativity (see A_Context)\n",
    "a = 1\n",
    "b = -17.34"
   ]
  },
  {
   "cell_type": "code",
   "execution_count": 104,
   "metadata": {},
   "outputs": [],
   "source": [
    "context = Context()"
   ]
  },
  {
   "cell_type": "code",
   "execution_count": null,
   "metadata": {},
   "outputs": [
    {
     "name": "stdout",
     "output_type": "stream",
     "text": [
      "Data loaded\n",
      "Extracted texts\n",
      "Extracted Texts Tokens\n",
      "Tokens processed into cleaned up words and mapped\n",
      "Contextual map produced\n",
      "Data loaded\n",
      "Extracted texts\n",
      "Extracted Texts Tokens\n",
      "Tokens processed into cleaned up words and mapped\n",
      "Contextual map produced\n",
      "Total and Disaster frequencies calculated for every word\n",
      "Negativity map produced\n"
     ]
    }
   ],
   "source": [
    "try:\n",
    "    data['negativity'] = context.fit(data = data)\n",
    "    name = 'train'\n",
    "except:\n",
    "    name = 'test'\n",
    "    context.fit(data = pd.read_csv(\"../Data/train.csv\").fillna(''))\n",
    "    data['negativity'] = context.predict(data,a,b)"
   ]
  },
  {
   "cell_type": "code",
   "execution_count": null,
   "metadata": {},
   "outputs": [],
   "source": [
    "data['sigmoidic_negativity'] = data['negativity'].apply(lambda x: 1/(1 + np.exp(-(a*x +b))))\n",
    "data['neg_to_label'] = data['negativity'].apply(lambda x: mapNegToLabel(x,a,b))"
   ]
  },
  {
   "cell_type": "code",
   "execution_count": null,
   "metadata": {},
   "outputs": [],
   "source": [
    "data.to_csv('FE_1_' + name + '.csv')"
   ]
  },
  {
   "cell_type": "markdown",
   "metadata": {},
   "source": [
    "# Talks about location"
   ]
  },
  {
   "cell_type": "code",
   "execution_count": null,
   "metadata": {},
   "outputs": [],
   "source": [
    "#data['hasLocation'] = data['text'].apply(lambda x: haveAllUnknown(getLocation(x)))"
   ]
  }
 ],
 "metadata": {
  "kernelspec": {
   "display_name": "Python 3",
   "language": "python",
   "name": "python3"
  },
  "language_info": {
   "codemirror_mode": {
    "name": "ipython",
    "version": 3
   },
   "file_extension": ".py",
   "mimetype": "text/x-python",
   "name": "python",
   "nbconvert_exporter": "python",
   "pygments_lexer": "ipython3",
   "version": "3.6.9"
  }
 },
 "nbformat": 4,
 "nbformat_minor": 2
}
