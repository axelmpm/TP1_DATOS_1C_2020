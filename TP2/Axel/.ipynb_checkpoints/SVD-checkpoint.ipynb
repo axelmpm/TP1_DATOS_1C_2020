{
 "cells": [
  {
   "cell_type": "code",
   "execution_count": 1,
   "metadata": {},
   "outputs": [],
   "source": [
    "import numpy as np\n",
    "from numpy.linalg import svd"
   ]
  },
  {
   "cell_type": "code",
   "execution_count": 2,
   "metadata": {},
   "outputs": [],
   "source": [
    "A = np.array([[1,2,3], [4,5,6], [5,7,9]])\n",
    "\n",
    "U, S, VT = svd(A)"
   ]
  },
  {
   "cell_type": "code",
   "execution_count": 3,
   "metadata": {},
   "outputs": [
    {
     "name": "stdout",
     "output_type": "stream",
     "text": [
      "Left Singular Vectors:\n",
      "[[-0.2354116   0.78182354 -0.57735027]\n",
      " [-0.55937325 -0.5947842  -0.57735027]\n",
      " [-0.79478485  0.18703934  0.57735027]]\n",
      "Singular Values:\n",
      "[[1.56633231e+01 0.00000000e+00 0.00000000e+00]\n",
      " [0.00000000e+00 8.12593979e-01 0.00000000e+00]\n",
      " [0.00000000e+00 0.00000000e+00 1.17807579e-15]]\n",
      "Right Singular Vectors:\n",
      "[[-0.41158755 -0.56381288 -0.71603821]\n",
      " [-0.8148184  -0.12429146  0.56623547]\n",
      " [-0.40824829  0.81649658 -0.40824829]]\n"
     ]
    }
   ],
   "source": [
    "print(\"Left Singular Vectors:\")\n",
    "print(U)\n",
    "print(\"Singular Values:\") \n",
    "print(np.diag(S))\n",
    "print(\"Right Singular Vectors:\") \n",
    "print(VT)"
   ]
  },
  {
   "cell_type": "code",
   "execution_count": 4,
   "metadata": {},
   "outputs": [
    {
     "name": "stdout",
     "output_type": "stream",
     "text": [
      "[[1. 2. 3.]\n",
      " [4. 5. 6.]\n",
      " [5. 7. 9.]]\n"
     ]
    }
   ],
   "source": [
    "# Return the original matrix A\n",
    "# @ is used for matrix multiplication in Py3, use np.matmul with Py2\n",
    "print(U @ np.diag(S) @ VT)"
   ]
  },
  {
   "cell_type": "markdown",
   "metadata": {},
   "source": [
    "# Referencias\n",
    "\n",
    "    https://colab.research.google.com/github/hanhanwu/Hanhan_COLAB_Experiemnts/blob/master/SVD_intro.ipynb#scrollTo=6RwW7b6qWBCC"
   ]
  },
  {
   "cell_type": "markdown",
   "metadata": {},
   "source": [
    "# Seguir\n",
    "\n",
    "    Como encodear? encoder de TNN?\n",
    "    Como usar esto sobre los tweets? La idea era tener como una matriz de conceptos con ponderacion por tweet"
   ]
  },
  {
   "cell_type": "code",
   "execution_count": null,
   "metadata": {},
   "outputs": [],
   "source": []
  }
 ],
 "metadata": {
  "kernelspec": {
   "display_name": "Python 3",
   "language": "python",
   "name": "python3"
  },
  "language_info": {
   "codemirror_mode": {
    "name": "ipython",
    "version": 3
   },
   "file_extension": ".py",
   "mimetype": "text/x-python",
   "name": "python",
   "nbconvert_exporter": "python",
   "pygments_lexer": "ipython3",
   "version": "3.6.9"
  }
 },
 "nbformat": 4,
 "nbformat_minor": 2
}
