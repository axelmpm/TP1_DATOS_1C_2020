{
 "cells": [
  {
   "cell_type": "code",
   "execution_count": 63,
   "metadata": {},
   "outputs": [],
   "source": [
    "#IMPORTS\n",
    "%run ../../TP2/datuslib.ipynb"
   ]
  },
  {
   "cell_type": "code",
   "execution_count": 58,
   "metadata": {},
   "outputs": [],
   "source": [
    "from sklearn.metrics import f1_score"
   ]
  },
  {
   "cell_type": "code",
   "execution_count": 59,
   "metadata": {},
   "outputs": [],
   "source": [
    "#SETTINGS\n",
    "sns.set(rc = {'figure.figsize':(20,5)})\n",
    "#pd.set_option(\"display.max_rows\", None, \"display.max_columns\", None)"
   ]
  },
  {
   "cell_type": "code",
   "execution_count": 60,
   "metadata": {},
   "outputs": [],
   "source": [
    "#CARGA DATA\n",
    "\n",
    "train = pd.read_csv(\"../../Data/train.csv\")\n",
    "test = pd.read_csv(\"../../Data/test.csv\")"
   ]
  },
  {
   "cell_type": "markdown",
   "metadata": {},
   "source": [
    "# Uso de Context como algoritmo de machine learning\n",
    "    \n",
    "    Tomamos la clase Context desarrollada durante el TP1 para usar la negatividad que asigna a cada tweet como un clasificador.\n",
    "    \n",
    "    Recordando un poco lo que hacia era asigar diferentes pesos a los pares de palabras que aparecian en los tweets en funcion de cuantas veces aparecia dicho par de palabra y en funcion ademas de si los tweets en donde este par de palabra aparecia era desastre o no.\n",
    "    \n",
    "    Lo que hacemos es entonces recolectar todos estos pesos y negatividades (tal como se explica en el informe del TP1) sobre el set de train. Posteriormente nos encontramos con que cada tweet tiene asignada un valor no acotado positivo de negatividad. La idea es mapear este valor de negatividad a un intervalo de 0 a 1 de forma tal que el 0.5 corresponda al valor de negatividad n tal que a partir de el para arriba el tweet pueda se clasificado como desastre con suficiente \"confianza\".\n",
    "    \n",
    "    La forma en la que vamos a encontrar ese valor de n es a travez de probar diferentes valores para n y evaluarlos con el score F1. El que mejor de es el que usaremos para el mapeo.\n",
    "    \n",
    "    El mapeo se realizara a travez de una sigmoidea que se sabe que sirve para tareas de clasificacion.\n",
    "    \n",
    "    Para predecir el target en el set de test se toma el mapa contextual generado con el set de train y el generado con el set de test mismo y se calcula la negatividad contextual de esta forma. Ademas se infiere que la negatividad intrinseca de cada palabra se conserva entre los set de test. Con estas dos negatividades calculadas se calcula la negatividad de cada tweet del set de test (uno sin labels). Posteriormente se mapea esta negatividad a un target tal como se explico lineas arriba."
   ]
  },
  {
   "cell_type": "code",
   "execution_count": 64,
   "metadata": {},
   "outputs": [],
   "source": [
    "#Equivalente a hacer train sobre la data\n",
    "context = Context()"
   ]
  },
  {
   "cell_type": "code",
   "execution_count": 65,
   "metadata": {},
   "outputs": [
    {
     "name": "stdout",
     "output_type": "stream",
     "text": [
      "Data loaded\n",
      "Extracted texts\n",
      "Extracted Texts Tokens\n",
      "Tokens processed into cleaned up words and mapped\n",
      "Contextual map produced\n",
      "Total and Disaster frequencies calculated for every word\n",
      "Negativity map produced\n"
     ]
    }
   ],
   "source": [
    "train['negativity'] = context.fit(data = train)"
   ]
  },
  {
   "cell_type": "markdown",
   "metadata": {},
   "source": [
    "# Tuneando hiperparametros de Context\n",
    "\n",
    "    Concretamente la forma en la que se va a mapear la negatividad a una probabilidad de desastre es asi:\n",
    "    \n",
    "    negatividad --(a*neg + b)---> neg escalada ---(sigmoidea)---> (0;1) ---(1 if >= 0.5 else 0) ---> target\n",
    "\n",
    "    El n del que se habla antes es aca lo que seria el -b ya que este representa un corrimiento horizontal de la funcion sigmoidea.\n",
    "    \n",
    "    Se va a empezar a buscar el b optimo con un a = 1 porque se intuye que el b sera mas determinante que el a. Luego se buscara linealmente a para ajustar el resultado. Por esta razon se recurre a un gridsearch personalizado."
   ]
  },
  {
   "cell_type": "code",
   "execution_count": 66,
   "metadata": {},
   "outputs": [
    {
     "name": "stderr",
     "output_type": "stream",
     "text": [
      "/home/axelmpm/.local/lib/python3.6/site-packages/sklearn/metrics/classification.py:1437: UndefinedMetricWarning: F-score is ill-defined and being set to 0.0 due to no predicted samples.\n",
      "  'precision', 'predicted', average, warn_for)\n"
     ]
    }
   ],
   "source": [
    "#grid search personalizado\n",
    "\n",
    "a_values = [i/1000 for i in range(2000)] # from 0 to 2 with step 0.001\n",
    "b_values = [-i/1000 * 20 for i in range(1000)] # from 0 to -20 with step 0.01\n",
    "\n",
    "f1_max = 0\n",
    "a_max = a_values[0]\n",
    "b_max = b_values[0]\n",
    "\n",
    "a = 1\n",
    "count = 0\n",
    "for b in b_values:\n",
    "    train_preds = train.negativity.apply(lambda x: mapNegToLabel(x,a,b))\n",
    "    f1 = f1_score(train.target, train_preds)\n",
    "    if f1 >= f1_max:\n",
    "        f1_max = f1\n",
    "        b_max = b\n",
    "    count += 1\n",
    "    \n",
    "b = b_max\n",
    "count = 0\n",
    "for a in a_values:\n",
    "    train_preds = train.negativity.apply(lambda x: mapNegToLabel(x,a,b))\n",
    "    f1 = f1_score(train.target, train_preds)\n",
    "    if f1 >= f1_max:\n",
    "        f1_max = f1\n",
    "        a_max = a\n",
    "    count += 1"
   ]
  },
  {
   "cell_type": "code",
   "execution_count": 67,
   "metadata": {},
   "outputs": [
    {
     "data": {
      "text/plain": [
       "(1.0, -17.34, 0.6828140214216163)"
      ]
     },
     "execution_count": 67,
     "metadata": {},
     "output_type": "execute_result"
    }
   ],
   "source": [
    "a_max,b_max,f1_max"
   ]
  },
  {
   "cell_type": "code",
   "execution_count": 68,
   "metadata": {},
   "outputs": [],
   "source": [
    "#predecimos\n",
    "test['target'] = context.predict(test,a_max,b_max)"
   ]
  },
  {
   "cell_type": "code",
   "execution_count": 69,
   "metadata": {},
   "outputs": [],
   "source": [
    "#Filtra outliers para mejorar el plot (los 15 mas grandes era mas grandes por mucho)\n",
    "\n",
    "train_no_out = train.sort_values('negativity').head(-15)"
   ]
  },
  {
   "cell_type": "code",
   "execution_count": 76,
   "metadata": {},
   "outputs": [
    {
     "data": {
      "text/plain": [
       "<matplotlib.legend.Legend at 0x7f86edf8da58>"
      ]
     },
     "execution_count": 76,
     "metadata": {},
     "output_type": "execute_result"
    },
    {
     "data": {
      "image/png": "[encoded data removed]",
      "text/plain": [
       "<Figure size 1440x360 with 1 Axes>"
      ]
     },
     "metadata": {},
     "output_type": "display_data"
    }
   ],
   "source": [
    "#Visualizando como asigna Context los labels\n",
    "\n",
    "sns.distplot(train_no_out[ train_no_out.target == 0 ].negativity, label = 'target 0')\\\n",
    ".axvline(-b_max, ls = '-', color = 'r')\n",
    "sns.distplot(train_no_out[ train_no_out.target == 1 ].negativity, label = 'target 1')\\\n",
    ".set_title('Distribucion de la negatividad por target en set de train')\n",
    "plt.legend()"
   ]
  },
  {
   "cell_type": "markdown",
   "metadata": {},
   "source": [
    "# Aclaracion\n",
    "\n",
    "    La linea roja vertical que se ve en el grafico es el valor de n de negatividad optimo a partir del cual se considera que cualquier tweet de negatividad mayor a el es un desastre. Es interesante notar que en el TP1 se observo que el mejor valor para separar desastre de no desastre parecia andar alrededor de 20 y que aca se vea que es 17.4 aprox "
   ]
  },
  {
   "cell_type": "code",
   "execution_count": null,
   "metadata": {},
   "outputs": [],
   "source": []
  }
 ],
 "metadata": {
  "kernelspec": {
   "display_name": "Python 3",
   "language": "python",
   "name": "python3"
  },
  "language_info": {
   "codemirror_mode": {
    "name": "ipython",
    "version": 3
   },
   "file_extension": ".py",
   "mimetype": "text/x-python",
   "name": "python",
   "nbconvert_exporter": "python",
   "pygments_lexer": "ipython3",
   "version": "3.6.9"
  }
 },
 "nbformat": 4,
 "nbformat_minor": 2
}
