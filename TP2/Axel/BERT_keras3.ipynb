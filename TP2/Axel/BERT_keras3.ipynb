{
 "cells": [
  {
   "cell_type": "markdown",
   "metadata": {
    "id": "PxUNsAJAIcVA"
   },
   "source": [
    "# Imports"
   ]
  },
  {
   "cell_type": "code",
   "execution_count": 52,
   "metadata": {
    "id": "z-4IqETaICD_",
    "outputId": "35776df2-7124-4e31-e383-83c029338786"
   },
   "outputs": [
    {
     "name": "stdout",
     "output_type": "stream",
     "text": [
      "Sun Aug  2 16:48:51 2020       \r\n",
      "+-----------------------------------------------------------------------------+\r\n",
      "| NVIDIA-SMI 418.67       Driver Version: 418.67       CUDA Version: 10.1     |\r\n",
      "|-------------------------------+----------------------+----------------------+\r\n",
      "| GPU  Name        Persistence-M| Bus-Id        Disp.A | Volatile Uncorr. ECC |\r\n",
      "| Fan  Temp  Perf  Pwr:Usage/Cap|         Memory-Usage | GPU-Util  Compute M. |\r\n",
      "|===============================+======================+======================|\r\n",
      "|   0  Tesla P100-PCIE...  Off  | 00000000:00:04.0 Off |                    0 |\r\n",
      "| N/A   41C    P0    33W / 250W |  15365MiB / 16280MiB |      0%      Default |\r\n",
      "+-------------------------------+----------------------+----------------------+\r\n",
      "                                                                               \r\n",
      "+-----------------------------------------------------------------------------+\r\n",
      "| Processes:                                                       GPU Memory |\r\n",
      "|  GPU       PID   Type   Process name                             Usage      |\r\n",
      "|=============================================================================|\r\n",
      "+-----------------------------------------------------------------------------+\r\n"
     ]
    }
   ],
   "source": [
    "!nvidia-smi"
   ]
  },
  {
   "cell_type": "code",
   "execution_count": 53,
   "metadata": {
    "id": "wsXlhQmaiCwH",
    "outputId": "ef738fc9-b1c5-46ca-a40b-0209f9f5d471"
   },
   "outputs": [
    {
     "name": "stdout",
     "output_type": "stream",
     "text": [
      "Requirement already satisfied: sentencepiece in /opt/conda/lib/python3.7/site-packages (0.1.91)\n",
      "\u001b[33mWARNING: You are using pip version 20.1.1; however, version 20.2 is available.\n",
      "You should consider upgrading via the '/opt/conda/bin/python3.7 -m pip install --upgrade pip' command.\u001b[0m\n"
     ]
    }
   ],
   "source": [
    "# We will use the official tokenization script created by the Google team\n",
    "!wget --quiet https://raw.githubusercontent.com/tensorflow/models/master/official/nlp/bert/tokenization.py\n",
    "!pip install sentencepiece"
   ]
  },
  {
   "cell_type": "code",
   "execution_count": 54,
   "metadata": {
    "id": "9nmi_QZGG0gR"
   },
   "outputs": [],
   "source": [
    "import numpy as np\n",
    "import pandas as pd\n",
    "import tensorflow as tf\n",
    "from tensorflow.keras.layers import Dense, Input\n",
    "from tensorflow.keras.optimizers import Adam, SGD\n",
    "from tensorflow.keras.models import Model\n",
    "from tensorflow.keras.callbacks import ModelCheckpoint\n",
    "from tensorflow.keras import Sequential\n",
    "import tensorflow_hub as hub\n",
    "\n",
    "import re\n",
    "import tokenization\n",
    "import string\n",
    "import os\n",
    "\n",
    "\n",
    "\n",
    "from nltk.stem import PorterStemmer\n",
    "st = PorterStemmer()\n",
    "\n",
    "from nltk.stem import WordNetLemmatizer \n",
    "  \n",
    "lemmatizer = WordNetLemmatizer() \n",
    "\n",
    "\"\"\"\n",
    "from keras import backend as K\n",
    "from keras.optimizers import Adam\n",
    "from keras.preprocessing import sequence\n",
    "from keras.models import Sequential\n",
    "from keras.layers import Dense, Embedding, Conv1D, GlobalMaxPooling1D, Dropout, Flatten\n",
    "from keras.layers import LSTM\n",
    "from keras.callbacks import EarlyStopping\n",
    "from keras.callbacks import ModelCheckpoint\n",
    "\n",
    "from keras.preprocessing.text import text_to_word_sequence\n",
    "from keras.preprocessing.text import hashing_trick\n",
    "from keras.preprocessing.text import Tokenizer\n",
    "from keras.preprocessing.sequence import pad_sequences\n",
    "\"\"\"\n",
    "from collections import Counter\n",
    "\n",
    "from sklearn.model_selection import train_test_split\n",
    "from sklearn import metrics\n",
    "\n",
    "import seaborn as sns\n",
    "from pylab import rcParams\n",
    "import matplotlib.pyplot as plt\n",
    "from matplotlib import rc\n",
    "%matplotlib inline\n",
    "%config InlineBackend.figure_format='retina'\n",
    "\n",
    "sns.set(style='whitegrid', palette='muted', font_scale=1.2)\n",
    "HAPPY_COLORS_PALETTE = [\"#01BEFE\", \"#FFDD00\", \"#FF7D00\", \"#FF006D\", \"#ADFF02\", \"#8F00FF\"]\n",
    "sns.set_palette(sns.color_palette(HAPPY_COLORS_PALETTE))\n",
    "rcParams['figure.figsize'] = 14, 8\n",
    "\n",
    "SEED = 42"
   ]
  },
  {
   "cell_type": "markdown",
   "metadata": {
    "id": "KuLITqRjIoSi"
   },
   "source": [
    "# Cargar data"
   ]
  },
  {
   "cell_type": "code",
   "execution_count": 55,
   "metadata": {
    "id": "Uuo6rr1-GriX",
    "outputId": "68679de7-fe73-4dd8-de2f-9c35704edd20"
   },
   "outputs": [],
   "source": [
    "data = pd.read_csv('../input/nlpdatasets/clean_train.csv')\n",
    "to_predict = pd.read_csv('../input/nlpdatasets/clean_test.csv')"
   ]
  },
  {
   "cell_type": "code",
   "execution_count": 56,
   "metadata": {},
   "outputs": [],
   "source": [
    "data['tweet'] = data.clean_text_no_tags.apply(lambda x: x.lower())\n",
    "to_predict['tweet'] = to_predict.clean_text_no_tags.apply(lambda x: x.lower())"
   ]
  },
  {
   "cell_type": "code",
   "execution_count": 57,
   "metadata": {},
   "outputs": [
    {
     "data": {
      "text/plain": [
       "0    0.57034\n",
       "1    0.42966\n",
       "Name: target, dtype: float64"
      ]
     },
     "execution_count": 57,
     "metadata": {},
     "output_type": "execute_result"
    }
   ],
   "source": [
    "data.target.value_counts()/len(data.target)"
   ]
  },
  {
   "cell_type": "markdown",
   "metadata": {},
   "source": [
    "# Agrupando por keywords\n",
    "\n",
    "Tal como se dice aca https://www.kaggle.com/gunesevitan/nlp-with-disaster-tweets-eda-cleaning-and-bert parece que la data se agrupa por keywords de forma bastante pareja.\n",
    "\n",
    "Se va a aprovechar esto para hacer cross validation, pero a diferencia de lo que se propone en ese notebook, se va a ponderar por F1 score el promedio de las predicciones que se obtengan de ese cross validation."
   ]
  },
  {
   "cell_type": "code",
   "execution_count": 58,
   "metadata": {},
   "outputs": [
    {
     "name": "stdout",
     "output_type": "stream",
     "text": [
      "keywords: 7552\n",
      "keywords unicas: 221\n"
     ]
    }
   ],
   "source": [
    "print(f\"keywords: {len(' '.join(data.keyword).split())}\")\n",
    "print(f\"keywords unicas: {len(set(' '.join(data.keyword).split()))}\")"
   ]
  },
  {
   "cell_type": "code",
   "execution_count": 59,
   "metadata": {},
   "outputs": [
    {
     "data": {
      "text/plain": [
       "1    7552\n",
       "0      61\n",
       "Name: keyword, dtype: int64"
      ]
     },
     "execution_count": 59,
     "metadata": {},
     "output_type": "execute_result"
    }
   ],
   "source": [
    "data.keyword.apply(lambda x: len(x.split())).value_counts()"
   ]
  },
  {
   "cell_type": "markdown",
   "metadata": {},
   "source": [
    "Hay 7552 tweets con una sola keyword y 61 sin ninguna. Esto es conveniente porque entonces podemos usar un groupby para agrupar los tipos de tweets por keyword"
   ]
  },
  {
   "cell_type": "code",
   "execution_count": 60,
   "metadata": {},
   "outputs": [
    {
     "data": {
      "text/plain": [
       "keyword\n",
       "                       61\n",
       "ablaze                 36\n",
       "accident               35\n",
       "aftershock             34\n",
       "airplane%20accident    35\n",
       "                       ..\n",
       "wounded                37\n",
       "wounds                 33\n",
       "wreck                  37\n",
       "wreckage               39\n",
       "wrecked                39\n",
       "Name: target, Length: 222, dtype: int64"
      ]
     },
     "execution_count": 60,
     "metadata": {},
     "output_type": "execute_result"
    }
   ],
   "source": [
    "tweet_types = data.groupby('keyword').target.count()\n",
    "tweet_types"
   ]
  },
  {
   "cell_type": "code",
   "execution_count": 61,
   "metadata": {},
   "outputs": [
    {
     "data": {
      "text/plain": [
       "count    222.000000\n",
       "mean      34.292793\n",
       "std        5.103441\n",
       "min        9.000000\n",
       "25%       33.000000\n",
       "50%       35.000000\n",
       "75%       37.000000\n",
       "max       61.000000\n",
       "Name: target, dtype: float64"
      ]
     },
     "execution_count": 61,
     "metadata": {},
     "output_type": "execute_result"
    }
   ],
   "source": [
    "tweet_types.describe()"
   ]
  },
  {
   "cell_type": "markdown",
   "metadata": {},
   "source": [
    "Cada clase de tweets esta bastante balanceada"
   ]
  },
  {
   "cell_type": "code",
   "execution_count": 62,
   "metadata": {},
   "outputs": [],
   "source": [
    "tweet_types_1 = data[data.target == 1].groupby('keyword').target.count()\n",
    "tweet_types_0 = data[data.target == 0].groupby('keyword').target.count()"
   ]
  },
  {
   "cell_type": "code",
   "execution_count": 63,
   "metadata": {},
   "outputs": [
    {
     "data": {
      "text/plain": [
       "count    221.000000\n",
       "mean      14.800905\n",
       "std        9.820026\n",
       "min        1.000000\n",
       "25%        6.000000\n",
       "50%       13.000000\n",
       "75%       23.000000\n",
       "max       42.000000\n",
       "Name: target, dtype: float64"
      ]
     },
     "execution_count": 63,
     "metadata": {},
     "output_type": "execute_result"
    }
   ],
   "source": [
    "tweet_types_1.describe()"
   ]
  },
  {
   "cell_type": "code",
   "execution_count": 64,
   "metadata": {},
   "outputs": [
    {
     "data": {
      "text/plain": [
       "count    219.000000\n",
       "mean      19.826484\n",
       "std        9.465875\n",
       "min        1.000000\n",
       "25%       12.000000\n",
       "50%       20.000000\n",
       "75%       28.000000\n",
       "max       40.000000\n",
       "Name: target, dtype: float64"
      ]
     },
     "execution_count": 64,
     "metadata": {},
     "output_type": "execute_result"
    }
   ],
   "source": [
    "tweet_types_0.describe()"
   ]
  },
  {
   "cell_type": "markdown",
   "metadata": {},
   "source": [
    "La distribucion de las clases dividiendolas por target tambien es bastante parecida entre ellas y en su homologo de target."
   ]
  },
  {
   "cell_type": "markdown",
   "metadata": {},
   "source": [
    "Todo esto nos habilita para seguir con esta intencion de hacer cross validation con k folds donde cada fold podria ser una agrupacion de estas clases.\n",
    "\n",
    "La idea es que cada BERT aportaria una mirada distinta. Se estaria aplicando un Mayority Vote de BERTs."
   ]
  },
  {
   "cell_type": "code",
   "execution_count": 65,
   "metadata": {},
   "outputs": [
    {
     "data": {
      "text/plain": [
       "222"
      ]
     },
     "execution_count": 65,
     "metadata": {},
     "output_type": "execute_result"
    }
   ],
   "source": [
    "keywords = set(data.groupby('keyword').id.count().index)\n",
    "len(keywords)"
   ]
  },
  {
   "cell_type": "code",
   "execution_count": 66,
   "metadata": {},
   "outputs": [
    {
     "data": {
      "text/plain": [
       "set()"
      ]
     },
     "execution_count": 66,
     "metadata": {},
     "output_type": "execute_result"
    }
   ],
   "source": [
    "set(to_predict.groupby('keyword').id.count().index)\\\n",
    ".difference(\n",
    "    set(data.groupby('keyword').id.count().index))"
   ]
  },
  {
   "cell_type": "markdown",
   "metadata": {},
   "source": [
    "Las categorias de tweets para el set de train y test son exactamente las mismas"
   ]
  },
  {
   "cell_type": "markdown",
   "metadata": {},
   "source": [
    "# Agrupando keywords por temas\n",
    "\n",
    "Dado que vamos a hacer k fold, pero viendo que hay ciertos temas comunes entre keywords. Como no queremos mezclar temas los agrupamos. Esto generaliza bien al set de test porque comparten exactamente las mismas keywords."
   ]
  },
  {
   "cell_type": "markdown",
   "metadata": {},
   "source": [
    "Hacer esto me overfitea la distribucion. Da muy bien el train y el val pero no el pred"
   ]
  },
  {
   "cell_type": "code",
   "execution_count": 67,
   "metadata": {},
   "outputs": [],
   "source": [
    "themes = [\n",
    "    ['bridge%20collapse'] + ['trouble'] + ['deluge',\n",
    "    'deluged'] + ['blight'] + ['battle'] + ['blaze','blazing'] + ['attack',\n",
    "    'attacked'] + ['arson','arsonist'] + ['apocalypse','armageddon'] + ['catastrophe',\n",
    "    'catastrophic'] + ['collapse','collapsed'] + ['collide','collided','collision',\n",
    "    'crash','crashed','crush','crushed'] + ['danger','threat','hazard',\n",
    "    'hazardous'] + ['demolish','demolished','demolition','rubble','ruin',\n",
    "    'structural%20failure','wreck','wreckage','wrecked',\n",
    "    'flattened','debris'] + ['desolate','desolation','destroy','destroyed',\n",
    "    'destruction'] + ['disaster','tragedy','devastated','devastation','razed'] + ['drown','drowned',\n",
    "    'drowning','electrocute','electrocuted','emergency','emergency%20plan','emergency%20services','first%20responders',\n",
    "    'chemical%20emergency','engulfed','evacuate','evacuation',\n",
    "    'ambulance'] + ['accident','aftershock','airplane%20accident'] + ['blew%20up','blown%20up'] + ['body%20bag',\n",
    "    'body%20bagging','body%20bags'] + ['explode','explosion','exploded','loud%20bang'] + ['famine'] + ['eyewitness'] + ['fear'] + ['harm'] + ['curfew'] + ['damage'] + ['oil%20spill'] + ['displaced'] + ['drought'] + ['fatal','fatality','fatalities','casualty','dead','death',\n",
    "     'deaths','casualties'] + ['injured','injury','wounds','wounded','bleeding','blood',\n",
    "    'bloody','injuries'] + ['nuclear%20disaster','radiation%20emergency',\n",
    "    'nuclear%20reactor'] + ['obliterate','obliteration','annihilated','annihilation',\n",
    "     'obliterated'] + ['outbreak','quarantine','quarantined'],\n",
    "    ['bomb','bombed','bombing','suicide%20bomb',\n",
    "    'suicide%20bomber','suicide%20bombing','terrorism',\n",
    "    'terrorist','detonate','detonation'] + ['bioterror','bioterrorism'] + ['hijack','hijacker','hijacking',\n",
    "     'hostages','hostage'] + ['mass%20murder','mass%20murderer',\n",
    "     'massacre','mayhem'] + ['military','war%20zone','army','weapon',\n",
    "    'weapons'] + ['pandemonium','panic','panicking','screams','screaming','screamed'] + ['police','riot','rioting',\n",
    "     'siren','sirens'] + ['refugees','rescue','rescued','rescuers','survive',\n",
    "    'survived','survivors','trapped','evacuated'] + ['sinkhole','sinking','sunk'] +  ['stretcher','trauma','traumatised','upheaval',' '],\n",
    "    ['storm','tornado','thunder','hurricane','thunderstorm',\n",
    "    'tsunami','twister','typhoon','volcano','violent%20storm',\n",
    "    'whirlwind','wild%20fires','wildfire','windstorm','rainstorm',\n",
    "    'blizzard','sandstorm','snowstorm','natural%20disaster',\n",
    "    'inundated','inundation','landslide','forest%20fire',\n",
    "    'forest%20fires','hail','hailstorm','hellfire','cyclone',\n",
    "    'lava','lightning','heat%20wave','meltdown','mudslide',\n",
    "    'flood','flooding','dust%20storm','earthquake','cliff%20fall',\n",
    "    'epicentre','seismic','derail','derailed','derailment',\n",
    "    'avalanche','floods'] + ['fire','fire%20truck','flames','smoke','ablaze','burned',\n",
    "    'burning','buildings%20burning','buildings%20on%20fire',\n",
    "    'burning%20buildings','bush%20fires'],\n",
    "]"
   ]
  },
  {
   "cell_type": "markdown",
   "metadata": {},
   "source": [
    "# Creando Kfolds"
   ]
  },
  {
   "cell_type": "markdown",
   "metadata": {},
   "source": []
  },
  {
   "cell_type": "code",
   "execution_count": 136,
   "metadata": {},
   "outputs": [],
   "source": [
    "def evenly_split(df):\n",
    "    \n",
    "    tag_1 = df[df.target == 1]\n",
    "    tag_0 = df[df.target == 0]\n",
    "    \n",
    "    #Esto es para que el set de train y val este equilibrado entre 1 y 0 y para que el \n",
    "    #set de validacion tenga solo datos nuevos que no se usaron en train \n",
    "\n",
    "    tag_1_val_size = 0.25  \n",
    "    tag_0_val_size = 1 - (len(tag_1) * (1 - tag_1_val_size))/(len(tag_0))\n",
    "\n",
    "    tag_1_train, tag_1_val = train_test_split(tag_1, test_size = tag_1_val_size)\n",
    "    tag_0_train, tag_0_val = train_test_split(tag_0, test_size = tag_0_val_size)\n",
    "\n",
    "    if len(tag_0_val) > len(tag_1_val):\n",
    "        tag_0_val = tag_0_val.sample(len(tag_1_val))\n",
    "    else:\n",
    "        tag_1_val = tag_1_val.sample(len(tag_0_val))\n",
    "\n",
    "    train = pd.concat([tag_1_train,tag_0_train])\n",
    "    val = pd.concat([tag_1_val,tag_0_val])\n",
    "    \n",
    "    return train, val"
   ]
  },
  {
   "cell_type": "code",
   "execution_count": 137,
   "metadata": {},
   "outputs": [],
   "source": [
    "K = len(themes)\n",
    "\n",
    "#tweet_types = tweet_types.sample(frac=1,random_state=SEED) #shuffle\n",
    "#folds_names = np.array_split(tweet_types.index, K)\n",
    "\n",
    "train_folds = []\n",
    "val_folds = []\n",
    "#for fold_names in folds_names:\n",
    "for fold_names in themes:\n",
    "    \n",
    "    theme_names = pd.DataFrame(fold_names)\n",
    "    theme_names.columns = ['keyword']\n",
    "    \n",
    "    fold = data.merge(\n",
    "        theme_names, on='keyword'\n",
    "    )\n",
    "    train_fold, val_fold = evenly_split(fold)\n",
    "    train_folds.append(train_fold)\n",
    "    val_folds.append(val_fold)"
   ]
  },
  {
   "cell_type": "markdown",
   "metadata": {
    "id": "WQ4uPUzsI1pd"
   },
   "source": [
    "# Encodeo de tweets para la red neuronal"
   ]
  },
  {
   "cell_type": "code",
   "execution_count": 70,
   "metadata": {
    "id": "1RaQeQNKb8XG"
   },
   "outputs": [],
   "source": [
    "module_url = \"https://tfhub.dev/tensorflow/bert_en_uncased_L-24_H-1024_A-16/2\"\n",
    "bert_layer = hub.KerasLayer(module_url, trainable=True)"
   ]
  },
  {
   "cell_type": "code",
   "execution_count": 71,
   "metadata": {
    "id": "m389jxkZcXJj"
   },
   "outputs": [],
   "source": [
    "vocab_file = bert_layer.resolved_object.vocab_file.asset_path.numpy()\n",
    "do_lower_case = bert_layer.resolved_object.do_lower_case.numpy()\n",
    "tokenizer = tokenization.FullTokenizer(vocab_file, do_lower_case)"
   ]
  },
  {
   "cell_type": "code",
   "execution_count": 138,
   "metadata": {
    "id": "Wi2IYKjTJv_9",
    "outputId": "e688df24-bbc5-444a-9a2a-df8a69de5170"
   },
   "outputs": [
    {
     "name": "stdout",
     "output_type": "stream",
     "text": [
      "porcentaje de tweets que quedan cortados: 0.03% con MAX_LEN = 160\n",
      "porcentaje de palabras que se pierden al truncar: 0.43% con MAX_LEN = 160\n"
     ]
    },
    {
     "data": {
      "image/png": "[encoded data removed]",
      "text/plain": [
       "<Figure size 1008x576 with 4 Axes>"
      ]
     },
     "metadata": {
      "image/png": {
       "height": 489,
       "width": 842
      }
     },
     "output_type": "display_data"
    }
   ],
   "source": [
    "# La red requiere una longitud maxima y mas rapido entrena \n",
    "#cuando mas corta es la longitud por lo que estoy buscando con que longitud \n",
    "#maxima quedarme sin tirar demasiados tweets\n",
    "\n",
    "fig, axs = plt.subplots(ncols=2,nrows=2)\n",
    "MAX_LEN = 160\n",
    "\n",
    "\n",
    "lens = data.tweet.apply(lambda x: len(x))\n",
    "sns.distplot(lens,ax=axs[0,0])\n",
    "axs[0,0].set_xlabel('longitud de tweets')\n",
    "print(\"porcentaje de tweets que quedan cortados: {}% con MAX_LEN = {}\"\\\n",
    "      .format(round(len(lens[ lens > MAX_LEN ])/len(data) * 100,2),MAX_LEN))\n",
    "\n",
    "\n",
    "wlens = data.tweet.apply(lambda x: len(x.split()))\n",
    "sns.distplot(wlens,ax=axs[0,1])\n",
    "axs[0,1].set_xlabel('cantidad de palabras de tweets')\n",
    "\n",
    "\n",
    "truncated_lens = lens[lens >= MAX_LEN].apply(lambda x: x - MAX_LEN)\n",
    "sns.distplot(truncated_lens,ax=axs[1,0])\n",
    "axs[1,0].set_xlabel('caracteres trucandos de tweets truncados')\n",
    "\n",
    "\n",
    "truncated_wlens = data.tweet.apply(lambda x: len(x.split()) - len(x[:MAX_LEN].split()))\n",
    "truncated_wlens = truncated_wlens[truncated_wlens > 0]\n",
    "sns.distplot(truncated_wlens,ax=axs[1,1])\n",
    "axs[1,1].set_xlabel('palabras truncadas de tweets truncados')\n",
    "print(\"porcentaje de palabras que se pierden al truncar: {}% con MAX_LEN = {}\"\\\n",
    "      .format(round(truncated_wlens.sum()/len(wlens) * 100,2),MAX_LEN))"
   ]
  },
  {
   "cell_type": "code",
   "execution_count": 164,
   "metadata": {
    "id": "M2ESdKkScZwQ"
   },
   "outputs": [],
   "source": [
    "def bert_encode(texts, tokenizer, max_len=512):\n",
    "    all_tokens = []\n",
    "    all_masks = []\n",
    "    all_segments = []\n",
    "    \n",
    "    for text in texts:\n",
    "        text = tokenizer.tokenize(text)\n",
    "            \n",
    "        text = text[:max_len-2]\n",
    "        input_sequence = [\"[CLS]\"] + text + [\"[SEP]\"]\n",
    "        pad_len = max_len - len(input_sequence)\n",
    "        \n",
    "        tokens = tokenizer.convert_tokens_to_ids(input_sequence)\n",
    "        tokens += [0] * pad_len\n",
    "        pad_masks = [1] * len(input_sequence) + [0] * pad_len\n",
    "        segment_ids = [0] * max_len\n",
    "        \n",
    "        all_tokens.append(tokens)\n",
    "        all_masks.append(pad_masks)\n",
    "        all_segments.append(segment_ids)\n",
    "    \n",
    "    return np.array(all_tokens), np.array(all_masks), np.array(all_segments)\n",
    "\n",
    "#train = pd.concat(train_folds)\n",
    "#val = pd.concat(val_folds)\n",
    "#train, val = evenly_split(data)\n",
    "train, val = train_test_split(data, test_size = 0.25, random_state = SEED, shuffle = True)\n",
    "\n",
    "encoded_data = bert_encode(data.tweet.values, tokenizer, max_len=MAX_LEN)\n",
    "encoded_train = bert_encode(train.tweet.values, tokenizer, max_len=MAX_LEN)\n",
    "encoded_val = bert_encode(val.tweet.values, tokenizer, max_len=MAX_LEN)\n",
    "\n",
    "y_data = data.target.values\n",
    "total_y_train = train.target.values\n",
    "total_y_val = val.target.values\n",
    "x_to_predict = bert_encode(to_predict.tweet.values, tokenizer, max_len=MAX_LEN)"
   ]
  },
  {
   "cell_type": "code",
   "execution_count": 165,
   "metadata": {},
   "outputs": [
    {
     "data": {
      "text/plain": [
       "((5709, 11), (1904, 11))"
      ]
     },
     "execution_count": 165,
     "metadata": {},
     "output_type": "execute_result"
    }
   ],
   "source": [
    "train.shape,val.shape"
   ]
  },
  {
   "cell_type": "code",
   "execution_count": 166,
   "metadata": {},
   "outputs": [
    {
     "data": {
      "text/plain": [
       "0    3249\n",
       "1    2460\n",
       "Name: target, dtype: int64"
      ]
     },
     "execution_count": 166,
     "metadata": {},
     "output_type": "execute_result"
    }
   ],
   "source": [
    "train.target.value_counts()"
   ]
  },
  {
   "cell_type": "code",
   "execution_count": 167,
   "metadata": {},
   "outputs": [
    {
     "data": {
      "text/plain": [
       "0    1093\n",
       "1     811\n",
       "Name: target, dtype: int64"
      ]
     },
     "execution_count": 167,
     "metadata": {},
     "output_type": "execute_result"
    }
   ],
   "source": [
    "val.target.value_counts()"
   ]
  },
  {
   "cell_type": "markdown",
   "metadata": {
    "id": "zaOk_oRdI_tR"
   },
   "source": [
    "# Creacion de modelo"
   ]
  },
  {
   "cell_type": "code",
   "execution_count": 74,
   "metadata": {
    "id": "Q2Y3H2KnJUTf"
   },
   "outputs": [],
   "source": [
    "def build_model(bert_layer, max_len=512):\n",
    "    input_word_ids = Input(shape=(max_len,), dtype=tf.int32, name=\"input_word_ids\")\n",
    "    input_mask = Input(shape=(max_len,), dtype=tf.int32, name=\"input_mask\")\n",
    "    segment_ids = Input(shape=(max_len,), dtype=tf.int32, name=\"segment_ids\")\n",
    "\n",
    "    _, sequence_output = bert_layer([input_word_ids, input_mask, segment_ids])\n",
    "    clf_output = sequence_output[:, 0, :]\n",
    "    out = Dense(1, activation='sigmoid')(clf_output)\n",
    "    \n",
    "    model = Model(inputs=[input_word_ids, input_mask, segment_ids], outputs=out)\n",
    "    model.compile(Adam(lr=1e-6), loss='binary_crossentropy', metrics=['accuracy'])\n",
    "    \n",
    "    return model"
   ]
  },
  {
   "cell_type": "markdown",
   "metadata": {
    "id": "yi0HwvQbJC-c"
   },
   "source": [
    "# Entrenando modelo"
   ]
  },
  {
   "cell_type": "code",
   "execution_count": 75,
   "metadata": {},
   "outputs": [
    {
     "name": "stdout",
     "output_type": "stream",
     "text": [
      "\n",
      "FOLD 1\n"
     ]
    },
    {
     "ename": "KeyboardInterrupt",
     "evalue": "",
     "output_type": "error",
     "traceback": [
      "\u001b[0;31m---------------------------------------------------------------------------\u001b[0m",
      "\u001b[0;31mKeyboardInterrupt\u001b[0m                         Traceback (most recent call last)",
      "\u001b[0;32m<ipython-input-75-31cde97296b0>\u001b[0m in \u001b[0;36m<module>\u001b[0;34m\u001b[0m\n\u001b[1;32m     30\u001b[0m     history = model.fit(encoded_train_fold,y_train, epochs=EPOCHS, \n\u001b[1;32m     31\u001b[0m                         \u001b[0mvalidation_data\u001b[0m\u001b[0;34m=\u001b[0m\u001b[0;34m(\u001b[0m\u001b[0mencoded_val_fold\u001b[0m\u001b[0;34m,\u001b[0m\u001b[0my_val\u001b[0m\u001b[0;34m)\u001b[0m\u001b[0;34m,\u001b[0m\u001b[0;34m\u001b[0m\u001b[0;34m\u001b[0m\u001b[0m\n\u001b[0;32m---> 32\u001b[0;31m                         batch_size=BATCH_SIZE)\n\u001b[0m\u001b[1;32m     33\u001b[0m \u001b[0;34m\u001b[0m\u001b[0m\n\u001b[1;32m     34\u001b[0m     \u001b[0;31m#print(\"TRAINING WITH WHOLE TRAIN ONCE\")\u001b[0m\u001b[0;34m\u001b[0m\u001b[0;34m\u001b[0m\u001b[0;34m\u001b[0m\u001b[0m\n",
      "\u001b[0;32m/opt/conda/lib/python3.7/site-packages/tensorflow/python/keras/engine/training.py\u001b[0m in \u001b[0;36m_method_wrapper\u001b[0;34m(self, *args, **kwargs)\u001b[0m\n\u001b[1;32m     64\u001b[0m   \u001b[0;32mdef\u001b[0m \u001b[0m_method_wrapper\u001b[0m\u001b[0;34m(\u001b[0m\u001b[0mself\u001b[0m\u001b[0;34m,\u001b[0m \u001b[0;34m*\u001b[0m\u001b[0margs\u001b[0m\u001b[0;34m,\u001b[0m \u001b[0;34m**\u001b[0m\u001b[0mkwargs\u001b[0m\u001b[0;34m)\u001b[0m\u001b[0;34m:\u001b[0m\u001b[0;34m\u001b[0m\u001b[0;34m\u001b[0m\u001b[0m\n\u001b[1;32m     65\u001b[0m     \u001b[0;32mif\u001b[0m \u001b[0;32mnot\u001b[0m \u001b[0mself\u001b[0m\u001b[0;34m.\u001b[0m\u001b[0m_in_multi_worker_mode\u001b[0m\u001b[0;34m(\u001b[0m\u001b[0;34m)\u001b[0m\u001b[0;34m:\u001b[0m  \u001b[0;31m# pylint: disable=protected-access\u001b[0m\u001b[0;34m\u001b[0m\u001b[0;34m\u001b[0m\u001b[0m\n\u001b[0;32m---> 66\u001b[0;31m       \u001b[0;32mreturn\u001b[0m \u001b[0mmethod\u001b[0m\u001b[0;34m(\u001b[0m\u001b[0mself\u001b[0m\u001b[0;34m,\u001b[0m \u001b[0;34m*\u001b[0m\u001b[0margs\u001b[0m\u001b[0;34m,\u001b[0m \u001b[0;34m**\u001b[0m\u001b[0mkwargs\u001b[0m\u001b[0;34m)\u001b[0m\u001b[0;34m\u001b[0m\u001b[0;34m\u001b[0m\u001b[0m\n\u001b[0m\u001b[1;32m     67\u001b[0m \u001b[0;34m\u001b[0m\u001b[0m\n\u001b[1;32m     68\u001b[0m     \u001b[0;31m# Running inside `run_distribute_coordinator` already.\u001b[0m\u001b[0;34m\u001b[0m\u001b[0;34m\u001b[0m\u001b[0;34m\u001b[0m\u001b[0m\n",
      "\u001b[0;32m/opt/conda/lib/python3.7/site-packages/tensorflow/python/keras/engine/training.py\u001b[0m in \u001b[0;36mfit\u001b[0;34m(self, x, y, batch_size, epochs, verbose, callbacks, validation_split, validation_data, shuffle, class_weight, sample_weight, initial_epoch, steps_per_epoch, validation_steps, validation_batch_size, validation_freq, max_queue_size, workers, use_multiprocessing)\u001b[0m\n\u001b[1;32m    846\u001b[0m                 batch_size=batch_size):\n\u001b[1;32m    847\u001b[0m               \u001b[0mcallbacks\u001b[0m\u001b[0;34m.\u001b[0m\u001b[0mon_train_batch_begin\u001b[0m\u001b[0;34m(\u001b[0m\u001b[0mstep\u001b[0m\u001b[0;34m)\u001b[0m\u001b[0;34m\u001b[0m\u001b[0;34m\u001b[0m\u001b[0m\n\u001b[0;32m--> 848\u001b[0;31m               \u001b[0mtmp_logs\u001b[0m \u001b[0;34m=\u001b[0m \u001b[0mtrain_function\u001b[0m\u001b[0;34m(\u001b[0m\u001b[0miterator\u001b[0m\u001b[0;34m)\u001b[0m\u001b[0;34m\u001b[0m\u001b[0;34m\u001b[0m\u001b[0m\n\u001b[0m\u001b[1;32m    849\u001b[0m               \u001b[0;31m# Catch OutOfRangeError for Datasets of unknown size.\u001b[0m\u001b[0;34m\u001b[0m\u001b[0;34m\u001b[0m\u001b[0;34m\u001b[0m\u001b[0m\n\u001b[1;32m    850\u001b[0m               \u001b[0;31m# This blocks until the batch has finished executing.\u001b[0m\u001b[0;34m\u001b[0m\u001b[0;34m\u001b[0m\u001b[0;34m\u001b[0m\u001b[0m\n",
      "\u001b[0;32m/opt/conda/lib/python3.7/site-packages/tensorflow/python/eager/def_function.py\u001b[0m in \u001b[0;36m__call__\u001b[0;34m(self, *args, **kwds)\u001b[0m\n\u001b[1;32m    578\u001b[0m         \u001b[0mxla_context\u001b[0m\u001b[0;34m.\u001b[0m\u001b[0mExit\u001b[0m\u001b[0;34m(\u001b[0m\u001b[0;34m)\u001b[0m\u001b[0;34m\u001b[0m\u001b[0;34m\u001b[0m\u001b[0m\n\u001b[1;32m    579\u001b[0m     \u001b[0;32melse\u001b[0m\u001b[0;34m:\u001b[0m\u001b[0;34m\u001b[0m\u001b[0;34m\u001b[0m\u001b[0m\n\u001b[0;32m--> 580\u001b[0;31m       \u001b[0mresult\u001b[0m \u001b[0;34m=\u001b[0m \u001b[0mself\u001b[0m\u001b[0;34m.\u001b[0m\u001b[0m_call\u001b[0m\u001b[0;34m(\u001b[0m\u001b[0;34m*\u001b[0m\u001b[0margs\u001b[0m\u001b[0;34m,\u001b[0m \u001b[0;34m**\u001b[0m\u001b[0mkwds\u001b[0m\u001b[0;34m)\u001b[0m\u001b[0;34m\u001b[0m\u001b[0;34m\u001b[0m\u001b[0m\n\u001b[0m\u001b[1;32m    581\u001b[0m \u001b[0;34m\u001b[0m\u001b[0m\n\u001b[1;32m    582\u001b[0m     \u001b[0;32mif\u001b[0m \u001b[0mtracing_count\u001b[0m \u001b[0;34m==\u001b[0m \u001b[0mself\u001b[0m\u001b[0;34m.\u001b[0m\u001b[0m_get_tracing_count\u001b[0m\u001b[0;34m(\u001b[0m\u001b[0;34m)\u001b[0m\u001b[0;34m:\u001b[0m\u001b[0;34m\u001b[0m\u001b[0;34m\u001b[0m\u001b[0m\n",
      "\u001b[0;32m/opt/conda/lib/python3.7/site-packages/tensorflow/python/eager/def_function.py\u001b[0m in \u001b[0;36m_call\u001b[0;34m(self, *args, **kwds)\u001b[0m\n\u001b[1;32m    642\u001b[0m         \u001b[0;31m# Lifting succeeded, so variables are initialized and we can run the\u001b[0m\u001b[0;34m\u001b[0m\u001b[0;34m\u001b[0m\u001b[0;34m\u001b[0m\u001b[0m\n\u001b[1;32m    643\u001b[0m         \u001b[0;31m# stateless function.\u001b[0m\u001b[0;34m\u001b[0m\u001b[0;34m\u001b[0m\u001b[0;34m\u001b[0m\u001b[0m\n\u001b[0;32m--> 644\u001b[0;31m         \u001b[0;32mreturn\u001b[0m \u001b[0mself\u001b[0m\u001b[0;34m.\u001b[0m\u001b[0m_stateless_fn\u001b[0m\u001b[0;34m(\u001b[0m\u001b[0;34m*\u001b[0m\u001b[0margs\u001b[0m\u001b[0;34m,\u001b[0m \u001b[0;34m**\u001b[0m\u001b[0mkwds\u001b[0m\u001b[0;34m)\u001b[0m\u001b[0;34m\u001b[0m\u001b[0;34m\u001b[0m\u001b[0m\n\u001b[0m\u001b[1;32m    645\u001b[0m     \u001b[0;32melse\u001b[0m\u001b[0;34m:\u001b[0m\u001b[0;34m\u001b[0m\u001b[0;34m\u001b[0m\u001b[0m\n\u001b[1;32m    646\u001b[0m       \u001b[0mcanon_args\u001b[0m\u001b[0;34m,\u001b[0m \u001b[0mcanon_kwds\u001b[0m \u001b[0;34m=\u001b[0m\u001b[0;31m \u001b[0m\u001b[0;31m\\\u001b[0m\u001b[0;34m\u001b[0m\u001b[0;34m\u001b[0m\u001b[0m\n",
      "\u001b[0;32m/opt/conda/lib/python3.7/site-packages/tensorflow/python/eager/function.py\u001b[0m in \u001b[0;36m__call__\u001b[0;34m(self, *args, **kwargs)\u001b[0m\n\u001b[1;32m   2418\u001b[0m     \u001b[0;32mwith\u001b[0m \u001b[0mself\u001b[0m\u001b[0;34m.\u001b[0m\u001b[0m_lock\u001b[0m\u001b[0;34m:\u001b[0m\u001b[0;34m\u001b[0m\u001b[0;34m\u001b[0m\u001b[0m\n\u001b[1;32m   2419\u001b[0m       \u001b[0mgraph_function\u001b[0m\u001b[0;34m,\u001b[0m \u001b[0margs\u001b[0m\u001b[0;34m,\u001b[0m \u001b[0mkwargs\u001b[0m \u001b[0;34m=\u001b[0m \u001b[0mself\u001b[0m\u001b[0;34m.\u001b[0m\u001b[0m_maybe_define_function\u001b[0m\u001b[0;34m(\u001b[0m\u001b[0margs\u001b[0m\u001b[0;34m,\u001b[0m \u001b[0mkwargs\u001b[0m\u001b[0;34m)\u001b[0m\u001b[0;34m\u001b[0m\u001b[0;34m\u001b[0m\u001b[0m\n\u001b[0;32m-> 2420\u001b[0;31m     \u001b[0;32mreturn\u001b[0m \u001b[0mgraph_function\u001b[0m\u001b[0;34m.\u001b[0m\u001b[0m_filtered_call\u001b[0m\u001b[0;34m(\u001b[0m\u001b[0margs\u001b[0m\u001b[0;34m,\u001b[0m \u001b[0mkwargs\u001b[0m\u001b[0;34m)\u001b[0m  \u001b[0;31m# pylint: disable=protected-access\u001b[0m\u001b[0;34m\u001b[0m\u001b[0;34m\u001b[0m\u001b[0m\n\u001b[0m\u001b[1;32m   2421\u001b[0m \u001b[0;34m\u001b[0m\u001b[0m\n\u001b[1;32m   2422\u001b[0m   \u001b[0;34m@\u001b[0m\u001b[0mproperty\u001b[0m\u001b[0;34m\u001b[0m\u001b[0;34m\u001b[0m\u001b[0m\n",
      "\u001b[0;32m/opt/conda/lib/python3.7/site-packages/tensorflow/python/eager/function.py\u001b[0m in \u001b[0;36m_filtered_call\u001b[0;34m(self, args, kwargs)\u001b[0m\n\u001b[1;32m   1663\u001b[0m          if isinstance(t, (ops.Tensor,\n\u001b[1;32m   1664\u001b[0m                            resource_variable_ops.BaseResourceVariable))),\n\u001b[0;32m-> 1665\u001b[0;31m         self.captured_inputs)\n\u001b[0m\u001b[1;32m   1666\u001b[0m \u001b[0;34m\u001b[0m\u001b[0m\n\u001b[1;32m   1667\u001b[0m   \u001b[0;32mdef\u001b[0m \u001b[0m_call_flat\u001b[0m\u001b[0;34m(\u001b[0m\u001b[0mself\u001b[0m\u001b[0;34m,\u001b[0m \u001b[0margs\u001b[0m\u001b[0;34m,\u001b[0m \u001b[0mcaptured_inputs\u001b[0m\u001b[0;34m,\u001b[0m \u001b[0mcancellation_manager\u001b[0m\u001b[0;34m=\u001b[0m\u001b[0;32mNone\u001b[0m\u001b[0;34m)\u001b[0m\u001b[0;34m:\u001b[0m\u001b[0;34m\u001b[0m\u001b[0;34m\u001b[0m\u001b[0m\n",
      "\u001b[0;32m/opt/conda/lib/python3.7/site-packages/tensorflow/python/eager/function.py\u001b[0m in \u001b[0;36m_call_flat\u001b[0;34m(self, args, captured_inputs, cancellation_manager)\u001b[0m\n\u001b[1;32m   1744\u001b[0m       \u001b[0;31m# No tape is watching; skip to running the function.\u001b[0m\u001b[0;34m\u001b[0m\u001b[0;34m\u001b[0m\u001b[0;34m\u001b[0m\u001b[0m\n\u001b[1;32m   1745\u001b[0m       return self._build_call_outputs(self._inference_function.call(\n\u001b[0;32m-> 1746\u001b[0;31m           ctx, args, cancellation_manager=cancellation_manager))\n\u001b[0m\u001b[1;32m   1747\u001b[0m     forward_backward = self._select_forward_and_backward_functions(\n\u001b[1;32m   1748\u001b[0m         \u001b[0margs\u001b[0m\u001b[0;34m,\u001b[0m\u001b[0;34m\u001b[0m\u001b[0;34m\u001b[0m\u001b[0m\n",
      "\u001b[0;32m/opt/conda/lib/python3.7/site-packages/tensorflow/python/eager/function.py\u001b[0m in \u001b[0;36mcall\u001b[0;34m(self, ctx, args, cancellation_manager)\u001b[0m\n\u001b[1;32m    596\u001b[0m               \u001b[0minputs\u001b[0m\u001b[0;34m=\u001b[0m\u001b[0margs\u001b[0m\u001b[0;34m,\u001b[0m\u001b[0;34m\u001b[0m\u001b[0;34m\u001b[0m\u001b[0m\n\u001b[1;32m    597\u001b[0m               \u001b[0mattrs\u001b[0m\u001b[0;34m=\u001b[0m\u001b[0mattrs\u001b[0m\u001b[0;34m,\u001b[0m\u001b[0;34m\u001b[0m\u001b[0;34m\u001b[0m\u001b[0m\n\u001b[0;32m--> 598\u001b[0;31m               ctx=ctx)\n\u001b[0m\u001b[1;32m    599\u001b[0m         \u001b[0;32melse\u001b[0m\u001b[0;34m:\u001b[0m\u001b[0;34m\u001b[0m\u001b[0;34m\u001b[0m\u001b[0m\n\u001b[1;32m    600\u001b[0m           outputs = execute.execute_with_cancellation(\n",
      "\u001b[0;32m/opt/conda/lib/python3.7/site-packages/tensorflow/python/eager/execute.py\u001b[0m in \u001b[0;36mquick_execute\u001b[0;34m(op_name, num_outputs, inputs, attrs, ctx, name)\u001b[0m\n\u001b[1;32m     58\u001b[0m     \u001b[0mctx\u001b[0m\u001b[0;34m.\u001b[0m\u001b[0mensure_initialized\u001b[0m\u001b[0;34m(\u001b[0m\u001b[0;34m)\u001b[0m\u001b[0;34m\u001b[0m\u001b[0;34m\u001b[0m\u001b[0m\n\u001b[1;32m     59\u001b[0m     tensors = pywrap_tfe.TFE_Py_Execute(ctx._handle, device_name, op_name,\n\u001b[0;32m---> 60\u001b[0;31m                                         inputs, attrs, num_outputs)\n\u001b[0m\u001b[1;32m     61\u001b[0m   \u001b[0;32mexcept\u001b[0m \u001b[0mcore\u001b[0m\u001b[0;34m.\u001b[0m\u001b[0m_NotOkStatusException\u001b[0m \u001b[0;32mas\u001b[0m \u001b[0me\u001b[0m\u001b[0;34m:\u001b[0m\u001b[0;34m\u001b[0m\u001b[0;34m\u001b[0m\u001b[0m\n\u001b[1;32m     62\u001b[0m     \u001b[0;32mif\u001b[0m \u001b[0mname\u001b[0m \u001b[0;32mis\u001b[0m \u001b[0;32mnot\u001b[0m \u001b[0;32mNone\u001b[0m\u001b[0;34m:\u001b[0m\u001b[0;34m\u001b[0m\u001b[0;34m\u001b[0m\u001b[0m\n",
      "\u001b[0;31mKeyboardInterrupt\u001b[0m: "
     ]
    }
   ],
   "source": [
    "TRIAL = 8\n",
    "\n",
    "best_models = []\n",
    "best_scores = []\n",
    "\n",
    "EPOCHS = 1\n",
    "BATCH_SIZE = 2\n",
    "\n",
    "for fold_num in range(K):\n",
    "    \n",
    "    print()\n",
    "    print(f\"FOLD {fold_num+1}\")\n",
    "    \n",
    "    train_fold = train_folds[fold_num]\n",
    "    val_fold = val_folds[fold_num]\n",
    "\n",
    "    encoded_train_fold = bert_encode(train_fold.tweet.values, tokenizer, max_len=MAX_LEN)\n",
    "    encoded_val_fold = bert_encode(val_fold.tweet.values, tokenizer, max_len=MAX_LEN)\n",
    "    \n",
    "    y_train = train_fold.target.values\n",
    "    y_val = val_fold.target.values\n",
    "    \"\"\"\n",
    "    checkpoint = ModelCheckpoint(filepath=str(TRIAL)+'_'+str(fold_num)+'.h5',\n",
    "                                 monitor='val_loss', save_best_only=True, verbose = 1)\"\"\"\n",
    "    model = build_model(bert_layer, max_len=MAX_LEN)\n",
    "    \"\"\"\n",
    "    history = model.fit(encoded_train_fold,y_train, epochs=EPOCHS, \n",
    "                        validation_data=(encoded_val_fold,y_val),\n",
    "                        callbacks=[checkpoint],batch_size=BATCH_SIZE)\"\"\"\n",
    "    history = model.fit(encoded_train_fold,y_train, epochs=EPOCHS, \n",
    "                        validation_data=(encoded_val_fold,y_val),\n",
    "                        batch_size=BATCH_SIZE)\n",
    "    \n",
    "    #print(\"TRAINING WITH WHOLE TRAIN ONCE\")\n",
    "    \"\"\"\n",
    "    model.fit(encoded_train,total_y_train, epochs=1, \n",
    "              validation_data=(encoded_val,total_y_val),\n",
    "              callbacks=[checkpoint],batch_size=BATCH_SIZE)\"\"\"\n",
    "    \n",
    "    #model.load_weights(str(TRIAL)+'_'+str(fold_num) +'.h5')\n",
    "    best_scores.append(max(history.history['val_accuracy']))\n",
    "    best_models.append(model)"
   ]
  },
  {
   "cell_type": "code",
   "execution_count": null,
   "metadata": {},
   "outputs": [],
   "source": [
    "#model1 = build_model(bert_layer, max_len=MAX_LEN)\n",
    "#model1.load_weights('5_0.h5')"
   ]
  },
  {
   "cell_type": "code",
   "execution_count": null,
   "metadata": {},
   "outputs": [
    {
     "name": "stdout",
     "output_type": "stream",
     "text": [
      "Epoch 1/3\n",
      "1428/1428 [==============================] - 441s 309ms/step - loss: 0.2038 - accuracy: 0.9233 - val_loss: 0.2458 - val_accuracy: 0.9128\n",
      "Epoch 2/3\n",
      " 505/1428 [=========>....................] - ETA: 4:17 - loss: 0.1670 - accuracy: 0.9376"
     ]
    }
   ],
   "source": [
    "#model = build_model(bert_layer, max_len=MAX_LEN)\n",
    "model.load_weights('8_0.h5')\n",
    "history = model.fit(encoded_train,total_y_train, epochs=3, \n",
    "                    validation_data=(encoded_val,total_y_val),\n",
    "                    batch_size=4)"
   ]
  },
  {
   "cell_type": "code",
   "execution_count": 175,
   "metadata": {},
   "outputs": [],
   "source": [
    "model.save('8_0.h5')"
   ]
  },
  {
   "cell_type": "code",
   "execution_count": 76,
   "metadata": {},
   "outputs": [
    {
     "data": {
      "text/plain": [
       "1    312\n",
       "0    312\n",
       "Name: target, dtype: int64"
      ]
     },
     "execution_count": 76,
     "metadata": {},
     "output_type": "execute_result"
    }
   ],
   "source": [
    "val.target.value_counts()"
   ]
  },
  {
   "cell_type": "markdown",
   "metadata": {
    "id": "G-VQExAaJEqa"
   },
   "source": [
    "# Evaluacion"
   ]
  },
  {
   "cell_type": "code",
   "execution_count": 76,
   "metadata": {},
   "outputs": [
    {
     "data": {
      "text/plain": [
       "1"
      ]
     },
     "execution_count": 76,
     "metadata": {},
     "output_type": "execute_result"
    }
   ],
   "source": [
    "len(best_models)"
   ]
  },
  {
   "cell_type": "code",
   "execution_count": 78,
   "metadata": {},
   "outputs": [],
   "source": [
    "mapProbs = lambda x: 1 if x>=0.5 else 0\n",
    "\n",
    "def predict(dataset,best_models,best_scores, probs=False):\n",
    "    \n",
    "    total_score_sum = 0\n",
    "    for score in best_scores:\n",
    "        total_score_sum += score\n",
    "    \n",
    "    y_pred = np.zeros((dataset[0].shape[0], 1))\n",
    "    for k, model in enumerate(best_models):\n",
    "        score = best_scores[k]\n",
    "        y_pred += model.predict(dataset) * score/total_score_sum #prediccion ponderada\n",
    "        \n",
    "    if probs:\n",
    "        return y_pred\n",
    "    \n",
    "    preds = []\n",
    "    for p in y_pred:\n",
    "        preds.append(mapProbs(p))\n",
    "        \n",
    "    return preds"
   ]
  },
  {
   "cell_type": "code",
   "execution_count": 170,
   "metadata": {
    "id": "ANIrwpd0s71g"
   },
   "outputs": [],
   "source": [
    "#preds = model.predict(x_val)\n",
    "preds_val = predict(encoded_val,[model],[1], probs=False)"
   ]
  },
  {
   "cell_type": "code",
   "execution_count": 171,
   "metadata": {
    "id": "C81g4cQS4Lkm",
    "outputId": "c414a904-3884-488a-9fb8-075679f79bd3"
   },
   "outputs": [
    {
     "name": "stdout",
     "output_type": "stream",
     "text": [
      "              precision    recall  f1-score   support\n",
      "\n",
      "           0       0.92      0.92      0.92      1093\n",
      "           1       0.90      0.89      0.89       811\n",
      "\n",
      "    accuracy                           0.91      1904\n",
      "   macro avg       0.91      0.91      0.91      1904\n",
      "weighted avg       0.91      0.91      0.91      1904\n",
      "\n",
      "F1 score:  0.8930117501546073\n"
     ]
    }
   ],
   "source": [
    "print(metrics.classification_report(total_y_val, preds_val,zero_division = 0))\n",
    "print('F1 score: ',metrics.f1_score(total_y_val, preds_val, zero_division = 0))"
   ]
  },
  {
   "cell_type": "code",
   "execution_count": 172,
   "metadata": {
    "id": "G8vQXnysgmd2"
   },
   "outputs": [],
   "source": [
    "preds = predict(x_to_predict,[model],[1])"
   ]
  },
  {
   "cell_type": "code",
   "execution_count": 173,
   "metadata": {
    "id": "EpYQ1sV53Trt",
    "outputId": "726866bf-f7b8-48aa-e885-7eeae5086ebf"
   },
   "outputs": [
    {
     "data": {
      "text/html": [
       "<div>\n",
       "<style scoped>\n",
       "    .dataframe tbody tr th:only-of-type {\n",
       "        vertical-align: middle;\n",
       "    }\n",
       "\n",
       "    .dataframe tbody tr th {\n",
       "        vertical-align: top;\n",
       "    }\n",
       "\n",
       "    .dataframe thead th {\n",
       "        text-align: right;\n",
       "    }\n",
       "</style>\n",
       "<table border=\"1\" class=\"dataframe\">\n",
       "  <thead>\n",
       "    <tr style=\"text-align: right;\">\n",
       "      <th></th>\n",
       "      <th>target</th>\n",
       "    </tr>\n",
       "    <tr>\n",
       "      <th>id</th>\n",
       "      <th></th>\n",
       "    </tr>\n",
       "  </thead>\n",
       "  <tbody>\n",
       "    <tr>\n",
       "      <th>0</th>\n",
       "      <td>1</td>\n",
       "    </tr>\n",
       "    <tr>\n",
       "      <th>2</th>\n",
       "      <td>1</td>\n",
       "    </tr>\n",
       "    <tr>\n",
       "      <th>3</th>\n",
       "      <td>1</td>\n",
       "    </tr>\n",
       "    <tr>\n",
       "      <th>9</th>\n",
       "      <td>1</td>\n",
       "    </tr>\n",
       "    <tr>\n",
       "      <th>11</th>\n",
       "      <td>1</td>\n",
       "    </tr>\n",
       "    <tr>\n",
       "      <th>...</th>\n",
       "      <td>...</td>\n",
       "    </tr>\n",
       "    <tr>\n",
       "      <th>10861</th>\n",
       "      <td>1</td>\n",
       "    </tr>\n",
       "    <tr>\n",
       "      <th>10865</th>\n",
       "      <td>1</td>\n",
       "    </tr>\n",
       "    <tr>\n",
       "      <th>10868</th>\n",
       "      <td>1</td>\n",
       "    </tr>\n",
       "    <tr>\n",
       "      <th>10874</th>\n",
       "      <td>1</td>\n",
       "    </tr>\n",
       "    <tr>\n",
       "      <th>10875</th>\n",
       "      <td>1</td>\n",
       "    </tr>\n",
       "  </tbody>\n",
       "</table>\n",
       "<p>3263 rows × 1 columns</p>\n",
       "</div>"
      ],
      "text/plain": [
       "       target\n",
       "id           \n",
       "0           1\n",
       "2           1\n",
       "3           1\n",
       "9           1\n",
       "11          1\n",
       "...       ...\n",
       "10861       1\n",
       "10865       1\n",
       "10868       1\n",
       "10874       1\n",
       "10875       1\n",
       "\n",
       "[3263 rows x 1 columns]"
      ]
     },
     "execution_count": 173,
     "metadata": {},
     "output_type": "execute_result"
    }
   ],
   "source": [
    "submit = pd.DataFrame({\n",
    "    'id': list(to_predict.id),\n",
    "    'target': preds\n",
    "}).set_index('id')\n",
    "submit"
   ]
  },
  {
   "cell_type": "code",
   "execution_count": 95,
   "metadata": {
    "id": "EomN6Q-Sgmd-"
   },
   "outputs": [],
   "source": [
    "submit.to_csv('BERT_keras_'+str(TRIAL)+'.csv')"
   ]
  },
  {
   "cell_type": "code",
   "execution_count": null,
   "metadata": {
    "id": "uIGI_T42FG7p",
    "outputId": "dcc97f04-da2d-4b02-99fe-edd002711053"
   },
   "outputs": [],
   "source": [
    "\"\"\"\n",
    "history = model.fit(x_train,y_train, epochs=3, validation_data=(x_val,y_val),\n",
    "                    callbacks=[checkpoint],batch_size=16)\n",
    "TRIAL += 1\n",
    "\n",
    "\n",
    "plt.plot(history.history['accuracy'], label='train accuracy')\n",
    "plt.plot(history.history['val_accuracy'], label='validation accuracy')\n",
    "plt.title('Training history')\n",
    "plt.ylabel('Accuracy')\n",
    "plt.xlabel('Epoch')\n",
    "plt.legend()\n",
    "plt.ylim([0, 1])\n",
    "\n",
    "plt.plot(history.history['loss'], label='loss')\n",
    "plt.plot(history.history['val_loss'], label='validation loss')\n",
    "plt.title('Training history')\n",
    "plt.ylabel('Loss')\n",
    "plt.xlabel('Epoch')\n",
    "plt.legend()\n",
    "plt.ylim([0, 1])\n",
    "\"\"\""
   ]
  }
 ],
 "metadata": {
  "kernelspec": {
   "display_name": "Python 3",
   "language": "python",
   "name": "python3"
  },
  "language_info": {
   "codemirror_mode": {
    "name": "ipython",
    "version": 3
   },
   "file_extension": ".py",
   "mimetype": "text/x-python",
   "name": "python",
   "nbconvert_exporter": "python",
   "pygments_lexer": "ipython3",
   "version": "3.6.9"
  }
 },
 "nbformat": 4,
 "nbformat_minor": 4
}
