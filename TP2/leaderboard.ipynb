{
 "cells": [
  {
   "cell_type": "code",
   "execution_count": 1,
   "metadata": {},
   "outputs": [],
   "source": [
    "import pandas as pd"
   ]
  },
  {
   "cell_type": "code",
   "execution_count": 44,
   "metadata": {},
   "outputs": [],
   "source": [
    "grupos = pd.read_csv(\"../Downloads/grupos.csv\", encoding = \"ISO-8859-1\").set_index('Grupo')\n",
    "leaderboard = pd.read_csv(\"../Downloads/nlp-getting-started-publicleaderboard.csv\").set_index('TeamId')"
   ]
  },
  {
   "cell_type": "code",
   "execution_count": 45,
   "metadata": {},
   "outputs": [],
   "source": [
    "cross = leaderboard.merge(grupos, left_on = 'TeamName', right_on = 'Nombre')"
   ]
  },
  {
   "cell_type": "code",
   "execution_count": 60,
   "metadata": {},
   "outputs": [
    {
     "data": {
      "text/html": [
       "<div>\n",
       "<style scoped>\n",
       "    .dataframe tbody tr th:only-of-type {\n",
       "        vertical-align: middle;\n",
       "    }\n",
       "\n",
       "    .dataframe tbody tr th {\n",
       "        vertical-align: top;\n",
       "    }\n",
       "\n",
       "    .dataframe thead th {\n",
       "        text-align: right;\n",
       "    }\n",
       "</style>\n",
       "<table border=\"1\" class=\"dataframe\">\n",
       "  <thead>\n",
       "    <tr style=\"text-align: right;\">\n",
       "      <th></th>\n",
       "      <th>Nombre</th>\n",
       "      <th>Score</th>\n",
       "    </tr>\n",
       "  </thead>\n",
       "  <tbody>\n",
       "    <tr>\n",
       "      <th>2</th>\n",
       "      <td>DataSOS</td>\n",
       "      <td>0.81274</td>\n",
       "    </tr>\n",
       "    <tr>\n",
       "      <th>0</th>\n",
       "      <td>Corona2</td>\n",
       "      <td>0.80845</td>\n",
       "    </tr>\n",
       "    <tr>\n",
       "      <th>5</th>\n",
       "      <td>Grupo 13</td>\n",
       "      <td>0.80784</td>\n",
       "    </tr>\n",
       "    <tr>\n",
       "      <th>9</th>\n",
       "      <td>Superficial Intelligence</td>\n",
       "      <td>0.80723</td>\n",
       "    </tr>\n",
       "    <tr>\n",
       "      <th>7</th>\n",
       "      <td>Kung Fu Panda</td>\n",
       "      <td>0.80140</td>\n",
       "    </tr>\n",
       "    <tr>\n",
       "      <th>4</th>\n",
       "      <td>Equipo Cloud</td>\n",
       "      <td>0.79742</td>\n",
       "    </tr>\n",
       "    <tr>\n",
       "      <th>6</th>\n",
       "      <td>Grupo Orga Datos</td>\n",
       "      <td>0.79589</td>\n",
       "    </tr>\n",
       "    <tr>\n",
       "      <th>3</th>\n",
       "      <td>El Cuarteto del Code</td>\n",
       "      <td>0.79037</td>\n",
       "    </tr>\n",
       "    <tr>\n",
       "      <th>8</th>\n",
       "      <td>Pyrañas</td>\n",
       "      <td>0.79037</td>\n",
       "    </tr>\n",
       "    <tr>\n",
       "      <th>1</th>\n",
       "      <td>DatUs</td>\n",
       "      <td>0.78332</td>\n",
       "    </tr>\n",
       "    <tr>\n",
       "      <th>11</th>\n",
       "      <td>Unidos por los datos</td>\n",
       "      <td>0.75635</td>\n",
       "    </tr>\n",
       "    <tr>\n",
       "      <th>10</th>\n",
       "      <td>The Datalorian</td>\n",
       "      <td>0.75268</td>\n",
       "    </tr>\n",
       "  </tbody>\n",
       "</table>\n",
       "</div>"
      ],
      "text/plain": [
       "                      Nombre    Score\n",
       "2                    DataSOS  0.81274\n",
       "0                    Corona2  0.80845\n",
       "5                   Grupo 13  0.80784\n",
       "9   Superficial Intelligence  0.80723\n",
       "7              Kung Fu Panda  0.80140\n",
       "4               Equipo Cloud  0.79742\n",
       "6           Grupo Orga Datos  0.79589\n",
       "3       El Cuarteto del Code  0.79037\n",
       "8                    Pyrañas  0.79037\n",
       "1                      DatUs  0.78332\n",
       "11      Unidos por los datos  0.75635\n",
       "10            The Datalorian  0.75268"
      ]
     },
     "execution_count": 60,
     "metadata": {},
     "output_type": "execute_result"
    }
   ],
   "source": [
    "cross.groupby('Nombre')['SubmissionDate'].max().to_frame().merge(cross, on = 'SubmissionDate')\\\n",
    "    .sort_values('Score', ascending = False)[['Nombre','Score']]"
   ]
  },
  {
   "cell_type": "code",
   "execution_count": 53,
   "metadata": {},
   "outputs": [
    {
     "data": {
      "text/plain": [
       "Nombre\n",
       "DatUs                       16\n",
       "El Cuarteto del Code         9\n",
       "Unidos por los datos         7\n",
       "Corona2                      7\n",
       "The Datalorian               6\n",
       "Superficial Intelligence     6\n",
       "Grupo 13                     6\n",
       "DataSOS                      5\n",
       "Pyrañas                      4\n",
       "Kung Fu Panda                2\n",
       "Equipo Cloud                 2\n",
       "Grupo Orga Datos             1\n",
       "Name: SubmissionDate, dtype: int64"
      ]
     },
     "execution_count": 53,
     "metadata": {},
     "output_type": "execute_result"
    }
   ],
   "source": [
    "cross.groupby('Nombre')['SubmissionDate'].count().sort_values(ascending = False)"
   ]
  },
  {
   "cell_type": "code",
   "execution_count": null,
   "metadata": {},
   "outputs": [],
   "source": []
  }
 ],
 "metadata": {
  "kernelspec": {
   "display_name": "Python 3",
   "language": "python",
   "name": "python3"
  },
  "language_info": {
   "codemirror_mode": {
    "name": "ipython",
    "version": 3
   },
   "file_extension": ".py",
   "mimetype": "text/x-python",
   "name": "python",
   "nbconvert_exporter": "python",
   "pygments_lexer": "ipython3",
   "version": "3.6.9"
  }
 },
 "nbformat": 4,
 "nbformat_minor": 2
}
