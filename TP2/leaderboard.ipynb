{
 "cells": [
  {
   "cell_type": "code",
   "execution_count": 15,
   "metadata": {},
   "outputs": [],
   "source": [
    "import pandas as pd\n",
    "from numpy import isnan\n",
    "import seaborn as sns\n",
    "\n",
    "sns.set(rc = {'figure.figsize':(20,10)})"
   ]
  },
  {
   "cell_type": "code",
   "execution_count": 2,
   "metadata": {},
   "outputs": [],
   "source": [
    "grupos = pd.read_csv(\"grupos.csv\", encoding = \"ISO-8859-1\")\n",
    "leaderboard = pd.read_csv(\"nlp-getting-started-publicleaderboard.csv\")\n",
    "leaderboard = leaderboard[ leaderboard['SubmissionDate'].gt('2020-06') ]"
   ]
  },
  {
   "cell_type": "code",
   "execution_count": 3,
   "metadata": {},
   "outputs": [],
   "source": [
    "def seParecen(g,l,threshold):\n",
    "    \n",
    "    l = str(l)\n",
    "    g = str(g)\n",
    "    \n",
    "    if len(g) > len(l):\n",
    "        smaller = l\n",
    "        larger = g\n",
    "    else:\n",
    "        smaller = g\n",
    "        larger = l\n",
    "        \n",
    "    count = 0\n",
    "    for i in range(len(smaller)):\n",
    "        if g[i] == l[i]:\n",
    "            count += 1\n",
    "    \n",
    "    return count/len(larger) >= threshold or smaller in larger"
   ]
  },
  {
   "cell_type": "code",
   "execution_count": 4,
   "metadata": {},
   "outputs": [],
   "source": [
    "g_id = { g:i for i,g in enumerate(grupos['Nombre'].values)}\n",
    "l_id = { l:i for i,l in enumerate(leaderboard['TeamName'].values)}\n",
    "\n",
    "parecidos = {}\n",
    "asignados = {}\n",
    "for g in list(grupos['Nombre'].values):\n",
    "    for l in list(leaderboard['TeamName'].values):\n",
    "        \n",
    "        if not (type(g) == type('') and type(l) == type('')):\n",
    "            continue\n",
    "            \n",
    "        if seParecen(g,l,0.7):\n",
    "            if not l in asignados:\n",
    "                asignados[l] = g\n",
    "                parecidos[g] = l\n",
    "            \n",
    "fuera = []\n",
    "for g in g_id:\n",
    "    if not g in parecidos:\n",
    "        fuera.append(g)\n",
    "        \n",
    "for g in fuera:\n",
    "    for l in list(leaderboard['TeamName'].values):\n",
    "        \n",
    "        if not (type(g) == type('') and type(l) == type('')):\n",
    "            continue\n",
    "            \n",
    "        if seParecen(g,l,0.5):\n",
    "            if not l in asignados:\n",
    "                asignados[l] = g\n",
    "                parecidos[g] = l\n",
    "            \n",
    "fuera = []\n",
    "for g in g_id:\n",
    "    if not g in parecidos:\n",
    "        fuera.append(g)"
   ]
  },
  {
   "cell_type": "code",
   "execution_count": 5,
   "metadata": {},
   "outputs": [],
   "source": [
    "cross = leaderboard[leaderboard['TeamName'].isin(list(parecidos.values()))]"
   ]
  },
  {
   "cell_type": "code",
   "execution_count": 6,
   "metadata": {},
   "outputs": [
    {
     "data": {
      "text/html": [
       "<div>\n",
       "<style scoped>\n",
       "    .dataframe tbody tr th:only-of-type {\n",
       "        vertical-align: middle;\n",
       "    }\n",
       "\n",
       "    .dataframe tbody tr th {\n",
       "        vertical-align: top;\n",
       "    }\n",
       "\n",
       "    .dataframe thead th {\n",
       "        text-align: right;\n",
       "    }\n",
       "</style>\n",
       "<table border=\"1\" class=\"dataframe\">\n",
       "  <thead>\n",
       "    <tr style=\"text-align: right;\">\n",
       "      <th></th>\n",
       "      <th>TeamName</th>\n",
       "      <th>Score</th>\n",
       "    </tr>\n",
       "  </thead>\n",
       "  <tbody>\n",
       "    <tr>\n",
       "      <th>0</th>\n",
       "      <td>COVIgData-19</td>\n",
       "      <td>0.83113</td>\n",
       "    </tr>\n",
       "    <tr>\n",
       "      <th>1</th>\n",
       "      <td>Grupo python fiuba</td>\n",
       "      <td>0.81703</td>\n",
       "    </tr>\n",
       "    <tr>\n",
       "      <th>2</th>\n",
       "      <td>DataSOS</td>\n",
       "      <td>0.81274</td>\n",
       "    </tr>\n",
       "    <tr>\n",
       "      <th>3</th>\n",
       "      <td>El tio del marido de Pampita</td>\n",
       "      <td>0.81274</td>\n",
       "    </tr>\n",
       "    <tr>\n",
       "      <th>4</th>\n",
       "      <td>Corona2</td>\n",
       "      <td>0.80845</td>\n",
       "    </tr>\n",
       "    <tr>\n",
       "      <th>5</th>\n",
       "      <td>Grupo 13</td>\n",
       "      <td>0.80784</td>\n",
       "    </tr>\n",
       "    <tr>\n",
       "      <th>6</th>\n",
       "      <td>Superficial Intelligence</td>\n",
       "      <td>0.80723</td>\n",
       "    </tr>\n",
       "    <tr>\n",
       "      <th>7</th>\n",
       "      <td>Grupo Rosa</td>\n",
       "      <td>0.80447</td>\n",
       "    </tr>\n",
       "    <tr>\n",
       "      <th>8</th>\n",
       "      <td>Kung Fu Panda</td>\n",
       "      <td>0.80140</td>\n",
       "    </tr>\n",
       "    <tr>\n",
       "      <th>9</th>\n",
       "      <td>El Cuarteto Imperial</td>\n",
       "      <td>0.79773</td>\n",
       "    </tr>\n",
       "    <tr>\n",
       "      <th>10</th>\n",
       "      <td>Equipo Cloud</td>\n",
       "      <td>0.79742</td>\n",
       "    </tr>\n",
       "    <tr>\n",
       "      <th>11</th>\n",
       "      <td>Grupo Orga Datos</td>\n",
       "      <td>0.79589</td>\n",
       "    </tr>\n",
       "    <tr>\n",
       "      <th>12</th>\n",
       "      <td>Unidos por los datos</td>\n",
       "      <td>0.79528</td>\n",
       "    </tr>\n",
       "    <tr>\n",
       "      <th>13</th>\n",
       "      <td>Datastic</td>\n",
       "      <td>0.79466</td>\n",
       "    </tr>\n",
       "    <tr>\n",
       "      <th>14</th>\n",
       "      <td>Barbijo de Uranio</td>\n",
       "      <td>0.79190</td>\n",
       "    </tr>\n",
       "    <tr>\n",
       "      <th>15</th>\n",
       "      <td>El Cuarteto del Code</td>\n",
       "      <td>0.79037</td>\n",
       "    </tr>\n",
       "    <tr>\n",
       "      <th>16</th>\n",
       "      <td>Pyrañas</td>\n",
       "      <td>0.79037</td>\n",
       "    </tr>\n",
       "    <tr>\n",
       "      <th>17</th>\n",
       "      <td>The Datalorian</td>\n",
       "      <td>0.78945</td>\n",
       "    </tr>\n",
       "    <tr>\n",
       "      <th>18</th>\n",
       "      <td>DatUs</td>\n",
       "      <td>0.78915</td>\n",
       "    </tr>\n",
       "    <tr>\n",
       "      <th>19</th>\n",
       "      <td>Alpha Zero</td>\n",
       "      <td>0.78394</td>\n",
       "    </tr>\n",
       "    <tr>\n",
       "      <th>20</th>\n",
       "      <td>Datavid20</td>\n",
       "      <td>0.77781</td>\n",
       "    </tr>\n",
       "    <tr>\n",
       "      <th>21</th>\n",
       "      <td>Grupo 33 - DataTravellers</td>\n",
       "      <td>0.77658</td>\n",
       "    </tr>\n",
       "    <tr>\n",
       "      <th>22</th>\n",
       "      <td>Grupo 1 - King Data</td>\n",
       "      <td>0.76003</td>\n",
       "    </tr>\n",
       "  </tbody>\n",
       "</table>\n",
       "</div>"
      ],
      "text/plain": [
       "                        TeamName    Score\n",
       "0                   COVIgData-19  0.83113\n",
       "1             Grupo python fiuba  0.81703\n",
       "2                        DataSOS  0.81274\n",
       "3   El tio del marido de Pampita  0.81274\n",
       "4                        Corona2  0.80845\n",
       "5                       Grupo 13  0.80784\n",
       "6       Superficial Intelligence  0.80723\n",
       "7                     Grupo Rosa  0.80447\n",
       "8                  Kung Fu Panda  0.80140\n",
       "9           El Cuarteto Imperial  0.79773\n",
       "10                  Equipo Cloud  0.79742\n",
       "11              Grupo Orga Datos  0.79589\n",
       "12          Unidos por los datos  0.79528\n",
       "13                      Datastic  0.79466\n",
       "14             Barbijo de Uranio  0.79190\n",
       "15          El Cuarteto del Code  0.79037\n",
       "16                       Pyrañas  0.79037\n",
       "17                The Datalorian  0.78945\n",
       "18                         DatUs  0.78915\n",
       "19                    Alpha Zero  0.78394\n",
       "20                     Datavid20  0.77781\n",
       "21     Grupo 33 - DataTravellers  0.77658\n",
       "22           Grupo 1 - King Data  0.76003"
      ]
     },
     "execution_count": 6,
     "metadata": {},
     "output_type": "execute_result"
    }
   ],
   "source": [
    "cross.groupby('TeamName')['SubmissionDate'].max().to_frame().merge(cross, on = 'SubmissionDate')\\\n",
    "    .sort_values('Score', ascending = False).reset_index()[['TeamName','Score']]"
   ]
  },
  {
   "cell_type": "code",
   "execution_count": 25,
   "metadata": {},
   "outputs": [
    {
     "data": {
      "image/png": "[encoded data removed]",
      "text/plain": [
       "<Figure size 1440x720 with 1 Axes>"
      ]
     },
     "metadata": {},
     "output_type": "display_data"
    }
   ],
   "source": [
    "v = sns.barplot(x = 'SubmissionDate', y = 'Score', data = leaderboard[ leaderboard['TeamName'] == 'DatUs' ])\n",
    "v.set(ylim=(0.5, None))\n",
    "for item in v.get_xticklabels():\n",
    "        item.set_rotation(45)"
   ]
  },
  {
   "cell_type": "code",
   "execution_count": 7,
   "metadata": {},
   "outputs": [
    {
     "data": {
      "text/plain": [
       "TeamName\n",
       "DatUs                           18\n",
       "El Cuarteto del Code             9\n",
       "The Datalorian                   9\n",
       "Unidos por los datos             8\n",
       "COVIgData-19                     7\n",
       "Corona2                          7\n",
       "Superficial Intelligence         6\n",
       "Barbijo de Uranio                6\n",
       "Grupo 13                         6\n",
       "Grupo 1 - King Data              6\n",
       "El tio del marido de Pampita     6\n",
       "DataSOS                          5\n",
       "El Cuarteto Imperial             4\n",
       "Alpha Zero                       4\n",
       "Grupo 33 - DataTravellers        4\n",
       "Grupo Rosa                       4\n",
       "Grupo python fiuba               4\n",
       "Pyrañas                          4\n",
       "Datavid20                        2\n",
       "Kung Fu Panda                    2\n",
       "Equipo Cloud                     2\n",
       "Datastic                         1\n",
       "Grupo Orga Datos                 1\n",
       "Name: SubmissionDate, dtype: int64"
      ]
     },
     "execution_count": 7,
     "metadata": {},
     "output_type": "execute_result"
    }
   ],
   "source": [
    "cross.groupby('TeamName')['SubmissionDate'].count().sort_values(ascending = False)"
   ]
  },
  {
   "cell_type": "code",
   "execution_count": 8,
   "metadata": {},
   "outputs": [
    {
     "data": {
      "text/plain": [
       "['How i met your data',\n",
       " 'Coronapandas',\n",
       " 'Les chiques super poderoses',\n",
       " 'CuarenData 2.0',\n",
       " 'DATAVID-20',\n",
       " 'Grupo con barbijo',\n",
       " 'undefined',\n",
       " 'ChocoTeam',\n",
       " nan,\n",
       " 'covidatos',\n",
       " 'CoronaDatos',\n",
       " 'Data hunters',\n",
       " 'DTS: DaTa Science',\n",
       " 'Rest Driven Development',\n",
       " 'Here we go again',\n",
       " 'Undefined',\n",
       " 'Los últimos',\n",
       " 'Team_Undav',\n",
       " 'DelLejanoOeste',\n",
       " 'Grupo - AVV',\n",
       " 'El Jabalí Salvaje',\n",
       " 'Oyentes en cuarentena 2020.',\n",
       " 'Los Oyentes 700',\n",
       " 'Oh La La, Data',\n",
       " 'Belu +3',\n",
       " 'Grupo Random',\n",
       " 'DATA',\n",
       " 'El gato de Turing',\n",
       " 'ECONOSDATA',\n",
       " 'marte',\n",
       " 'Los aprendices de Oogway',\n",
       " 'GMC',\n",
       " 'Zumba',\n",
       " 'Datos al alcance',\n",
       " 'Reykjavik',\n",
       " 'Reinventadas',\n",
       " '3Sigma',\n",
       " 'Grupo Rocket Cósmico',\n",
       " 'NameError',\n",
       " 'Daiana']"
      ]
     },
     "execution_count": 8,
     "metadata": {},
     "output_type": "execute_result"
    }
   ],
   "source": [
    "fuera"
   ]
  },
  {
   "cell_type": "code",
   "execution_count": 9,
   "metadata": {},
   "outputs": [
    {
     "data": {
      "text/plain": [
       "40"
      ]
     },
     "execution_count": 9,
     "metadata": {},
     "output_type": "execute_result"
    }
   ],
   "source": [
    "len(fuera)"
   ]
  },
  {
   "cell_type": "code",
   "execution_count": null,
   "metadata": {},
   "outputs": [],
   "source": []
  }
 ],
 "metadata": {
  "kernelspec": {
   "display_name": "Python 3",
   "language": "python",
   "name": "python3"
  },
  "language_info": {
   "codemirror_mode": {
    "name": "ipython",
    "version": 3
   },
   "file_extension": ".py",
   "mimetype": "text/x-python",
   "name": "python",
   "nbconvert_exporter": "python",
   "pygments_lexer": "ipython3",
   "version": "3.6.9"
  }
 },
 "nbformat": 4,
 "nbformat_minor": 2
}
