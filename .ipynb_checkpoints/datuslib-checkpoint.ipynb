{
 "cells": [
  {
   "cell_type": "code",
   "execution_count": 10,
   "metadata": {},
   "outputs": [],
   "source": [
    "#IMPORTS\n",
    "\n",
    "import enchant  #pip install pyenchant"
   ]
  },
  {
   "cell_type": "code",
   "execution_count": 11,
   "metadata": {},
   "outputs": [],
   "source": [
    "def extractUsers(text):\n",
    "    \n",
    "    \"\"\" \n",
    "    RECIBE: Un texto plano que puede tener cualquier cosa\n",
    "    DEVUELVE: Una lista de todos los strings que estaban precedidos por un @\n",
    "    EJEMPLO: 'Hola que tal soy @axel, y vivo en @capitalFederal' -----> [axel,capitalFederal]'\n",
    "    \"\"\"\n",
    "    \n",
    "    words = text.split(' ')\n",
    "    \n",
    "    users = []\n",
    "    userToSave = \"\"\n",
    "    for word in words:\n",
    "        if len(word) != 0 and '@' in word:\n",
    "            splittedWord = word.split('@')\n",
    "            if len(splittedWord) > 1:\n",
    "                userToSave = splittedWord[1]\n",
    "            else:\n",
    "                userToSave = splittedWord[0]\n",
    "        if userToSave != '':\n",
    "            users.append(userToSave)\n",
    "    return users"
   ]
  },
  {
   "cell_type": "code",
   "execution_count": 12,
   "metadata": {},
   "outputs": [],
   "source": [
    "def removeDots(word):\n",
    "    \"\"\" \n",
    "    RECIBE: Una palabra cualquiera\n",
    "    DEVUELVE: La parte de la palabra que no tiene ningun punto\n",
    "    EJEMPLO: 'esperando...' -----> 'esperando'\n",
    "    \"\"\"\n",
    "    \n",
    "    splited = word.split('.')\n",
    "    \n",
    "    for chunk in splited:\n",
    "        if chunk != '.':\n",
    "            return chunk\n",
    "    return word"
   ]
  },
  {
   "cell_type": "code",
   "execution_count": 13,
   "metadata": {},
   "outputs": [],
   "source": [
    "def hasNumeric(word):\n",
    "    \"\"\" \n",
    "    RECIBE: Una palabra cualquiera\n",
    "    DEVUELVE: True o False dependiendo de si contiene algun numero\n",
    "    EJEMPLO: 'hol4' -----> True\n",
    "    \"\"\"    \n",
    "    \n",
    "    for c in word:\n",
    "        if c.isnumeric():\n",
    "            return True\n",
    "    return False"
   ]
  },
  {
   "cell_type": "code",
   "execution_count": 14,
   "metadata": {},
   "outputs": [],
   "source": [
    "def getEnlgishWord(word):\n",
    "       \n",
    "    \"\"\"\n",
    "    RECIBE: Un texto plano que puede tener cualquier cosa\n",
    "    DEVUELVE: La palabra mas larga en ingles que encuentre primero dentro del texto recibido\n",
    "    EJEMPLO: 'aaaaaaaaaaENGLISHaaaaaaaaaa' -----> 'ENGLISH'\n",
    "    \"\"\"  \n",
    "    \n",
    "    englishDictionary = enchant.Dict(\"en_US\")\n",
    "    \n",
    "    MIN_LEN_WORDS = 2\n",
    "    \n",
    "    failure = False\n",
    "    \n",
    "    if word == None:\n",
    "        failure = True\n",
    "    \n",
    "    elif len(word) < MIN_LEN_WORDS:\n",
    "        failure = True\n",
    "        \n",
    "    else:\n",
    "        for i in range(len(word), MIN_LEN_WORDS - 1,-1):\n",
    "            for j in range(i):\n",
    "                aux = word[j:i]\n",
    "                if englishDictionary.check(aux) and not hasNumeric(aux) and len(aux) > 1:\n",
    "                    return '1' + removeDots(aux)\n",
    "                else:\n",
    "                    failure = True\n",
    "    \n",
    "    if failure:\n",
    "        \n",
    "        if word == '':\n",
    "            return ' '\n",
    "        else:\n",
    "            return word\n",
    "        "
   ]
  },
  {
   "cell_type": "code",
   "execution_count": 2,
   "metadata": {},
   "outputs": [],
   "source": [
    "def mapBinaryLabel(binaryIndicator, labelsList):\n",
    "    \n",
    "    \"\"\" \n",
    "    RECIBE: 1 o 0\n",
    "    DEVUELVE: labelsList[0] o labelsList[1] respectivamente\n",
    "    \"\"\"  \n",
    "    \n",
    "    if binaryIndicator == 1:\n",
    "        return labelsList[0]\n",
    "    if binaryIndicator == 0:\n",
    "        return labelsList[1]\n",
    "    else:\n",
    "        return None"
   ]
  },
  {
   "cell_type": "code",
   "execution_count": 2,
   "metadata": {},
   "outputs": [],
   "source": [
    "def generateAbsolutePath(fileName):\n",
    "    \n",
    "    \"\"\" \n",
    "    RECIBE: El nombre de un archivo\n",
    "    DEVUELVE: El path absoluto del archivo\n",
    "    EJEMPLO: 'miArchivo.txt' -----> '/home/axelmpm/DatosRepo/Data/miArchivo.txt'\n",
    "    \"\"\" \n",
    "    \n",
    "    return  os.path.abspath('') + '/Data/' + fileName"
   ]
  },
  {
   "cell_type": "code",
   "execution_count": 17,
   "metadata": {},
   "outputs": [],
   "source": [
    "def getWordInListFromFile(fileName):\n",
    "    \n",
    "    \"\"\" \n",
    "    RECIBE: El nombre de un archivo donde cada linea tiene palabras\n",
    "    DEVUELVE: Una lista donde cada elemento son las palabras que estaban como linea en el archivo (no toma las palabras de longitud 1)\n",
    "    \"\"\" \n",
    "    \n",
    "    file = open(generateAbsolutePath(fileName),'r')\n",
    "    \n",
    "    l = []\n",
    "    \n",
    "    for line in file:\n",
    "        if len(line[:-1]) > 1:\n",
    "            l.append(line[:-1]) #le saco el \\n\n",
    "    file.close()\n",
    "    return l"
   ]
  },
  {
   "cell_type": "code",
   "execution_count": 3,
   "metadata": {},
   "outputs": [],
   "source": [
    "def hasCertainWords(stuffWithWordsInIt,words):\n",
    "    \n",
    "    \"\"\" \n",
    "    RECIBE: Recibe algo que tiene palabras dentro (texto, lista de palabras, conjuntos con palabras, etc)\n",
    "    DEVUELVE: Devuelve True o False dependiendo de si el el contendor contiene ALGUNA palabra en la lista de palabras\n",
    "    \"\"\" \n",
    "    \n",
    "    for word in words:\n",
    "        if word in text:\n",
    "            return True\n",
    "    return False"
   ]
  },
  {
   "cell_type": "code",
   "execution_count": 11,
   "metadata": {},
   "outputs": [],
   "source": [
    "def clasifyWordsRespectToEnglish(bagOfWords):\n",
    "    \n",
    "    \"\"\" \n",
    "    RECIBE: Un contenedor de palabras que podrian o no estar en ingles\n",
    "    DEVUELVE: Una lista de palabras que estan en ingles y otra que no estaban en ingles\n",
    "    EJEMPLO: {'hello..gggggg,ghghghgh,who,hola'} -------> {hello,who}, {ghghghgh,hola}\n",
    "    \"\"\" \n",
    "    \n",
    "    bagOfEnglishWords = []\n",
    "    bagOfNonEnglishWords = []\n",
    "    for word in bagOfWords:\n",
    "        processedWord = getEnlgishWord(word)\n",
    "        if processedWord[0] == '1':\n",
    "            bagOfEnglishWords.append(processedWord[1:])\n",
    "        else:\n",
    "            bagOfNonEnglishWords.append(processedWord)\n",
    "        \n",
    "    return bagOfEnglishWords, bagOfNonEnglishWords"
   ]
  },
  {
   "cell_type": "code",
   "execution_count": 9,
   "metadata": {},
   "outputs": [],
   "source": [
    "def getDataFrameOfFrecuencies(elementsLabel,elements, sort = True, sortAscending = False):\n",
    "    \n",
    "    \"\"\" \n",
    "    RECIBE: Una lista o secuencia de elementos y un nombre para estos\n",
    "    DEVUELVE: Un dataframe con dos columnas, una de labels y otro de las frecuencias\n",
    "    \"\"\" \n",
    "    \n",
    "    temp_elements = list(elements.copy())\n",
    "    frecs_dict = {i:temp_elements.count(i) for i in temp_elements}\n",
    "\n",
    "    df = pd.DataFrame({elementsLabel : list(frecs_dict.keys()), 'Cantidad' : list(frecs_dict.values())})\n",
    "    \n",
    "    if sort:\n",
    "        df.sort_values('Cantidad', ascending = sortAscending, inplace = True)\n",
    "    return df"
   ]
  },
  {
   "cell_type": "code",
   "execution_count": 13,
   "metadata": {},
   "outputs": [],
   "source": [
    "def getSimilarity(word1,word2):\n",
    "    \n",
    "    if word1 + word2 == '':\n",
    "        return 1\n",
    "    \n",
    "    if word1 + word2 == word1 or word1 + word2 == word1:\n",
    "        return 0\n",
    "    \n",
    "    if len(word1) > len(word1):\n",
    "        longest = word1\n",
    "        shortes = word2\n",
    "    else:\n",
    "        longest = word2\n",
    "        shortes = word1\n",
    "        "
   ]
  },
  {
   "cell_type": "code",
   "execution_count": 14,
   "metadata": {},
   "outputs": [],
   "source": [
    "def isIn(element,container):\n",
    "\n",
    "    \"\"\" \n",
    "    RECIBE: Un elemento y un contenedor de elementos\n",
    "    DEVUELVE: Si el elemento esta o no en el contenedor\n",
    "    \"\"\" \n",
    "    \n",
    "    return element in container"
   ]
  },
  {
   "cell_type": "code",
   "execution_count": 2,
   "metadata": {},
   "outputs": [],
   "source": [
    "def acortar_texto(df):\n",
    "    \"\"\"\n",
    "    RECIBE: un df\n",
    "    DEVUELVE: el mismo df con una columna con version corta de la columna 'text'\n",
    "    \"\"\"\n",
    "    \n",
    "    \n",
    "    df['short_text'] = 'None'\n",
    "    cant_filas = len(df.index)\n",
    "    for y in range(cant_filas):\n",
    "        df['short_text'][y:]= df.iloc[y][0][:15] + \"...\""
   ]
  },
  {
   "cell_type": "code",
   "execution_count": null,
   "metadata": {},
   "outputs": [],
   "source": []
  }
 ],
 "metadata": {
  "kernelspec": {
   "display_name": "Python 3",
   "language": "python",
   "name": "python3"
  },
  "language_info": {
   "codemirror_mode": {
    "name": "ipython",
    "version": 3
   },
   "file_extension": ".py",
   "mimetype": "text/x-python",
   "name": "python",
   "nbconvert_exporter": "python",
   "pygments_lexer": "ipython3",
   "version": "3.7.5"
  }
 },
 "nbformat": 4,
 "nbformat_minor": 2
}
