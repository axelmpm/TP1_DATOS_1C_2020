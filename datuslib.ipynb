{
 "cells": [
  {
   "cell_type": "code",
   "execution_count": 8,
   "metadata": {},
   "outputs": [],
   "source": [
    "def extractUsers(text):\n",
    "    \n",
    "    \"\"\" \n",
    "    RECIBE: Un texto plano que puede tener cualquier cosa\n",
    "    DEVUELVE: Una lista de todos los strings que estaban precedidos por un @\n",
    "    EJEMPLO: 'Hola que tal soy @axel, y vivo en @capitalFederal' -----> [axel,capitalFederal]'\n",
    "    \"\"\"\n",
    "    \n",
    "    words = text.split(' ')\n",
    "    \n",
    "    users = []\n",
    "    userToSave = \"\"\n",
    "    for word in words:\n",
    "        if len(word) != 0 and '@' in word:\n",
    "            splittedWord = word.split('@')\n",
    "            if len(splittedWord) > 1:\n",
    "                userToSave = splittedWord[1]\n",
    "            else:\n",
    "                userToSave = splittedWord[0]\n",
    "        if userToSave != '':\n",
    "            users.append(userToSave)\n",
    "    return users"
   ]
  },
  {
   "cell_type": "code",
   "execution_count": null,
   "metadata": {},
   "outputs": [],
   "source": [
    "def removeDots(word):\n",
    "    \"\"\" \n",
    "    RECIBE: Una palabra cualquiera\n",
    "    DEVUELVE: La parte de la palabra que no tiene ningun punto\n",
    "    EJEMPLO: 'esperando...' -----> 'esperando'\n",
    "    \"\"\"\n",
    "    \n",
    "    splited = word.split('.')\n",
    "    \n",
    "    for chunk in splited:\n",
    "        if chunk != '.':\n",
    "            return chunk\n",
    "    return word"
   ]
  },
  {
   "cell_type": "code",
   "execution_count": null,
   "metadata": {},
   "outputs": [],
   "source": [
    "def hasNumeric(word):\n",
    "    \"\"\" \n",
    "    RECIBE: Una palabra cualquiera\n",
    "    DEVUELVE: True o False dependiendo de si contiene algun numero\n",
    "    EJEMPLO: 'hol4' -----> True\n",
    "    \"\"\"    \n",
    "    \n",
    "    for c in word:\n",
    "        if c.isnumeric():\n",
    "            return True\n",
    "    return False"
   ]
  },
  {
   "cell_type": "code",
   "execution_count": null,
   "metadata": {},
   "outputs": [],
   "source": [
    "def getEnlgishWord(word):\n",
    "    \n",
    "    \"\"\" \n",
    "    RECIBE: Un texto plano que puede tener cualquier cosa\n",
    "    DEVUELVE: La palabra mas larga en ingles que encuentre primero dentro del texto recibido\n",
    "    EJEMPLO: 'aaaaaaaaaaENGLISHaaaaaaaaaa' -----> 'ENGLISH'\n",
    "    \"\"\"  \n",
    "    \n",
    "    MIN_LEN_WORDS = 2\n",
    "    \n",
    "    failure = False\n",
    "    \n",
    "    if word == None:\n",
    "        failure = True\n",
    "    \n",
    "    elif len(word) < MIN_LEN_WORDS:\n",
    "        failure = True\n",
    "        \n",
    "    else:\n",
    "        for i in range(len(word), MIN_LEN_WORDS - 1,-1):\n",
    "            for j in range(i):\n",
    "                aux = word[j:i]\n",
    "                if englishDictionary.check(aux) and not hasNumeric(aux) and len(aux) > 1:\n",
    "                    return '1' + removeDots(aux)\n",
    "                else:\n",
    "                    failure = True\n",
    "    \n",
    "    if failure:\n",
    "        \n",
    "        if word == '':\n",
    "            return ' '\n",
    "        else:\n",
    "            return word\n",
    "        "
   ]
  },
  {
   "cell_type": "code",
   "execution_count": null,
   "metadata": {},
   "outputs": [],
   "source": [
    "def labelDisasterType(disasterNumber):\n",
    "    \n",
    "    \"\"\" \n",
    "    RECIBE: 1 o 0 del target\n",
    "    DEVUELVE: Desastre o No Desastre respectivamente\n",
    "    \"\"\"  \n",
    "    \n",
    "    if disasterNumber == 1:\n",
    "        return \"Desastre\"\n",
    "    if disasterNumber == 0:\n",
    "        return \"No Desastre\"\n",
    "    else:\n",
    "        return None"
   ]
  },
  {
   "cell_type": "code",
   "execution_count": null,
   "metadata": {},
   "outputs": [],
   "source": [
    "def generateAbsolutePath(fileName):\n",
    "    \n",
    "    \"\"\" \n",
    "    RECIBE: El nombre de un archivo\n",
    "    DEVUELVE: El path absoluto del archivo\n",
    "    EJEMPLO: 'miArchivo.txt' -----> '/home/axelmpm/DatosRepo/miArchivo.txt'\n",
    "    \"\"\" \n",
    "    \n",
    "    return  os.path.abspath('') + '/' + fileName"
   ]
  },
  {
   "cell_type": "code",
   "execution_count": null,
   "metadata": {},
   "outputs": [],
   "source": [
    "def getWordInListFromFile(fileName):\n",
    "    \n",
    "    \"\"\" \n",
    "    RECIBE: El nombre de un archivo donde cada linea tiene palabras\n",
    "    DEVUELVE: Una lista donde cada elemento son las palabras que estaban como linea en el archivo (no toma las palabras de longitud 1)\n",
    "    \"\"\" \n",
    "    \n",
    "    file = open(generateAbsolutePath(fileName),'r')\n",
    "    \n",
    "    l = []\n",
    "    \n",
    "    for line in file:\n",
    "        if len(line[:-1]) > 1:\n",
    "            l.append(line[:-1]) #le saco el \\n\n",
    "    file.close()\n",
    "    return l"
   ]
  },
  {
   "cell_type": "code",
   "execution_count": null,
   "metadata": {},
   "outputs": [],
   "source": [
    "def hasCertainWords(text,words):\n",
    "    \n",
    "    \"\"\" \n",
    "    RECIBE: Un texto cualquiera y una lista de palabras\n",
    "    DEVUELVE: Devuelve True o False dependiendo de si el texto contiene ALGUNA palabra en la lista de palabras\n",
    "    \"\"\" \n",
    "    \n",
    "    for word in words:\n",
    "        if word in text:\n",
    "            return True\n",
    "    return False"
   ]
  }
 ],
 "metadata": {
  "kernelspec": {
   "display_name": "Python 3",
   "language": "python",
   "name": "python3"
  },
  "language_info": {
   "codemirror_mode": {
    "name": "ipython",
    "version": 3
   },
   "file_extension": ".py",
   "mimetype": "text/x-python",
   "name": "python",
   "nbconvert_exporter": "python",
   "pygments_lexer": "ipython3",
   "version": "3.6.9"
  }
 },
 "nbformat": 4,
 "nbformat_minor": 2
}
