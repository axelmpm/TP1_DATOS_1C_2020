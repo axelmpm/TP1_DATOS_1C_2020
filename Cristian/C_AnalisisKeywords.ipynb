{
 "cells": [
  {
   "cell_type": "code",
   "execution_count": 1,
   "metadata": {},
   "outputs": [],
   "source": [
    "%run ../datuslib.ipynb\n",
    "\n",
    "#ROBADO DE LAS NOTE DE CLASES\n",
    "plt.style.use('default') # haciendo los graficos un poco mas bonitos en matplotlib\n",
    "\n",
    "sns.set(style=\"whitegrid\") # seteando tipo de grid en seaborn\n",
    "\n"
   ]
  },
  {
   "cell_type": "code",
   "execution_count": 2,
   "metadata": {},
   "outputs": [],
   "source": [
    "#CARGO DATASET\n",
    "\n",
    "C_tweets = pd.read_csv(\"../Data/train.csv\")\n",
    "C_CantTweetsEnDf=len(C_tweets.index)"
   ]
  },
  {
   "cell_type": "code",
   "execution_count": 3,
   "metadata": {},
   "outputs": [],
   "source": [
    "# Quito \"separador\" %20 entre keywords, es solo un espacio.\n",
    "# Por ejemplo, en uno decia natutal%20disaster, lo que seria \"natural disater\"(toda la frase es la keyword)\n",
    "# No natural y disaster( por separado, dos key distintas )\n",
    "C_tweets['keyword'] = C_tweets['keyword'].str.replace('%',' ')\n",
    "C_tweets['keyword'] = C_tweets['keyword'].str.replace('2','')\n",
    "C_tweets['keyword'] = C_tweets['keyword'].str.replace('0','')"
   ]
  },
  {
   "cell_type": "code",
   "execution_count": 4,
   "metadata": {},
   "outputs": [],
   "source": [
    "#Cambio NaN por Nothing en Keyword\n",
    "C_tweets['keyword'] = C_tweets['keyword'].fillna('Nothing') "
   ]
  },
  {
   "cell_type": "code",
   "execution_count": null,
   "metadata": {},
   "outputs": [],
   "source": []
  },
  {
   "cell_type": "markdown",
   "metadata": {},
   "source": [
    "## Keyword en Texto"
   ]
  },
  {
   "cell_type": "code",
   "execution_count": 5,
   "metadata": {},
   "outputs": [],
   "source": [
    "def keyword_in_text(df):\n",
    "    \"\"\"\n",
    "    RECIBE: un df\n",
    "    DEVUELVE: el mismo df con una columna que indica si la keyword esta en el tweet.\n",
    "    \"\"\"\n",
    "    \n",
    "    df['contains_keyword'] = 0\n",
    "    cant_filas = len(df.index)\n",
    "    for y in range(cant_filas):\n",
    "        df['contains_keyword'][y:]= df.iloc[y][1].lower() in df.iloc[y][3].lower()"
   ]
  },
  {
   "cell_type": "code",
   "execution_count": 6,
   "metadata": {},
   "outputs": [
    {
     "name": "stderr",
     "output_type": "stream",
     "text": [
      "c:\\users\\hal9000\\appdata\\local\\programs\\python\\python37\\lib\\site-packages\\ipykernel_launcher.py:10: SettingWithCopyWarning: \n",
      "A value is trying to be set on a copy of a slice from a DataFrame\n",
      "\n",
      "See the caveats in the documentation: http://pandas.pydata.org/pandas-docs/stable/user_guide/indexing.html#returning-a-view-versus-a-copy\n",
      "  # Remove the CWD from sys.path while we load stuff.\n"
     ]
    }
   ],
   "source": [
    "keyword_in_text(C_tweets)"
   ]
  },
  {
   "cell_type": "code",
   "execution_count": 7,
   "metadata": {},
   "outputs": [
    {
     "data": {
      "text/html": [
       "<div>\n",
       "<style scoped>\n",
       "    .dataframe tbody tr th:only-of-type {\n",
       "        vertical-align: middle;\n",
       "    }\n",
       "\n",
       "    .dataframe tbody tr th {\n",
       "        vertical-align: top;\n",
       "    }\n",
       "\n",
       "    .dataframe thead th {\n",
       "        text-align: right;\n",
       "    }\n",
       "</style>\n",
       "<table border=\"1\" class=\"dataframe\">\n",
       "  <thead>\n",
       "    <tr style=\"text-align: right;\">\n",
       "      <th></th>\n",
       "      <th>contains_keyword</th>\n",
       "      <th>cantidad</th>\n",
       "      <th>Porcentaje</th>\n",
       "    </tr>\n",
       "  </thead>\n",
       "  <tbody>\n",
       "    <tr>\n",
       "      <th>0</th>\n",
       "      <td>False</td>\n",
       "      <td>913</td>\n",
       "      <td>11.992644</td>\n",
       "    </tr>\n",
       "    <tr>\n",
       "      <th>1</th>\n",
       "      <td>True</td>\n",
       "      <td>6700</td>\n",
       "      <td>88.007356</td>\n",
       "    </tr>\n",
       "  </tbody>\n",
       "</table>\n",
       "</div>"
      ],
      "text/plain": [
       "   contains_keyword  cantidad  Porcentaje\n",
       "0             False       913   11.992644\n",
       "1              True      6700   88.007356"
      ]
     },
     "execution_count": 7,
     "metadata": {},
     "output_type": "execute_result"
    }
   ],
   "source": [
    "C_in_text = C_tweets.groupby([\"contains_keyword\"]).agg({'keyword':'count'}).reset_index().rename(columns={\"keyword\": \"cantidad\"})\n",
    "C_in_text[\"Porcentaje\"] = C_in_text[\"cantidad\"]/C_in_text[\"cantidad\"].sum() * 100 #Porcentaje del total de tweets\n",
    "\n",
    "C_in_text"
   ]
  },
  {
   "cell_type": "code",
   "execution_count": 8,
   "metadata": {},
   "outputs": [
    {
     "data": {
      "text/plain": [
       "Text(0, 0.5, 'Texto contiene a Keyword')"
      ]
     },
     "execution_count": 8,
     "metadata": {},
     "output_type": "execute_result"
    },
    {
     "data": {
      "image/png": "[encoded data removed]",
      "text/plain": [
       "<Figure size 1080x504 with 1 Axes>"
      ]
     },
     "metadata": {
      "needs_background": "light"
     },
     "output_type": "display_data"
    }
   ],
   "source": [
    "## Agregar un grafico, si es posible no de barplot --> No fue posible(Cristian del futuro)\n",
    "#Area del plot\n",
    "plt.rcParams['figure.figsize'] = (15, 7)\n",
    "\n",
    "g = sns.barplot(y =C_in_text[\"contains_keyword\"] , x=C_in_text[\"cantidad\"] , orient='h',)\n",
    "g.set_title(\"Keyword en Texto del Tweet\", fontsize=15)\n",
    "g.set_xlabel(\"Cantidad de tweets\", fontsize=13,)\n",
    "g.set_ylabel(\"Texto contiene a Keyword\", fontsize=13)"
   ]
  },
  {
   "cell_type": "markdown",
   "metadata": {},
   "source": [
    "### Conclusion\n",
    "Como conclusion, en 900 de las 7613 (el 12% del total) tweets el keyword no esta en el texto y los restantes\n",
    "6700 (88% del total) contiene en alguna parte del texto a la keyword."
   ]
  },
  {
   "cell_type": "code",
   "execution_count": null,
   "metadata": {},
   "outputs": [],
   "source": []
  },
  {
   "cell_type": "markdown",
   "metadata": {},
   "source": [
    "## Distintos keyword"
   ]
  },
  {
   "cell_type": "code",
   "execution_count": 9,
   "metadata": {},
   "outputs": [
    {
     "data": {
      "text/html": [
       "<div>\n",
       "<style scoped>\n",
       "    .dataframe tbody tr th:only-of-type {\n",
       "        vertical-align: middle;\n",
       "    }\n",
       "\n",
       "    .dataframe tbody tr th {\n",
       "        vertical-align: top;\n",
       "    }\n",
       "\n",
       "    .dataframe thead th {\n",
       "        text-align: right;\n",
       "    }\n",
       "</style>\n",
       "<table border=\"1\" class=\"dataframe\">\n",
       "  <thead>\n",
       "    <tr style=\"text-align: right;\">\n",
       "      <th></th>\n",
       "      <th>id</th>\n",
       "      <th>keyword</th>\n",
       "      <th>location</th>\n",
       "      <th>text</th>\n",
       "      <th>target</th>\n",
       "      <th>contains_keyword</th>\n",
       "    </tr>\n",
       "  </thead>\n",
       "  <tbody>\n",
       "    <tr>\n",
       "      <th>0</th>\n",
       "      <td>1</td>\n",
       "      <td>Nothing</td>\n",
       "      <td>NaN</td>\n",
       "      <td>Our Deeds are the Reason of this #earthquake M...</td>\n",
       "      <td>1</td>\n",
       "      <td>False</td>\n",
       "    </tr>\n",
       "    <tr>\n",
       "      <th>1</th>\n",
       "      <td>4</td>\n",
       "      <td>Nothing</td>\n",
       "      <td>NaN</td>\n",
       "      <td>Forest fire near La Ronge Sask. Canada</td>\n",
       "      <td>1</td>\n",
       "      <td>False</td>\n",
       "    </tr>\n",
       "    <tr>\n",
       "      <th>2</th>\n",
       "      <td>5</td>\n",
       "      <td>Nothing</td>\n",
       "      <td>NaN</td>\n",
       "      <td>All residents asked to 'shelter in place' are ...</td>\n",
       "      <td>1</td>\n",
       "      <td>False</td>\n",
       "    </tr>\n",
       "    <tr>\n",
       "      <th>3</th>\n",
       "      <td>6</td>\n",
       "      <td>Nothing</td>\n",
       "      <td>NaN</td>\n",
       "      <td>13,000 people receive #wildfires evacuation or...</td>\n",
       "      <td>1</td>\n",
       "      <td>False</td>\n",
       "    </tr>\n",
       "    <tr>\n",
       "      <th>4</th>\n",
       "      <td>7</td>\n",
       "      <td>Nothing</td>\n",
       "      <td>NaN</td>\n",
       "      <td>Just got sent this photo from Ruby #Alaska as ...</td>\n",
       "      <td>1</td>\n",
       "      <td>False</td>\n",
       "    </tr>\n",
       "  </tbody>\n",
       "</table>\n",
       "</div>"
      ],
      "text/plain": [
       "   id  keyword location                                               text  \\\n",
       "0   1  Nothing      NaN  Our Deeds are the Reason of this #earthquake M...   \n",
       "1   4  Nothing      NaN             Forest fire near La Ronge Sask. Canada   \n",
       "2   5  Nothing      NaN  All residents asked to 'shelter in place' are ...   \n",
       "3   6  Nothing      NaN  13,000 people receive #wildfires evacuation or...   \n",
       "4   7  Nothing      NaN  Just got sent this photo from Ruby #Alaska as ...   \n",
       "\n",
       "   target  contains_keyword  \n",
       "0       1             False  \n",
       "1       1             False  \n",
       "2       1             False  \n",
       "3       1             False  \n",
       "4       1             False  "
      ]
     },
     "execution_count": 9,
     "metadata": {},
     "output_type": "execute_result"
    }
   ],
   "source": [
    "C_tweets.head(5)"
   ]
  },
  {
   "cell_type": "code",
   "execution_count": 10,
   "metadata": {},
   "outputs": [],
   "source": [
    "#Veo Distintos Keyword\n",
    "C_keyword = C_tweets['keyword'].unique()"
   ]
  },
  {
   "cell_type": "code",
   "execution_count": 69,
   "metadata": {},
   "outputs": [],
   "source": [
    "#Agrupo por keyword  y cuenta las ocurrencias de cada uno\n",
    "C_grouped = C_tweets.groupby(['keyword'])\\\n",
    ".agg({'id':'count',\"target\":\"sum\"}) #Como desatre = target 1 --> solo sumo la cantidad de desastres\n",
    "C_grouped = C_grouped.rename(columns={\"id\": \"cantidad\",\"target\":\"Cant Disaster\"})\n",
    "C_grouped[\"% Disaster\"]=C_grouped[\"Cant Disaster\"] / C_grouped[\"cantidad\"] * 100 "
   ]
  },
  {
   "cell_type": "code",
   "execution_count": 70,
   "metadata": {},
   "outputs": [],
   "source": [
    "C_grouped.reset_index(inplace=True)"
   ]
  },
  {
   "cell_type": "code",
   "execution_count": 71,
   "metadata": {},
   "outputs": [
    {
     "data": {
      "text/html": [
       "<div>\n",
       "<style scoped>\n",
       "    .dataframe tbody tr th:only-of-type {\n",
       "        vertical-align: middle;\n",
       "    }\n",
       "\n",
       "    .dataframe tbody tr th {\n",
       "        vertical-align: top;\n",
       "    }\n",
       "\n",
       "    .dataframe thead th {\n",
       "        text-align: right;\n",
       "    }\n",
       "</style>\n",
       "<table border=\"1\" class=\"dataframe\">\n",
       "  <thead>\n",
       "    <tr style=\"text-align: right;\">\n",
       "      <th></th>\n",
       "      <th>keyword</th>\n",
       "      <th>cantidad</th>\n",
       "      <th>Cant Disaster</th>\n",
       "      <th>% Disaster</th>\n",
       "    </tr>\n",
       "  </thead>\n",
       "  <tbody>\n",
       "    <tr>\n",
       "      <th>0</th>\n",
       "      <td>Nothing</td>\n",
       "      <td>61</td>\n",
       "      <td>42</td>\n",
       "      <td>68.852459</td>\n",
       "    </tr>\n",
       "    <tr>\n",
       "      <th>1</th>\n",
       "      <td>ablaze</td>\n",
       "      <td>36</td>\n",
       "      <td>13</td>\n",
       "      <td>36.111111</td>\n",
       "    </tr>\n",
       "    <tr>\n",
       "      <th>2</th>\n",
       "      <td>accident</td>\n",
       "      <td>35</td>\n",
       "      <td>24</td>\n",
       "      <td>68.571429</td>\n",
       "    </tr>\n",
       "    <tr>\n",
       "      <th>3</th>\n",
       "      <td>aftershock</td>\n",
       "      <td>34</td>\n",
       "      <td>0</td>\n",
       "      <td>0.000000</td>\n",
       "    </tr>\n",
       "    <tr>\n",
       "      <th>4</th>\n",
       "      <td>airplane accident</td>\n",
       "      <td>35</td>\n",
       "      <td>30</td>\n",
       "      <td>85.714286</td>\n",
       "    </tr>\n",
       "    <tr>\n",
       "      <th>...</th>\n",
       "      <td>...</td>\n",
       "      <td>...</td>\n",
       "      <td>...</td>\n",
       "      <td>...</td>\n",
       "    </tr>\n",
       "    <tr>\n",
       "      <th>217</th>\n",
       "      <td>wounded</td>\n",
       "      <td>37</td>\n",
       "      <td>26</td>\n",
       "      <td>70.270270</td>\n",
       "    </tr>\n",
       "    <tr>\n",
       "      <th>218</th>\n",
       "      <td>wounds</td>\n",
       "      <td>33</td>\n",
       "      <td>10</td>\n",
       "      <td>30.303030</td>\n",
       "    </tr>\n",
       "    <tr>\n",
       "      <th>219</th>\n",
       "      <td>wreck</td>\n",
       "      <td>37</td>\n",
       "      <td>7</td>\n",
       "      <td>18.918919</td>\n",
       "    </tr>\n",
       "    <tr>\n",
       "      <th>220</th>\n",
       "      <td>wreckage</td>\n",
       "      <td>39</td>\n",
       "      <td>39</td>\n",
       "      <td>100.000000</td>\n",
       "    </tr>\n",
       "    <tr>\n",
       "      <th>221</th>\n",
       "      <td>wrecked</td>\n",
       "      <td>39</td>\n",
       "      <td>3</td>\n",
       "      <td>7.692308</td>\n",
       "    </tr>\n",
       "  </tbody>\n",
       "</table>\n",
       "<p>222 rows × 4 columns</p>\n",
       "</div>"
      ],
      "text/plain": [
       "               keyword  cantidad  Cant Disaster  % Disaster\n",
       "0              Nothing        61             42   68.852459\n",
       "1               ablaze        36             13   36.111111\n",
       "2             accident        35             24   68.571429\n",
       "3           aftershock        34              0    0.000000\n",
       "4    airplane accident        35             30   85.714286\n",
       "..                 ...       ...            ...         ...\n",
       "217            wounded        37             26   70.270270\n",
       "218             wounds        33             10   30.303030\n",
       "219              wreck        37              7   18.918919\n",
       "220           wreckage        39             39  100.000000\n",
       "221            wrecked        39              3    7.692308\n",
       "\n",
       "[222 rows x 4 columns]"
      ]
     },
     "execution_count": 71,
     "metadata": {},
     "output_type": "execute_result"
    }
   ],
   "source": [
    "C_grouped"
   ]
  },
  {
   "cell_type": "code",
   "execution_count": 72,
   "metadata": {},
   "outputs": [
    {
     "name": "stdout",
     "output_type": "stream",
     "text": [
      "Suma de tweets por keyword: 7613  =  Cantidad de filas en df: 7613\n"
     ]
    }
   ],
   "source": [
    "#Chequeo\n",
    "print (\"Suma de tweets por keyword:\", C_grouped.cantidad.sum(), \" = \",\"Cantidad de filas en df:\" , len(C_tweets.index))"
   ]
  },
  {
   "cell_type": "code",
   "execution_count": 73,
   "metadata": {},
   "outputs": [
    {
     "data": {
      "text/plain": [
       "Text(0.5, 1.0, 'Distribucion de la Frecuencia de keywords en el set')"
      ]
     },
     "execution_count": 73,
     "metadata": {},
     "output_type": "execute_result"
    },
    {
     "data": {
      "image/png": "[encoded data removed]",
      "text/plain": [
       "<Figure size 936x720 with 1 Axes>"
      ]
     },
     "metadata": {
      "needs_background": "light"
     },
     "output_type": "display_data"
    }
   ],
   "source": [
    "plt.rcParams['figure.figsize'] = (13, 10)\n",
    "g = sns.distplot(C_grouped[\"cantidad\"],bins=int(C_grouped[\"cantidad\"].max()),color='blue')\n",
    "g.set_ylabel('Densidad de Frecuencia de Keywords', fontsize=20)\n",
    "g.set_xlabel('Frecuencia de Keywords en el set', fontsize=20)\n",
    "g.set_title(\"Distribucion de la Frecuencia de keywords en el set\", fontsize=25)"
   ]
  },
  {
   "cell_type": "markdown",
   "metadata": {},
   "source": [
    "### Las frecuencias de las keywords en el set se concentran en los valores de 30 a 40 en seu mayoria con un pico en los valores intermedios a estos limites"
   ]
  },
  {
   "cell_type": "code",
   "execution_count": null,
   "metadata": {},
   "outputs": [],
   "source": []
  },
  {
   "cell_type": "markdown",
   "metadata": {},
   "source": [
    "### TOP 10 KEYWORDS MAS USADOS"
   ]
  },
  {
   "cell_type": "code",
   "execution_count": 105,
   "metadata": {},
   "outputs": [],
   "source": [
    "C_keyword_sort_by_frec =  C_grouped.sort_values(by='cantidad', ascending=False)"
   ]
  },
  {
   "cell_type": "code",
   "execution_count": 106,
   "metadata": {},
   "outputs": [],
   "source": [
    "TOP_10_mas =C_keyword_sort_by_frec.head(10)"
   ]
  },
  {
   "cell_type": "code",
   "execution_count": 107,
   "metadata": {},
   "outputs": [
    {
     "data": {
      "text/plain": [
       "Text(0.5, 1.0, 'TOP 10 Keywords mas usados')"
      ]
     },
     "execution_count": 107,
     "metadata": {},
     "output_type": "execute_result"
    },
    {
     "data": {
      "image/png": "[encoded data removed]",
      "text/plain": [
       "<Figure size 720x720 with 1 Axes>"
      ]
     },
     "metadata": {
      "needs_background": "light"
     },
     "output_type": "display_data"
    }
   ],
   "source": [
    "plt.rcParams['figure.figsize'] = (10, 10)\n",
    "g = sns.barplot(x=TOP_10_mas[\"cantidad\"] , y=TOP_10_mas[\"keyword\"] , orient='h',palette=\"rocket\")\n",
    "g.set_xlabel(\"Cantidad de tweets\", fontsize=13)\n",
    "g.set_ylabel(\"Keywords\", fontsize=13,)\n",
    "g.set_title(\"TOP 10 Keywords mas usados\", fontsize=20)"
   ]
  },
  {
   "cell_type": "markdown",
   "metadata": {},
   "source": [
    "#### El Keyword mas usado es Nothing, que seria NaN, ya que antes remplace los nans por Nothing como categoria.\n",
    "#### Aunque solo replesenta un 0.8%(61 / 7613) del total de tweets."
   ]
  },
  {
   "cell_type": "code",
   "execution_count": null,
   "metadata": {},
   "outputs": [],
   "source": []
  },
  {
   "cell_type": "markdown",
   "metadata": {},
   "source": [
    "### TOP 10 KEYWORDS MENOS USADOS"
   ]
  },
  {
   "cell_type": "code",
   "execution_count": 108,
   "metadata": {},
   "outputs": [],
   "source": [
    "TOP_10_menos=C_keyword_sort_by_frec.tail(10) "
   ]
  },
  {
   "cell_type": "code",
   "execution_count": 109,
   "metadata": {},
   "outputs": [
    {
     "data": {
      "text/plain": [
       "Text(0.5, 1.0, 'TOP 10 Keywords menos usados')"
      ]
     },
     "execution_count": 109,
     "metadata": {},
     "output_type": "execute_result"
    },
    {
     "data": {
      "image/png": "[encoded data removed]",
      "text/plain": [
       "<Figure size 720x720 with 1 Axes>"
      ]
     },
     "metadata": {
      "needs_background": "light"
     },
     "output_type": "display_data"
    }
   ],
   "source": [
    "plt.rcParams['figure.figsize'] = (10, 10)\n",
    "g = sns.barplot(x=TOP_10_menos[\"cantidad\"] , y=TOP_10_menos[\"keyword\"] , orient='h',palette='husl')\n",
    "g.set_xlabel(\"Cantidad de tweets\", fontsize=13)\n",
    "g.set_ylabel(\"Keywords\", fontsize=13,)\n",
    "g.set_title(\"TOP 10 Keywords menos usados\", fontsize=20)"
   ]
  },
  {
   "cell_type": "code",
   "execution_count": null,
   "metadata": {},
   "outputs": [],
   "source": []
  },
  {
   "cell_type": "markdown",
   "metadata": {},
   "source": [
    "## KEYWORDS A QUE TIENE MAS DESATRES EN PORCENTAJE"
   ]
  },
  {
   "cell_type": "markdown",
   "metadata": {},
   "source": [
    "#### Ahora partiendo de la idea de que ciertas Keywords suelen tener mayor porcentaje de ser tweets relacionados a desastres, se trato de buscar cuales son estos keywords para, a futuro, poder predecir con ayuda del keyword (si es que lo tiene), si un tweets realmente habla de un desatre en si o solo en un tweet muy exagerado(?)"
   ]
  },
  {
   "cell_type": "code",
   "execution_count": 121,
   "metadata": {},
   "outputs": [],
   "source": [
    "C_Keyword_sort_by_porcentaje = C_grouped.sort_values(by =\"% Disaster\", ascending = False) "
   ]
  },
  {
   "cell_type": "markdown",
   "metadata": {},
   "source": [
    "#### Como punto de partida para tomar una keyword como candidata a ser mas desastres que no desastre, tomare que mas del 90% de los tweets en esa keyword debe ser desastre"
   ]
  },
  {
   "cell_type": "code",
   "execution_count": 132,
   "metadata": {},
   "outputs": [],
   "source": [
    "C_Keyword_mayor_porcentaje = C_Keyword_sort_by_porcentaje[C_Keyword_sort_by_porcentaje[\"% Disaster\"] > 90]"
   ]
  },
  {
   "cell_type": "code",
   "execution_count": 133,
   "metadata": {},
   "outputs": [
    {
     "data": {
      "text/html": [
       "<div>\n",
       "<style scoped>\n",
       "    .dataframe tbody tr th:only-of-type {\n",
       "        vertical-align: middle;\n",
       "    }\n",
       "\n",
       "    .dataframe tbody tr th {\n",
       "        vertical-align: top;\n",
       "    }\n",
       "\n",
       "    .dataframe thead th {\n",
       "        text-align: right;\n",
       "    }\n",
       "</style>\n",
       "<table border=\"1\" class=\"dataframe\">\n",
       "  <thead>\n",
       "    <tr style=\"text-align: right;\">\n",
       "      <th></th>\n",
       "      <th>keyword</th>\n",
       "      <th>cantidad</th>\n",
       "      <th>Cant Disaster</th>\n",
       "      <th>% Disaster</th>\n",
       "    </tr>\n",
       "  </thead>\n",
       "  <tbody>\n",
       "    <tr>\n",
       "      <th>220</th>\n",
       "      <td>wreckage</td>\n",
       "      <td>39</td>\n",
       "      <td>39</td>\n",
       "      <td>100.000000</td>\n",
       "    </tr>\n",
       "    <tr>\n",
       "      <th>63</th>\n",
       "      <td>debris</td>\n",
       "      <td>37</td>\n",
       "      <td>37</td>\n",
       "      <td>100.000000</td>\n",
       "    </tr>\n",
       "    <tr>\n",
       "      <th>71</th>\n",
       "      <td>derailment</td>\n",
       "      <td>39</td>\n",
       "      <td>39</td>\n",
       "      <td>100.000000</td>\n",
       "    </tr>\n",
       "    <tr>\n",
       "      <th>154</th>\n",
       "      <td>outbreak</td>\n",
       "      <td>40</td>\n",
       "      <td>39</td>\n",
       "      <td>97.500000</td>\n",
       "    </tr>\n",
       "    <tr>\n",
       "      <th>153</th>\n",
       "      <td>oil spill</td>\n",
       "      <td>38</td>\n",
       "      <td>37</td>\n",
       "      <td>97.368421</td>\n",
       "    </tr>\n",
       "    <tr>\n",
       "      <th>206</th>\n",
       "      <td>typhoon</td>\n",
       "      <td>38</td>\n",
       "      <td>37</td>\n",
       "      <td>97.368421</td>\n",
       "    </tr>\n",
       "    <tr>\n",
       "      <th>188</th>\n",
       "      <td>suicide bombing</td>\n",
       "      <td>33</td>\n",
       "      <td>32</td>\n",
       "      <td>96.969697</td>\n",
       "    </tr>\n",
       "    <tr>\n",
       "      <th>187</th>\n",
       "      <td>suicide bomber</td>\n",
       "      <td>31</td>\n",
       "      <td>30</td>\n",
       "      <td>96.774194</td>\n",
       "    </tr>\n",
       "    <tr>\n",
       "      <th>33</th>\n",
       "      <td>bombing</td>\n",
       "      <td>29</td>\n",
       "      <td>27</td>\n",
       "      <td>93.103448</td>\n",
       "    </tr>\n",
       "    <tr>\n",
       "      <th>186</th>\n",
       "      <td>suicide bomb</td>\n",
       "      <td>35</td>\n",
       "      <td>32</td>\n",
       "      <td>91.428571</td>\n",
       "    </tr>\n",
       "    <tr>\n",
       "      <th>167</th>\n",
       "      <td>rescuers</td>\n",
       "      <td>35</td>\n",
       "      <td>32</td>\n",
       "      <td>91.428571</td>\n",
       "    </tr>\n",
       "    <tr>\n",
       "      <th>148</th>\n",
       "      <td>nuclear disaster</td>\n",
       "      <td>34</td>\n",
       "      <td>31</td>\n",
       "      <td>91.176471</td>\n",
       "    </tr>\n",
       "  </tbody>\n",
       "</table>\n",
       "</div>"
      ],
      "text/plain": [
       "              keyword  cantidad  Cant Disaster  % Disaster\n",
       "220          wreckage        39             39  100.000000\n",
       "63             debris        37             37  100.000000\n",
       "71         derailment        39             39  100.000000\n",
       "154          outbreak        40             39   97.500000\n",
       "153         oil spill        38             37   97.368421\n",
       "206           typhoon        38             37   97.368421\n",
       "188   suicide bombing        33             32   96.969697\n",
       "187    suicide bomber        31             30   96.774194\n",
       "33            bombing        29             27   93.103448\n",
       "186      suicide bomb        35             32   91.428571\n",
       "167          rescuers        35             32   91.428571\n",
       "148  nuclear disaster        34             31   91.176471"
      ]
     },
     "execution_count": 133,
     "metadata": {},
     "output_type": "execute_result"
    }
   ],
   "source": [
    "C_Keyword_mayor_porcentaje"
   ]
  },
  {
   "cell_type": "code",
   "execution_count": 144,
   "metadata": {},
   "outputs": [
    {
     "data": {
      "text/plain": [
       "Text(0.5, 1.0, 'Keywords que tiene mas desastres(en %)')"
      ]
     },
     "execution_count": 144,
     "metadata": {},
     "output_type": "execute_result"
    },
    {
     "data": {
      "image/png": "[encoded data removed]",
      "text/plain": [
       "<Figure size 720x720 with 1 Axes>"
      ]
     },
     "metadata": {
      "needs_background": "light"
     },
     "output_type": "display_data"
    }
   ],
   "source": [
    "plt.rcParams['figure.figsize'] = (10, 10)\n",
    "g = sns.barplot(x=C_Keyword_mayor_porcentaje[\"% Disaster\"] , y=C_Keyword_mayor_porcentaje[\"keyword\"] , orient='h',palette='husl')\n",
    "g.set_xlabel(\"Porcentaje\", fontsize=13)\n",
    "g.set_ylabel(\"Keywords\", fontsize=13,)\n",
    "g.set_title(\"Keywords que tiene mas desastres(en %)\", fontsize=20)"
   ]
  },
  {
   "cell_type": "markdown",
   "metadata": {},
   "source": [
    "\n",
    "#### Como conclusion, con el set de datos que tenemos, se puede considerar a los tweets con KEYWORD \"wreckage\", \"debris\" y \"derailment\" como sospechosos (en el TP2) a ser Desastres reales, ya que su % de aciertos es del 100%. Mientras que a los demas del barplot tambien se los puede tomar como posibles desastres, pero con menor certeza."
   ]
  },
  {
   "cell_type": "markdown",
   "metadata": {},
   "source": [
    "#### De igual forma se realiza con los de menor porcentaje, tomando como tope si tiene un porcentaje menor al 10 en aciertos"
   ]
  },
  {
   "cell_type": "code",
   "execution_count": 136,
   "metadata": {},
   "outputs": [],
   "source": [
    "C_Keyword_menor_porcentaje = C_Keyword_sort_by_porcentaje[C_Keyword_sort_by_porcentaje[\"% Disaster\"] < 10]"
   ]
  },
  {
   "cell_type": "code",
   "execution_count": 138,
   "metadata": {},
   "outputs": [
    {
     "data": {
      "text/html": [
       "<div>\n",
       "<style scoped>\n",
       "    .dataframe tbody tr th:only-of-type {\n",
       "        vertical-align: middle;\n",
       "    }\n",
       "\n",
       "    .dataframe tbody tr th {\n",
       "        vertical-align: top;\n",
       "    }\n",
       "\n",
       "    .dataframe thead th {\n",
       "        text-align: right;\n",
       "    }\n",
       "</style>\n",
       "<table border=\"1\" class=\"dataframe\">\n",
       "  <thead>\n",
       "    <tr style=\"text-align: right;\">\n",
       "      <th></th>\n",
       "      <th>keyword</th>\n",
       "      <th>cantidad</th>\n",
       "      <th>Cant Disaster</th>\n",
       "      <th>% Disaster</th>\n",
       "    </tr>\n",
       "  </thead>\n",
       "  <tbody>\n",
       "    <tr>\n",
       "      <th>120</th>\n",
       "      <td>harm</td>\n",
       "      <td>41</td>\n",
       "      <td>4</td>\n",
       "      <td>9.756098</td>\n",
       "    </tr>\n",
       "    <tr>\n",
       "      <th>84</th>\n",
       "      <td>drown</td>\n",
       "      <td>32</td>\n",
       "      <td>3</td>\n",
       "      <td>9.375000</td>\n",
       "    </tr>\n",
       "    <tr>\n",
       "      <th>184</th>\n",
       "      <td>stretcher</td>\n",
       "      <td>33</td>\n",
       "      <td>3</td>\n",
       "      <td>9.090909</td>\n",
       "    </tr>\n",
       "    <tr>\n",
       "      <th>49</th>\n",
       "      <td>collide</td>\n",
       "      <td>34</td>\n",
       "      <td>3</td>\n",
       "      <td>8.823529</td>\n",
       "    </tr>\n",
       "    <tr>\n",
       "      <th>181</th>\n",
       "      <td>smoke</td>\n",
       "      <td>34</td>\n",
       "      <td>3</td>\n",
       "      <td>8.823529</td>\n",
       "    </tr>\n",
       "    <tr>\n",
       "      <th>26</th>\n",
       "      <td>bloody</td>\n",
       "      <td>35</td>\n",
       "      <td>3</td>\n",
       "      <td>8.571429</td>\n",
       "    </tr>\n",
       "    <tr>\n",
       "      <th>95</th>\n",
       "      <td>epicentre</td>\n",
       "      <td>12</td>\n",
       "      <td>1</td>\n",
       "      <td>8.333333</td>\n",
       "    </tr>\n",
       "    <tr>\n",
       "      <th>156</th>\n",
       "      <td>panic</td>\n",
       "      <td>37</td>\n",
       "      <td>3</td>\n",
       "      <td>8.108108</td>\n",
       "    </tr>\n",
       "    <tr>\n",
       "      <th>99</th>\n",
       "      <td>explode</td>\n",
       "      <td>38</td>\n",
       "      <td>3</td>\n",
       "      <td>7.894737</td>\n",
       "    </tr>\n",
       "    <tr>\n",
       "      <th>221</th>\n",
       "      <td>wrecked</td>\n",
       "      <td>39</td>\n",
       "      <td>3</td>\n",
       "      <td>7.692308</td>\n",
       "    </tr>\n",
       "    <tr>\n",
       "      <th>23</th>\n",
       "      <td>blight</td>\n",
       "      <td>32</td>\n",
       "      <td>2</td>\n",
       "      <td>6.250000</td>\n",
       "    </tr>\n",
       "    <tr>\n",
       "      <th>157</th>\n",
       "      <td>panicking</td>\n",
       "      <td>33</td>\n",
       "      <td>2</td>\n",
       "      <td>6.060606</td>\n",
       "    </tr>\n",
       "    <tr>\n",
       "      <th>22</th>\n",
       "      <td>blew up</td>\n",
       "      <td>33</td>\n",
       "      <td>2</td>\n",
       "      <td>6.060606</td>\n",
       "    </tr>\n",
       "    <tr>\n",
       "      <th>202</th>\n",
       "      <td>traumatised</td>\n",
       "      <td>35</td>\n",
       "      <td>2</td>\n",
       "      <td>5.714286</td>\n",
       "    </tr>\n",
       "    <tr>\n",
       "      <th>174</th>\n",
       "      <td>screaming</td>\n",
       "      <td>36</td>\n",
       "      <td>2</td>\n",
       "      <td>5.555556</td>\n",
       "    </tr>\n",
       "    <tr>\n",
       "      <th>89</th>\n",
       "      <td>electrocute</td>\n",
       "      <td>32</td>\n",
       "      <td>1</td>\n",
       "      <td>3.125000</td>\n",
       "    </tr>\n",
       "    <tr>\n",
       "      <th>28</th>\n",
       "      <td>body bag</td>\n",
       "      <td>33</td>\n",
       "      <td>1</td>\n",
       "      <td>3.030303</td>\n",
       "    </tr>\n",
       "    <tr>\n",
       "      <th>20</th>\n",
       "      <td>blazing</td>\n",
       "      <td>34</td>\n",
       "      <td>1</td>\n",
       "      <td>2.941176</td>\n",
       "    </tr>\n",
       "    <tr>\n",
       "      <th>171</th>\n",
       "      <td>ruin</td>\n",
       "      <td>37</td>\n",
       "      <td>1</td>\n",
       "      <td>2.702703</td>\n",
       "    </tr>\n",
       "    <tr>\n",
       "      <th>30</th>\n",
       "      <td>body bags</td>\n",
       "      <td>41</td>\n",
       "      <td>1</td>\n",
       "      <td>2.439024</td>\n",
       "    </tr>\n",
       "    <tr>\n",
       "      <th>3</th>\n",
       "      <td>aftershock</td>\n",
       "      <td>34</td>\n",
       "      <td>0</td>\n",
       "      <td>0.000000</td>\n",
       "    </tr>\n",
       "  </tbody>\n",
       "</table>\n",
       "</div>"
      ],
      "text/plain": [
       "         keyword  cantidad  Cant Disaster  % Disaster\n",
       "120         harm        41              4    9.756098\n",
       "84         drown        32              3    9.375000\n",
       "184    stretcher        33              3    9.090909\n",
       "49       collide        34              3    8.823529\n",
       "181        smoke        34              3    8.823529\n",
       "26        bloody        35              3    8.571429\n",
       "95     epicentre        12              1    8.333333\n",
       "156        panic        37              3    8.108108\n",
       "99       explode        38              3    7.894737\n",
       "221      wrecked        39              3    7.692308\n",
       "23        blight        32              2    6.250000\n",
       "157    panicking        33              2    6.060606\n",
       "22       blew up        33              2    6.060606\n",
       "202  traumatised        35              2    5.714286\n",
       "174    screaming        36              2    5.555556\n",
       "89   electrocute        32              1    3.125000\n",
       "28      body bag        33              1    3.030303\n",
       "20       blazing        34              1    2.941176\n",
       "171         ruin        37              1    2.702703\n",
       "30     body bags        41              1    2.439024\n",
       "3     aftershock        34              0    0.000000"
      ]
     },
     "execution_count": 138,
     "metadata": {},
     "output_type": "execute_result"
    }
   ],
   "source": [
    "C_Keyword_menor_porcentaje"
   ]
  },
  {
   "cell_type": "code",
   "execution_count": 143,
   "metadata": {},
   "outputs": [
    {
     "data": {
      "text/plain": [
       "Text(0.5, 1.0, 'Keywords que tiene menos desastres(en %)')"
      ]
     },
     "execution_count": 143,
     "metadata": {},
     "output_type": "execute_result"
    },
    {
     "data": {
      "image/png": "[encoded data removed]",
      "text/plain": [
       "<Figure size 720x720 with 1 Axes>"
      ]
     },
     "metadata": {
      "needs_background": "light"
     },
     "output_type": "display_data"
    }
   ],
   "source": [
    "plt.rcParams['figure.figsize'] = (10, 10)\n",
    "g = sns.barplot(x=C_Keyword_menor_porcentaje[\"% Disaster\"] , y=C_Keyword_menor_porcentaje[\"keyword\"] , orient='h',palette='husl')\n",
    "g.set_xlabel(\"Porcentaje\", fontsize=13)\n",
    "g.set_ylabel(\"Keywords\", fontsize=13,)\n",
    "g.set_title(\"Keywords que tiene menos desastres(en %)\", fontsize=20)"
   ]
  },
  {
   "cell_type": "markdown",
   "metadata": {},
   "source": [
    "#### Aca, ya por tener un pequeño % de aciertos, todas las keywords no deberian ser tenidas en cuenta para predecir si es desastre (o por contraparte, tenerlas en cuenta si se quiere predecir cuales no son desatres, que es basicamente lo mismo, ya que busco un SI o NO). Aun menos si es \"aftershock\", el cual tiene un 0% de aciertos."
   ]
  },
  {
   "cell_type": "code",
   "execution_count": null,
   "metadata": {},
   "outputs": [],
   "source": []
  },
  {
   "cell_type": "markdown",
   "metadata": {},
   "source": [
    "## Keyword NaN "
   ]
  },
  {
   "cell_type": "markdown",
   "metadata": {},
   "source": [
    "##### Al yo, haber cambiado nana por Nothing, trabajare con Nothing"
   ]
  },
  {
   "cell_type": "code",
   "execution_count": 190,
   "metadata": {},
   "outputs": [],
   "source": [
    "C_Keyword_Nan = C_tweets[C_tweets[\"keyword\"]==\"Nothing\"]\n",
    "C_Keyword_Nan = C_Keyword_Nan.groupby([\"target\"]).agg({\"text\":\"count\"}) #Cuento cuantos textos ahi con 0 y 1\n",
    "                                                                        #, lo mismo que cuanrtos 1 o 0 existen"
   ]
  },
  {
   "cell_type": "code",
   "execution_count": 191,
   "metadata": {},
   "outputs": [],
   "source": [
    "C_Keyword_Nan = C_Keyword_Nan.rename(columns={\"text\":\"cantidad\"})\n",
    "C_Keyword_Nan.reset_index(inplace=True)\n",
    "C_Keyword_Nan[\"% target\"] = C_Keyword_Nan[\"cantidad\"] / C_Keyword_Nan[\"cantidad\"].sum() *100"
   ]
  },
  {
   "cell_type": "code",
   "execution_count": 198,
   "metadata": {},
   "outputs": [
    {
     "data": {
      "text/html": [
       "<div>\n",
       "<style scoped>\n",
       "    .dataframe tbody tr th:only-of-type {\n",
       "        vertical-align: middle;\n",
       "    }\n",
       "\n",
       "    .dataframe tbody tr th {\n",
       "        vertical-align: top;\n",
       "    }\n",
       "\n",
       "    .dataframe thead th {\n",
       "        text-align: right;\n",
       "    }\n",
       "</style>\n",
       "<table border=\"1\" class=\"dataframe\">\n",
       "  <thead>\n",
       "    <tr style=\"text-align: right;\">\n",
       "      <th></th>\n",
       "      <th>target</th>\n",
       "      <th>cantidad</th>\n",
       "      <th>% target</th>\n",
       "    </tr>\n",
       "  </thead>\n",
       "  <tbody>\n",
       "    <tr>\n",
       "      <th>0</th>\n",
       "      <td>0</td>\n",
       "      <td>19</td>\n",
       "      <td>31.147541</td>\n",
       "    </tr>\n",
       "    <tr>\n",
       "      <th>1</th>\n",
       "      <td>1</td>\n",
       "      <td>42</td>\n",
       "      <td>68.852459</td>\n",
       "    </tr>\n",
       "  </tbody>\n",
       "</table>\n",
       "</div>"
      ],
      "text/plain": [
       "   target  cantidad   % target\n",
       "0       0        19  31.147541\n",
       "1       1        42  68.852459"
      ]
     },
     "execution_count": 198,
     "metadata": {},
     "output_type": "execute_result"
    }
   ],
   "source": [
    "C_Keyword_Nan"
   ]
  },
  {
   "cell_type": "code",
   "execution_count": 199,
   "metadata": {},
   "outputs": [
    {
     "data": {
      "text/plain": [
       "Text(0.5, 1.0, 'Porcentaje de desatres en Keyword NaN')"
      ]
     },
     "execution_count": 199,
     "metadata": {},
     "output_type": "execute_result"
    },
    {
     "data": {
      "image/png": "[encoded data removed]",
      "text/plain": [
       "<Figure size 720x720 with 1 Axes>"
      ]
     },
     "metadata": {
      "needs_background": "light"
     },
     "output_type": "display_data"
    }
   ],
   "source": [
    "g = sns.barplot(x =C_Keyword_Nan[\"target\"] , y=C_Keyword_Nan[\"% target\"] , orient='v',)\n",
    "g.set_ylabel(\"Porcentaje de Target en Nan\", fontsize=13)\n",
    "g.set_xlabel(\"Target\", fontsize=13,)\n",
    "g.set_title(\"Porcentaje de desatres en Keyword NaN\", fontsize=20)"
   ]
  },
  {
   "cell_type": "code",
   "execution_count": null,
   "metadata": {},
   "outputs": [],
   "source": []
  }
 ],
 "metadata": {
  "kernelspec": {
   "display_name": "Python 3",
   "language": "python",
   "name": "python3"
  },
  "language_info": {
   "codemirror_mode": {
    "name": "ipython",
    "version": 3
   },
   "file_extension": ".py",
   "mimetype": "text/x-python",
   "name": "python",
   "nbconvert_exporter": "python",
   "pygments_lexer": "ipython3",
   "version": "3.7.5"
  }
 },
 "nbformat": 4,
 "nbformat_minor": 2
}
