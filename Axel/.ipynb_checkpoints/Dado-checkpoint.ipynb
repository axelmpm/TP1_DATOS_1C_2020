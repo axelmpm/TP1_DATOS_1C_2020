{
 "cells": [
  {
   "cell_type": "code",
   "execution_count": 3,
   "metadata": {},
   "outputs": [],
   "source": [
    "class Cost:\n",
    "    \n",
    "    \n",
    "    def __init__(self):\n",
    "        \n",
    "        self.stack = 0\n",
    "        self.factor = 2\n",
    "        self.basePrices = {\n",
    "            \n",
    "            'cubiertos' : 1,\n",
    "            'vaso chico' : 3,\n",
    "            'vaso grande' : 4,\n",
    "            'plato' : 5,\n",
    "            'botella' : 5\n",
    "        }\n",
    "        \n",
    "    def setFactor(self,newFactor):\n",
    "        self.factor = newFactor\n",
    "        \n",
    "    def rise(self, n = 1):\n",
    "        \n",
    "        for i in range(n):\n",
    "            self.stack += 1\n",
    "    \n",
    "    def decline(self, n = 1):\n",
    "        \n",
    "        for i in range(n):\n",
    "            if self.stack > 0:\n",
    "                 self.stack -= 1\n",
    "    \n",
    "    def get(self,stuff):\n",
    "        \n",
    "        price = 0\n",
    "        for thing in stuff:\n",
    "            price += self.basePrices[thing] * (self.factor ** self.stack)\n",
    "        return price"
   ]
  },
  {
   "cell_type": "code",
   "execution_count": null,
   "metadata": {},
   "outputs": [],
   "source": []
  }
 ],
 "metadata": {
  "kernelspec": {
   "display_name": "Python 3",
   "language": "python",
   "name": "python3"
  },
  "language_info": {
   "codemirror_mode": {
    "name": "ipython",
    "version": 3
   },
   "file_extension": ".py",
   "mimetype": "text/x-python",
   "name": "python",
   "nbconvert_exporter": "python",
   "pygments_lexer": "ipython3",
   "version": "3.6.9"
  }
 },
 "nbformat": 4,
 "nbformat_minor": 2
}
