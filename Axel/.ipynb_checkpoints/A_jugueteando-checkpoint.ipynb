{
 "cells": [
  {
   "cell_type": "code",
   "execution_count": 1,
   "metadata": {},
   "outputs": [],
   "source": [
    "#IMPORTS\n",
    "%run ../datuslib.ipynb"
   ]
  },
  {
   "cell_type": "code",
   "execution_count": 2,
   "metadata": {},
   "outputs": [],
   "source": [
    "A_tweets = pd.read_csv(generateAbsolutePath('tweetsTP2.csv', exists = True), index_col = 0)"
   ]
  },
  {
   "cell_type": "code",
   "execution_count": 8,
   "metadata": {},
   "outputs": [],
   "source": [
    "metrics = ['negativity', 'length','importance']\n",
    "granurality = 5\n",
    "\n",
    "A_varDF = mesasureWithMetrics(isDisaster,metrics,A_tweets,granurality)"
   ]
  },
  {
   "cell_type": "code",
   "execution_count": null,
   "metadata": {},
   "outputs": [],
   "source": [
    "x = metrics[0]\n",
    "y = metrics[1]\n",
    "\n",
    "heatmap(x,y,'frecs',A_varDF,\n",
    "        xrotate = 90, linewidths = 0.5, annot = True, figX = 15, figY = 7, fmt = 'g',\n",
    "        title = x + ' vs ' + y, aggregation = sum)"
   ]
  },
  {
   "cell_type": "code",
   "execution_count": null,
   "metadata": {
    "scrolled": false
   },
   "outputs": [],
   "source": [
    "x = metrics[0]\n",
    "y = metrics[1]\n",
    "\n",
    "heatmap(x,y,'probability',A_varDF,\n",
    "        xrotate = 90, linewidths = 0.5, annot = True, figX = 15, figY = 7, fmt = '.1g',\n",
    "        title = x + ' vs ' + y, aggregation = mean)"
   ]
  },
  {
   "cell_type": "code",
   "execution_count": null,
   "metadata": {},
   "outputs": [],
   "source": [
    "x = metrics[0]\n",
    "y = metrics[2]\n",
    "\n",
    "heatmap(x,y,'frecs',A_varDF,\n",
    "        xrotate = 90, linewidths = 0.5, annot = True, figX = 15, figY = 7, fmt = 'g',\n",
    "        title = x + ' vs ' + y, aggregation = sum)"
   ]
  },
  {
   "cell_type": "code",
   "execution_count": null,
   "metadata": {},
   "outputs": [],
   "source": [
    "x = metrics[0]\n",
    "y = metrics[2]\n",
    "\n",
    "heatmap(x,y,'probability',A_varDF,\n",
    "        xrotate = 90, linewidths = 0.5, annot = True, figX = 15, figY = 7, fmt = '.1g',\n",
    "        title = x + ' vs ' + y, aggregation = mean)"
   ]
  },
  {
   "cell_type": "code",
   "execution_count": null,
   "metadata": {},
   "outputs": [],
   "source": [
    "x = metrics[1]\n",
    "y = metrics[2]\n",
    "\n",
    "heatmap(x,y,'frecs',A_varDF,\n",
    "        xrotate = 90, linewidths = 0.5, annot = True, figX = 15, figY = 7, fmt = 'g',\n",
    "        title = x + ' vs ' + y, aggregation = sum)"
   ]
  },
  {
   "cell_type": "code",
   "execution_count": null,
   "metadata": {},
   "outputs": [],
   "source": [
    "x = metrics[1]\n",
    "y = metrics[2]\n",
    "\n",
    "heatmap(x,y,'probability',A_varDF,\n",
    "        xrotate = 90, linewidths = 0.5, annot = True, figX = 15, figY = 7, fmt = '.1g',\n",
    "        title = x + ' vs ' + y, aggregation = mean)"
   ]
  },
  {
   "cell_type": "code",
   "execution_count": 4,
   "metadata": {},
   "outputs": [
    {
     "name": "stdout",
     "output_type": "stream",
     "text": [
      "Using matplotlib backend: GTK3Agg\n"
     ]
    }
   ],
   "source": [
    "%matplotlib"
   ]
  },
  {
   "cell_type": "code",
   "execution_count": 9,
   "metadata": {},
   "outputs": [],
   "source": [
    "fig = pyplot.figure()\n",
    "fig  = plt.figure(figsize=(10,10))\n",
    "ax = Axes3D(fig)\n",
    "\n",
    "x = list(A_varDF[metrics[0]])\n",
    "y = list(A_varDF[metrics[1]])\n",
    "z = list(A_varDF[metrics[2]])\n",
    "c = list(A_varDF['proportion'])\n",
    "\n",
    "ax.scatter(x, y, z, c = c, cmap = plt.get_cmap(\"hot\"))\n",
    "ax.invert_xaxis()\n",
    "\n",
    "for angle in range(0, 360):\n",
    "    ax.view_init(30, angle)\n",
    "    plt.draw()\n",
    "    "
   ]
  },
  {
   "cell_type": "code",
   "execution_count": 10,
   "metadata": {},
   "outputs": [],
   "source": [
    "fig = pyplot.figure()\n",
    "fig  = plt.figure(figsize=(10,10))\n",
    "ax = Axes3D(fig)\n",
    "\n",
    "x = list(A_varDF[metrics[0]])\n",
    "y = list(A_varDF[metrics[1]])\n",
    "z = list(A_varDF[metrics[2]])\n",
    "c = list(A_varDF['probability'])\n",
    "\n",
    "ax.scatter(x, y, z, c = c, cmap = plt.get_cmap(\"hot\"))\n",
    "ax.invert_xaxis()\n",
    "\n",
    "for angle in range(0, 360):\n",
    "    ax.view_init(30, angle)\n",
    "    plt.draw()"
   ]
  },
  {
   "cell_type": "code",
   "execution_count": null,
   "metadata": {},
   "outputs": [],
   "source": []
  },
  {
   "cell_type": "code",
   "execution_count": null,
   "metadata": {},
   "outputs": [],
   "source": []
  },
  {
   "cell_type": "code",
   "execution_count": null,
   "metadata": {},
   "outputs": [],
   "source": []
  }
 ],
 "metadata": {
  "kernelspec": {
   "display_name": "Python 3",
   "language": "python",
   "name": "python3"
  },
  "language_info": {
   "codemirror_mode": {
    "name": "ipython",
    "version": 3
   },
   "file_extension": ".py",
   "mimetype": "text/x-python",
   "name": "python",
   "nbconvert_exporter": "python",
   "pygments_lexer": "ipython3",
   "version": "3.6.9"
  }
 },
 "nbformat": 4,
 "nbformat_minor": 2
}
