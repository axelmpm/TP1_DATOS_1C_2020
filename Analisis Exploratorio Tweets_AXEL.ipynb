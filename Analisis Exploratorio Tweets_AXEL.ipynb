{
 "cells": [
  {
   "cell_type": "code",
   "execution_count": null,
   "metadata": {},
   "outputs": [],
   "source": [
    "#IMPORTS\n",
    "\n",
    "import pandas as pd\n",
    "import seaborn as sns\n",
    "import numpy as np\n",
    "import matplotlib.pyplot as plt\n",
    "import sys,os"
   ]
  },
  {
   "cell_type": "code",
   "execution_count": 37,
   "metadata": {},
   "outputs": [],
   "source": []
  },
  {
   "cell_type": "code",
   "execution_count": 46,
   "metadata": {},
   "outputs": [],
   "source": [
    "def generateAbsolutePath(fileName):\n",
    "    return  os.path.abspath('') + '/' + fileName"
   ]
  },
  {
   "cell_type": "code",
   "execution_count": 61,
   "metadata": {},
   "outputs": [],
   "source": [
    "def getWordInListFromFile(fileName):\n",
    "    \n",
    "    file = open(generateAbsolutePath(fileName),'r')\n",
    "    \n",
    "    l = []\n",
    "    \n",
    "    for line in file:\n",
    "        if len(line[:-1]) > 1:\n",
    "            l.append(line[:-1]) #le saco el \\n\n",
    "    file.close()\n",
    "    return l"
   ]
  },
  {
   "cell_type": "code",
   "execution_count": 62,
   "metadata": {},
   "outputs": [],
   "source": [
    "def hasCertainWords(text,words):\n",
    "    \n",
    "    for word in words:\n",
    "        if word in text:\n",
    "            return True\n",
    "    return False"
   ]
  },
  {
   "cell_type": "code",
   "execution_count": 63,
   "metadata": {},
   "outputs": [],
   "source": [
    "NEGATIVE_WORDS = getWordInListFromFile('badWords.txt')"
   ]
  },
  {
   "cell_type": "code",
   "execution_count": 65,
   "metadata": {},
   "outputs": [],
   "source": [
    "def hasNegativeWords(text):\n",
    "    \n",
    "    return hasCertainWords(text,NEGATIVE_WORDS)"
   ]
  },
  {
   "cell_type": "code",
   "execution_count": 66,
   "metadata": {},
   "outputs": [],
   "source": [
    "#SETTINGS\n",
    "\n",
    "sns.set(rc = {'figure.figsize':(15,5)})\n",
    "sns.set(font_scale = 1.7)"
   ]
  },
  {
   "cell_type": "code",
   "execution_count": 67,
   "metadata": {},
   "outputs": [],
   "source": [
    "#CARGA DATA\n",
    "\n",
    "tweets = pd.read_csv(generateAbsolutePath(\"train.csv\"))"
   ]
  },
  {
   "cell_type": "code",
   "execution_count": 68,
   "metadata": {},
   "outputs": [],
   "source": [
    "#(AGREGA) CAMPO DE LONGITUD DE TWEETS\n",
    "\n",
    "tweets2 = tweets\n",
    "\n",
    "tweets2['length'] = tweets2.apply(lambda row : len(row['text']), axis = 1)"
   ]
  },
  {
   "cell_type": "code",
   "execution_count": 69,
   "metadata": {},
   "outputs": [],
   "source": [
    "#(AGREGA) CAMPO DE PALABRAS NEGATIVAS\n",
    "\n",
    "tweets3 = tweets2\n",
    "\n",
    "tweets3['uses negative words'] = tweets2.apply(lambda row : int(hasNegativeWords(row['text'])), axis = 1)"
   ]
  },
  {
   "cell_type": "code",
   "execution_count": 73,
   "metadata": {},
   "outputs": [
    {
     "data": {
      "text/plain": [
       "3017"
      ]
     },
     "execution_count": 73,
     "metadata": {},
     "output_type": "execute_result"
    }
   ],
   "source": [
    "tweets3[ tweets3['uses negative words'] == 1]['uses negative words'].count()"
   ]
  },
  {
   "cell_type": "code",
   "execution_count": 74,
   "metadata": {},
   "outputs": [
    {
     "data": {
      "text/plain": [
       "4596"
      ]
     },
     "execution_count": 74,
     "metadata": {},
     "output_type": "execute_result"
    }
   ],
   "source": [
    "tweets3[ tweets3['uses negative words'] == 0]['uses negative words'].count()"
   ]
  },
  {
   "cell_type": "code",
   "execution_count": null,
   "metadata": {},
   "outputs": [],
   "source": []
  }
 ],
 "metadata": {
  "kernelspec": {
   "display_name": "Python 3",
   "language": "python",
   "name": "python3"
  },
  "language_info": {
   "codemirror_mode": {
    "name": "ipython",
    "version": 3
   },
   "file_extension": ".py",
   "mimetype": "text/x-python",
   "name": "python",
   "nbconvert_exporter": "python",
   "pygments_lexer": "ipython3",
   "version": "3.6.9"
  }
 },
 "nbformat": 4,
 "nbformat_minor": 2
}
